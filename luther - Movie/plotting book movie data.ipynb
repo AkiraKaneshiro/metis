{
 "metadata": {
  "name": "",
  "signature": "sha256:cc6bc5faa7cc9d7fcb13e08982957615a4559f7a634a13408b42543df8b102a3"
 },
 "nbformat": 3,
 "nbformat_minor": 0,
 "worksheets": [
  {
   "cells": [
    {
     "cell_type": "code",
     "collapsed": false,
     "input": [
      "import pandas as pd\n",
      "import plotters\n",
      "\n",
      "movie_book_final = pd.read_csv('final_output.csv')"
     ],
     "language": "python",
     "metadata": {},
     "outputs": [],
     "prompt_number": 3
    },
    {
     "cell_type": "code",
     "collapsed": false,
     "input": [],
     "language": "python",
     "metadata": {},
     "outputs": [],
     "prompt_number": 2
    },
    {
     "cell_type": "code",
     "collapsed": false,
     "input": [
      "x = movie_book_final['goodreads_ratings']\n",
      "y = movie_book_final['adj_domestic']/1e6\n",
      "name = movie_book_final['movie_title']\n",
      "\n",
      "# initiate hover plotter                                                                                                                                                                   \n",
      "plotter = plotters.TwoVariableComparisonPlotter(x, y, name,\n",
      "                                                x_range=(None, None),\n",
      "                                                y_range = (None, None),\n",
      "                                                label_display_style=\"hover\",\n",
      "                                                xlabel=\"GoodReads Ratings\",\n",
      "                                                ylabel = \"Domestic Gross (million dollars)\")\n",
      "\n",
      "# plot!                                                                                                                                                                              \n",
      "plotter.add_text(0, 360, \"Highly\\nprofitable\")\n",
      "plotter.add_text(200, 0, \"Absolutely\\nregrettable\")\n",
      "\n",
      "plotter.plot()"
     ],
     "language": "python",
     "metadata": {},
     "outputs": [],
     "prompt_number": 2
    },
    {
     "cell_type": "code",
     "collapsed": false,
     "input": [
      "x = movie_book_final['adj_budget']/1e6\n",
      "y = movie_book_final['adj_domestic']/1e6\n",
      "name = movie_book_final['movie_title']\n",
      "\n",
      "# initiate hover plotter                                                                                                                                                                   \n",
      "plotter = plotters.TwoVariableComparisonPlotter(x, y, name,\n",
      "                                                x_range=(None, None),\n",
      "                                                y_range = (None, None),\n",
      "                                                label_display_style=\"hover\",\n",
      "                                                xlabel=\"Budget\",\n",
      "                                                ylabel = \"Domestic Gross (million dollars)\")\n",
      "\n",
      "# plot!                                                                                                                                                                              \n",
      "plotter.add_text(0, 360, \"Highly\\nprofitable\")\n",
      "plotter.add_text(200, 0, \"Absolutely\\nregrettable\")\n",
      "\n",
      "plotter.plot()"
     ],
     "language": "python",
     "metadata": {},
     "outputs": []
    },
    {
     "cell_type": "code",
     "collapsed": false,
     "input": [
      "plotter.add_text(0, 360, \"Highly\\nprofitable\")\n",
      "plotter.add_text(200, 0, \"Absolutely\\nregrettable\")"
     ],
     "language": "python",
     "metadata": {},
     "outputs": []
    },
    {
     "cell_type": "code",
     "collapsed": false,
     "input": [],
     "language": "python",
     "metadata": {},
     "outputs": []
    },
    {
     "cell_type": "code",
     "collapsed": false,
     "input": [],
     "language": "python",
     "metadata": {},
     "outputs": []
    }
   ],
   "metadata": {}
  }
 ]
}