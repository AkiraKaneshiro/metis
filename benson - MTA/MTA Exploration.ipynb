{
 "metadata": {
  "name": "",
  "signature": "sha256:91ec2af1c22369575ade6806bdf01ffb1a61fcba124f7cc5c0390ffa7881eb82"
 },
 "nbformat": 3,
 "nbformat_minor": 0,
 "worksheets": [
  {
   "cells": [
    {
     "cell_type": "heading",
     "level": 3,
     "metadata": {},
     "source": [
      "Exploring the NYC MTA subway data"
     ]
    },
    {
     "cell_type": "markdown",
     "metadata": {},
     "source": [
      "Client: Sweet Cheese Dessert Truck, an Austin-based food truck \n",
      "\n",
      "Objective: To identify high-volume subway stations to optimize strategic food vendor locations for Sweet Cheese who is looking to expand in the NYC area\n",
      "\n",
      "Conclusion: Based on my analysis, I recommend that Sweet Cheese consider parking their truck near these stations with high ridership volume:\n",
      "\n",
      "14 ST-UNION SQ\t456LNQR\t\n",
      "34 ST-HERALD SQ\tBDFMNQR\t\n",
      "42 ST-PA BUS TE\t1237ACENQRS\t\n",
      "42 ST-TIMES SQ\t1237ACENQRS\t\n",
      "PATH WTC\t1 <br />\n",
      "34 ST-PENN STA\tACE <br />\n",
      "FULTON ST\t2345ACJZ <br />\n",
      "EXCHANGE PLACE\t1 <br />\n",
      "59 ST-COLUMBUS\t1ABCD <br />\n",
      "47-50 ST-ROCK\tBDFM"
     ]
    },
    {
     "cell_type": "heading",
     "level": 3,
     "metadata": {},
     "source": [
      "Get four weeks of MTA turnstile data"
     ]
    },
    {
     "cell_type": "code",
     "collapsed": false,
     "input": [
      "url_template = 'http://web.mta.info/developers/data/nyct/turnstile/turnstile_%s.txt'\n",
      "for date in ['150124', '150117', '150110', '150103']:\n",
      "    url = url_template % date\n",
      "    !wget {url}"
     ],
     "language": "python",
     "metadata": {},
     "outputs": [
      {
       "output_type": "stream",
       "stream": "stdout",
       "text": [
        "--2015-02-22 07:01:38--  http://web.mta.info/developers/data/nyct/turnstile/turnstile_150124.txt\r\n",
        "Resolving web.mta.info... "
       ]
      },
      {
       "output_type": "stream",
       "stream": "stdout",
       "text": [
        "107.14.41.104, 107.14.41.112\r\n",
        "Connecting to web.mta.info|107.14.41.104|:80... connected.\r\n",
        "HTTP request sent, awaiting response... "
       ]
      },
      {
       "output_type": "stream",
       "stream": "stdout",
       "text": [
        "200 OK\r\n",
        "Length: unspecified [text/plain]\r\n",
        "Saving to: 'turnstile_150124.txt'\r\n",
        "\r\n",
        "\r",
        "turnstile_150124.tx     [<=>                   ]       0  --.-KB/s             "
       ]
      },
      {
       "output_type": "stream",
       "stream": "stdout",
       "text": [
        "\r",
        "turnstile_150124.tx     [ <=>                  ] 240.06K  1.17MB/s             "
       ]
      },
      {
       "output_type": "stream",
       "stream": "stdout",
       "text": [
        "\r",
        "turnstile_150124.tx     [  <=>                 ] 464.83K  1.13MB/s             "
       ]
      },
      {
       "output_type": "stream",
       "stream": "stdout",
       "text": [
        "\r",
        "turnstile_150124.tx     [   <=>                ] 693.83K  1.13MB/s             "
       ]
      },
      {
       "output_type": "stream",
       "stream": "stdout",
       "text": [
        "\r",
        "turnstile_150124.tx     [    <=>               ] 932.73K  1.14MB/s             "
       ]
      },
      {
       "output_type": "stream",
       "stream": "stdout",
       "text": [
        "\r",
        "turnstile_150124.tx     [     <=>              ]   1.08M  1.08MB/s             "
       ]
      },
      {
       "output_type": "stream",
       "stream": "stdout",
       "text": [
        "\r",
        "turnstile_150124.tx     [      <=>             ]   1.33M  1.10MB/s             "
       ]
      },
      {
       "output_type": "stream",
       "stream": "stdout",
       "text": [
        "\r",
        "turnstile_150124.tx     [       <=>            ]   1.55M  1.10MB/s             "
       ]
      },
      {
       "output_type": "stream",
       "stream": "stdout",
       "text": [
        "\r",
        "turnstile_150124.tx     [        <=>           ]   1.81M  1.13MB/s             "
       ]
      },
      {
       "output_type": "stream",
       "stream": "stdout",
       "text": [
        "\r",
        "turnstile_150124.tx     [         <=>          ]   2.07M  1.14MB/s             "
       ]
      },
      {
       "output_type": "stream",
       "stream": "stdout",
       "text": [
        "\r",
        "turnstile_150124.tx     [          <=>         ]   2.33M  1.15MB/s             "
       ]
      },
      {
       "output_type": "stream",
       "stream": "stdout",
       "text": [
        "\r",
        "turnstile_150124.tx     [           <=>        ]   2.58M  1.16MB/s             "
       ]
      },
      {
       "output_type": "stream",
       "stream": "stdout",
       "text": [
        "\r",
        "turnstile_150124.tx     [            <=>       ]   2.75M  1.10MB/s             "
       ]
      },
      {
       "output_type": "stream",
       "stream": "stdout",
       "text": [
        "\r",
        "turnstile_150124.tx     [             <=>      ]   3.02M  1.12MB/s             "
       ]
      },
      {
       "output_type": "stream",
       "stream": "stdout",
       "text": [
        "\r",
        "turnstile_150124.tx     [              <=>     ]   3.24M  1.12MB/s             "
       ]
      },
      {
       "output_type": "stream",
       "stream": "stdout",
       "text": [
        "\r",
        "turnstile_150124.tx     [               <=>    ]   3.51M  1.13MB/s             "
       ]
      },
      {
       "output_type": "stream",
       "stream": "stdout",
       "text": [
        "\r",
        "turnstile_150124.tx     [                <=>   ]   3.76M  1.14MB/s             "
       ]
      },
      {
       "output_type": "stream",
       "stream": "stdout",
       "text": [
        "\r",
        "turnstile_150124.tx     [                 <=>  ]   4.02M  1.15MB/s             "
       ]
      },
      {
       "output_type": "stream",
       "stream": "stdout",
       "text": [
        "\r",
        "turnstile_150124.tx     [                  <=> ]   4.26M  1.15MB/s             "
       ]
      },
      {
       "output_type": "stream",
       "stream": "stdout",
       "text": [
        "\r",
        "turnstile_150124.tx     [                   <=>]   4.40M  1.10MB/s             "
       ]
      },
      {
       "output_type": "stream",
       "stream": "stdout",
       "text": [
        "\r",
        "turnstile_150124.tx     [                  <=> ]   4.81M  1.18MB/s             "
       ]
      },
      {
       "output_type": "stream",
       "stream": "stdout",
       "text": [
        "\r",
        "turnstile_150124.tx     [                 <=>  ]   5.08M  1.19MB/s             "
       ]
      },
      {
       "output_type": "stream",
       "stream": "stdout",
       "text": [
        "\r",
        "turnstile_150124.tx     [                <=>   ]   5.33M  1.18MB/s             "
       ]
      },
      {
       "output_type": "stream",
       "stream": "stdout",
       "text": [
        "\r",
        "turnstile_150124.tx     [               <=>    ]   5.57M  1.18MB/s             "
       ]
      },
      {
       "output_type": "stream",
       "stream": "stdout",
       "text": [
        "\r",
        "turnstile_150124.tx     [              <=>     ]   5.82M  1.18MB/s             "
       ]
      },
      {
       "output_type": "stream",
       "stream": "stdout",
       "text": [
        "\r",
        "turnstile_150124.tx     [             <=>      ]   6.05M  1.18MB/s             "
       ]
      },
      {
       "output_type": "stream",
       "stream": "stdout",
       "text": [
        "\r",
        "turnstile_150124.tx     [            <=>       ]   6.29M  1.18MB/s             "
       ]
      },
      {
       "output_type": "stream",
       "stream": "stdout",
       "text": [
        "\r",
        "turnstile_150124.tx     [           <=>        ]   6.55M  1.18MB/s             "
       ]
      },
      {
       "output_type": "stream",
       "stream": "stdout",
       "text": [
        "\r",
        "turnstile_150124.tx     [          <=>         ]   6.80M  1.22MB/s             "
       ]
      },
      {
       "output_type": "stream",
       "stream": "stdout",
       "text": [
        "\r",
        "turnstile_150124.tx     [         <=>          ]   7.03M  1.21MB/s             "
       ]
      },
      {
       "output_type": "stream",
       "stream": "stdout",
       "text": [
        "\r",
        "turnstile_150124.tx     [        <=>           ]   7.26M  1.22MB/s             "
       ]
      },
      {
       "output_type": "stream",
       "stream": "stdout",
       "text": [
        "\r",
        "turnstile_150124.tx     [       <=>            ]   7.53M  1.21MB/s             "
       ]
      },
      {
       "output_type": "stream",
       "stream": "stdout",
       "text": [
        "\r",
        "turnstile_150124.tx     [      <=>             ]   7.75M  1.20MB/s             "
       ]
      },
      {
       "output_type": "stream",
       "stream": "stdout",
       "text": [
        "\r",
        "turnstile_150124.tx     [     <=>              ]   7.98M  1.19MB/s             "
       ]
      },
      {
       "output_type": "stream",
       "stream": "stdout",
       "text": [
        "\r",
        "turnstile_150124.tx     [    <=>               ]   8.23M  1.25MB/s             "
       ]
      },
      {
       "output_type": "stream",
       "stream": "stdout",
       "text": [
        "\r",
        "turnstile_150124.tx     [   <=>                ]   8.49M  1.20MB/s             "
       ]
      },
      {
       "output_type": "stream",
       "stream": "stdout",
       "text": [
        "\r",
        "turnstile_150124.tx     [  <=>                 ]   8.74M  1.20MB/s             "
       ]
      },
      {
       "output_type": "stream",
       "stream": "stdout",
       "text": [
        "\r",
        "turnstile_150124.tx     [ <=>                  ]   8.96M  1.18MB/s             "
       ]
      },
      {
       "output_type": "stream",
       "stream": "stdout",
       "text": [
        "\r",
        "turnstile_150124.tx     [<=>                   ]   9.23M  1.19MB/s             "
       ]
      },
      {
       "output_type": "stream",
       "stream": "stdout",
       "text": [
        "\r",
        "turnstile_150124.tx     [ <=>                  ]   9.46M  1.18MB/s             "
       ]
      },
      {
       "output_type": "stream",
       "stream": "stdout",
       "text": [
        "\r",
        "turnstile_150124.tx     [  <=>                 ]   9.65M  1.16MB/s             "
       ]
      },
      {
       "output_type": "stream",
       "stream": "stdout",
       "text": [
        "\r",
        "turnstile_150124.tx     [   <=>                ]   9.71M  1.11MB/s             "
       ]
      },
      {
       "output_type": "stream",
       "stream": "stdout",
       "text": [
        "\r",
        "turnstile_150124.tx     [    <=>               ]  10.11M  1.15MB/s             "
       ]
      },
      {
       "output_type": "stream",
       "stream": "stdout",
       "text": [
        "\r",
        "turnstile_150124.tx     [     <=>              ]  10.35M  1.15MB/s             "
       ]
      },
      {
       "output_type": "stream",
       "stream": "stdout",
       "text": [
        "\r",
        "turnstile_150124.tx     [      <=>             ]  10.56M  1.14MB/s             "
       ]
      },
      {
       "output_type": "stream",
       "stream": "stdout",
       "text": [
        "\r",
        "turnstile_150124.tx     [       <=>            ]  10.80M  1.15MB/s             "
       ]
      },
      {
       "output_type": "stream",
       "stream": "stdout",
       "text": [
        "\r",
        "turnstile_150124.tx     [        <=>           ]  11.04M  1.15MB/s             "
       ]
      },
      {
       "output_type": "stream",
       "stream": "stdout",
       "text": [
        "\r",
        "turnstile_150124.tx     [         <=>          ]  11.28M  1.15MB/s             "
       ]
      },
      {
       "output_type": "stream",
       "stream": "stdout",
       "text": [
        "\r",
        "turnstile_150124.tx     [          <=>         ]  11.51M  1.15MB/s             "
       ]
      },
      {
       "output_type": "stream",
       "stream": "stdout",
       "text": [
        "\r",
        "turnstile_150124.tx     [           <=>        ]  11.71M  1.14MB/s             "
       ]
      },
      {
       "output_type": "stream",
       "stream": "stdout",
       "text": [
        "\r",
        "turnstile_150124.tx     [            <=>       ]  11.96M  1.14MB/s             "
       ]
      },
      {
       "output_type": "stream",
       "stream": "stdout",
       "text": [
        "\r",
        "turnstile_150124.tx     [             <=>      ]  12.18M  1.13MB/s             "
       ]
      },
      {
       "output_type": "stream",
       "stream": "stdout",
       "text": [
        "\r",
        "turnstile_150124.tx     [              <=>     ]  12.43M  1.13MB/s             "
       ]
      },
      {
       "output_type": "stream",
       "stream": "stdout",
       "text": [
        "\r",
        "turnstile_150124.tx     [               <=>    ]  12.60M  1.11MB/s             "
       ]
      },
      {
       "output_type": "stream",
       "stream": "stdout",
       "text": [
        "\r",
        "turnstile_150124.tx     [                <=>   ]  12.76M  1.08MB/s             "
       ]
      },
      {
       "output_type": "stream",
       "stream": "stdout",
       "text": [
        "\r",
        "turnstile_150124.tx     [                 <=>  ]  13.01M  1.09MB/s             "
       ]
      },
      {
       "output_type": "stream",
       "stream": "stdout",
       "text": [
        "\r",
        "turnstile_150124.tx     [                  <=> ]  13.27M  1.11MB/s             "
       ]
      },
      {
       "output_type": "stream",
       "stream": "stdout",
       "text": [
        "\r",
        "turnstile_150124.tx     [                   <=>]  13.51M  1.12MB/s             "
       ]
      },
      {
       "output_type": "stream",
       "stream": "stdout",
       "text": [
        "\r",
        "turnstile_150124.tx     [                  <=> ]  13.71M  1.11MB/s             "
       ]
      },
      {
       "output_type": "stream",
       "stream": "stdout",
       "text": [
        "\r",
        "turnstile_150124.tx     [                 <=>  ]  13.98M  1.13MB/s             "
       ]
      },
      {
       "output_type": "stream",
       "stream": "stdout",
       "text": [
        "\r",
        "turnstile_150124.tx     [                <=>   ]  14.20M  1.11MB/s             "
       ]
      },
      {
       "output_type": "stream",
       "stream": "stdout",
       "text": [
        "\r",
        "turnstile_150124.tx     [               <=>    ]  14.46M  1.12MB/s             "
       ]
      },
      {
       "output_type": "stream",
       "stream": "stdout",
       "text": [
        "\r",
        "turnstile_150124.tx     [              <=>     ]  14.71M  1.13MB/s             "
       ]
      },
      {
       "output_type": "stream",
       "stream": "stdout",
       "text": [
        "\r",
        "turnstile_150124.tx     [             <=>      ]  14.95M  1.12MB/s             "
       ]
      },
      {
       "output_type": "stream",
       "stream": "stdout",
       "text": [
        "\r",
        "turnstile_150124.tx     [            <=>       ]  15.14M  1.12MB/s             "
       ]
      },
      {
       "output_type": "stream",
       "stream": "stdout",
       "text": [
        "\r",
        "turnstile_150124.tx     [           <=>        ]  15.38M  1.12MB/s             "
       ]
      },
      {
       "output_type": "stream",
       "stream": "stdout",
       "text": [
        "\r",
        "turnstile_150124.tx     [          <=>         ]  15.55M  1.11MB/s             "
       ]
      },
      {
       "output_type": "stream",
       "stream": "stdout",
       "text": [
        "\r",
        "turnstile_150124.tx     [         <=>          ]  15.80M  1.11MB/s             "
       ]
      },
      {
       "output_type": "stream",
       "stream": "stdout",
       "text": [
        "\r",
        "turnstile_150124.tx     [        <=>           ]  16.03M  1.11MB/s             "
       ]
      },
      {
       "output_type": "stream",
       "stream": "stdout",
       "text": [
        "\r",
        "turnstile_150124.tx     [       <=>            ]  16.22M  1.14MB/s             "
       ]
      },
      {
       "output_type": "stream",
       "stream": "stdout",
       "text": [
        "\r",
        "turnstile_150124.tx     [      <=>             ]  16.45M  1.14MB/s             "
       ]
      },
      {
       "output_type": "stream",
       "stream": "stdout",
       "text": [
        "\r",
        "turnstile_150124.tx     [     <=>              ]  16.69M  1.13MB/s             "
       ]
      },
      {
       "output_type": "stream",
       "stream": "stdout",
       "text": [
        "\r",
        "turnstile_150124.tx     [    <=>               ]  16.95M  1.14MB/s             "
       ]
      },
      {
       "output_type": "stream",
       "stream": "stdout",
       "text": [
        "\r",
        "turnstile_150124.tx     [   <=>                ]  17.13M  1.13MB/s             "
       ]
      },
      {
       "output_type": "stream",
       "stream": "stdout",
       "text": [
        "\r",
        "turnstile_150124.tx     [  <=>                 ]  17.37M  1.13MB/s             "
       ]
      },
      {
       "output_type": "stream",
       "stream": "stdout",
       "text": [
        "\r",
        "turnstile_150124.tx     [ <=>                  ]  17.63M  1.14MB/s             "
       ]
      },
      {
       "output_type": "stream",
       "stream": "stdout",
       "text": [
        "\r",
        "turnstile_150124.tx     [<=>                   ]  17.88M  1.14MB/s             "
       ]
      },
      {
       "output_type": "stream",
       "stream": "stdout",
       "text": [
        "\r",
        "turnstile_150124.tx     [ <=>                  ]  18.12M  1.14MB/s             "
       ]
      },
      {
       "output_type": "stream",
       "stream": "stdout",
       "text": [
        "\r",
        "turnstile_150124.tx     [  <=>                 ]  18.34M  1.13MB/s             "
       ]
      },
      {
       "output_type": "stream",
       "stream": "stdout",
       "text": [
        "\r",
        "turnstile_150124.tx     [   <=>                ]  18.59M  1.16MB/s             "
       ]
      },
      {
       "output_type": "stream",
       "stream": "stdout",
       "text": [
        "\r",
        "turnstile_150124.tx     [    <=>               ]  18.84M  1.15MB/s             "
       ]
      },
      {
       "output_type": "stream",
       "stream": "stdout",
       "text": [
        "\r",
        "turnstile_150124.tx     [     <=>              ]  19.09M  1.15MB/s             "
       ]
      },
      {
       "output_type": "stream",
       "stream": "stdout",
       "text": [
        "\r",
        "turnstile_150124.tx     [      <=>             ]  19.40M  1.18MB/s             "
       ]
      },
      {
       "output_type": "stream",
       "stream": "stdout",
       "text": [
        "\r",
        "turnstile_150124.tx     [       <=>            ]  19.67M  1.19MB/s             "
       ]
      },
      {
       "output_type": "stream",
       "stream": "stdout",
       "text": [
        "\r",
        "turnstile_150124.tx     [        <=>           ]  19.92M  1.20MB/s             "
       ]
      },
      {
       "output_type": "stream",
       "stream": "stdout",
       "text": [
        "\r",
        "turnstile_150124.tx     [         <=>          ]  20.17M  1.22MB/s             "
       ]
      },
      {
       "output_type": "stream",
       "stream": "stdout",
       "text": [
        "\r",
        "turnstile_150124.tx     [          <=>         ]  20.44M  1.23MB/s             "
       ]
      },
      {
       "output_type": "stream",
       "stream": "stdout",
       "text": [
        "\r",
        "turnstile_150124.tx     [           <=>        ]  20.67M  1.22MB/s             "
       ]
      },
      {
       "output_type": "stream",
       "stream": "stdout",
       "text": [
        "\r",
        "turnstile_150124.tx     [            <=>       ]  20.95M  1.24MB/s             "
       ]
      },
      {
       "output_type": "stream",
       "stream": "stdout",
       "text": [
        "\r",
        "turnstile_150124.tx     [             <=>      ]  21.21M  1.26MB/s             "
       ]
      },
      {
       "output_type": "stream",
       "stream": "stdout",
       "text": [
        "\r",
        "turnstile_150124.tx     [              <=>     ]  21.41M  1.24MB/s             "
       ]
      },
      {
       "output_type": "stream",
       "stream": "stdout",
       "text": [
        "\r",
        "turnstile_150124.tx     [               <=>    ]  21.65M  1.23MB/s             "
       ]
      },
      {
       "output_type": "stream",
       "stream": "stdout",
       "text": [
        "\r",
        "turnstile_150124.tx     [                <=>   ]  21.91M  1.25MB/s             "
       ]
      },
      {
       "output_type": "stream",
       "stream": "stdout",
       "text": [
        "\r",
        "turnstile_150124.tx     [                 <=>  ]  22.18M  1.25MB/s             "
       ]
      },
      {
       "output_type": "stream",
       "stream": "stdout",
       "text": [
        "\r",
        "turnstile_150124.tx     [                  <=> ]  22.43M  1.26MB/s             "
       ]
      },
      {
       "output_type": "stream",
       "stream": "stdout",
       "text": [
        "\r",
        "turnstile_150124.tx     [                   <=>]  22.72M  1.27MB/s             "
       ]
      },
      {
       "output_type": "stream",
       "stream": "stdout",
       "text": [
        "\r",
        "turnstile_150124.tx     [                  <=> ]  22.96M  1.26MB/s             "
       ]
      },
      {
       "output_type": "stream",
       "stream": "stdout",
       "text": [
        "\r",
        "turnstile_150124.tx     [                 <=>  ]  23.22M  1.26MB/s             "
       ]
      },
      {
       "output_type": "stream",
       "stream": "stdout",
       "text": [
        "\r",
        "turnstile_150124.tx     [                <=>   ]  23.49M  1.26MB/s             "
       ]
      },
      {
       "output_type": "stream",
       "stream": "stdout",
       "text": [
        "\r",
        "turnstile_150124.tx     [               <=>    ]  23.74M  1.26MB/s             "
       ]
      },
      {
       "output_type": "stream",
       "stream": "stdout",
       "text": [
        "\r",
        "turnstile_150124.tx     [              <=>     ]  23.95M  1.24MB/s             "
       ]
      },
      {
       "output_type": "stream",
       "stream": "stdout",
       "text": [
        "\r",
        "turnstile_150124.tx     [             <=>      ]  24.10M  1.22MB/s   in 21s    \r\n",
        "\r\n"
       ]
      },
      {
       "output_type": "stream",
       "stream": "stdout",
       "text": [
        "2015-02-22 07:01:59 (1.17 MB/s) - 'turnstile_150124.txt' saved [25266756]\r\n",
        "\r\n"
       ]
      },
      {
       "output_type": "stream",
       "stream": "stdout",
       "text": [
        "--2015-02-22 07:01:59--  http://web.mta.info/developers/data/nyct/turnstile/turnstile_150117.txt\r\n",
        "Resolving web.mta.info... "
       ]
      },
      {
       "output_type": "stream",
       "stream": "stdout",
       "text": [
        "107.14.41.112, 107.14.41.104\r\n",
        "Connecting to web.mta.info|107.14.41.112|:80... connected.\r\n",
        "HTTP request sent, awaiting response... "
       ]
      },
      {
       "output_type": "stream",
       "stream": "stdout",
       "text": [
        "200 OK\r\n",
        "Length: unspecified [text/plain]\r\n",
        "Saving to: 'turnstile_150117.txt'\r\n",
        "\r\n",
        "\r",
        "turnstile_150117.tx     [<=>                   ]       0  --.-KB/s             "
       ]
      },
      {
       "output_type": "stream",
       "stream": "stdout",
       "text": [
        "\r",
        "turnstile_150117.tx     [ <=>                  ] 255.60K  1.23MB/s             "
       ]
      },
      {
       "output_type": "stream",
       "stream": "stdout",
       "text": [
        "\r",
        "turnstile_150117.tx     [  <=>                 ] 510.11K  1.23MB/s             "
       ]
      },
      {
       "output_type": "stream",
       "stream": "stdout",
       "text": [
        "\r",
        "turnstile_150117.tx     [   <=>                ] 755.57K  1.22MB/s             "
       ]
      },
      {
       "output_type": "stream",
       "stream": "stdout",
       "text": [
        "\r",
        "turnstile_150117.tx     [    <=>               ] 996.50K  1.21MB/s             "
       ]
      },
      {
       "output_type": "stream",
       "stream": "stdout",
       "text": [
        "\r",
        "turnstile_150117.tx     [     <=>              ]   1.18M  1.17MB/s             "
       ]
      },
      {
       "output_type": "stream",
       "stream": "stdout",
       "text": [
        "\r",
        "turnstile_150117.tx     [      <=>             ]   1.44M  1.18MB/s             "
       ]
      },
      {
       "output_type": "stream",
       "stream": "stdout",
       "text": [
        "\r",
        "turnstile_150117.tx     [       <=>            ]   1.70M  1.20MB/s             "
       ]
      },
      {
       "output_type": "stream",
       "stream": "stdout",
       "text": [
        "\r",
        "turnstile_150117.tx     [        <=>           ]   1.91M  1.18MB/s             "
       ]
      },
      {
       "output_type": "stream",
       "stream": "stdout",
       "text": [
        "\r",
        "turnstile_150117.tx     [         <=>          ]   2.07M  1.13MB/s             "
       ]
      },
      {
       "output_type": "stream",
       "stream": "stdout",
       "text": [
        "\r",
        "turnstile_150117.tx     [          <=>         ]   2.28M  1.13MB/s             "
       ]
      },
      {
       "output_type": "stream",
       "stream": "stdout",
       "text": [
        "\r",
        "turnstile_150117.tx     [           <=>        ]   2.51M  1.13MB/s             "
       ]
      },
      {
       "output_type": "stream",
       "stream": "stdout",
       "text": [
        "\r",
        "turnstile_150117.tx     [            <=>       ]   2.72M  1.12MB/s             "
       ]
      },
      {
       "output_type": "stream",
       "stream": "stdout",
       "text": [
        "\r",
        "turnstile_150117.tx     [             <=>      ]   2.92M  1.11MB/s             "
       ]
      },
      {
       "output_type": "stream",
       "stream": "stdout",
       "text": [
        "\r",
        "turnstile_150117.tx     [              <=>     ]   3.16M  1.11MB/s             "
       ]
      },
      {
       "output_type": "stream",
       "stream": "stdout",
       "text": [
        "\r",
        "turnstile_150117.tx     [               <=>    ]   3.37M  1.11MB/s             "
       ]
      },
      {
       "output_type": "stream",
       "stream": "stdout",
       "text": [
        "\r",
        "turnstile_150117.tx     [                <=>   ]   3.63M  1.11MB/s             "
       ]
      },
      {
       "output_type": "stream",
       "stream": "stdout",
       "text": [
        "\r",
        "turnstile_150117.tx     [                 <=>  ]   3.88M  1.11MB/s             "
       ]
      },
      {
       "output_type": "stream",
       "stream": "stdout",
       "text": [
        "\r",
        "turnstile_150117.tx     [                  <=> ]   4.11M  1.11MB/s             "
       ]
      },
      {
       "output_type": "stream",
       "stream": "stdout",
       "text": [
        "\r",
        "turnstile_150117.tx     [                   <=>]   4.37M  1.12MB/s             "
       ]
      },
      {
       "output_type": "stream",
       "stream": "stdout",
       "text": [
        "\r",
        "turnstile_150117.tx     [                  <=> ]   4.62M  1.12MB/s             "
       ]
      },
      {
       "output_type": "stream",
       "stream": "stdout",
       "text": [
        "\r",
        "turnstile_150117.tx     [                 <=>  ]   4.87M  1.13MB/s             "
       ]
      },
      {
       "output_type": "stream",
       "stream": "stdout",
       "text": [
        "\r",
        "turnstile_150117.tx     [                <=>   ]   4.98M  1.05MB/s             "
       ]
      },
      {
       "output_type": "stream",
       "stream": "stdout",
       "text": [
        "\r",
        "turnstile_150117.tx     [               <=>    ]   5.29M  1.08MB/s             "
       ]
      },
      {
       "output_type": "stream",
       "stream": "stdout",
       "text": [
        "\r",
        "turnstile_150117.tx     [              <=>     ]   5.48M  1.09MB/s             "
       ]
      },
      {
       "output_type": "stream",
       "stream": "stdout",
       "text": [
        "\r",
        "turnstile_150117.tx     [             <=>      ]   5.70M  1.08MB/s             "
       ]
      },
      {
       "output_type": "stream",
       "stream": "stdout",
       "text": [
        "\r",
        "turnstile_150117.tx     [            <=>       ]   5.78M   821KB/s             "
       ]
      },
      {
       "output_type": "stream",
       "stream": "stdout",
       "text": [
        "\r",
        "turnstile_150117.tx     [           <=>        ]   6.24M   887KB/s             "
       ]
      },
      {
       "output_type": "stream",
       "stream": "stdout",
       "text": [
        "\r",
        "turnstile_150117.tx     [          <=>         ]   6.49M   901KB/s             "
       ]
      },
      {
       "output_type": "stream",
       "stream": "stdout",
       "text": [
        "\r",
        "turnstile_150117.tx     [         <=>          ]   6.75M   903KB/s             "
       ]
      },
      {
       "output_type": "stream",
       "stream": "stdout",
       "text": [
        "\r",
        "turnstile_150117.tx     [        <=>           ]   7.00M   912KB/s             "
       ]
      },
      {
       "output_type": "stream",
       "stream": "stdout",
       "text": [
        "\r",
        "turnstile_150117.tx     [       <=>            ]   7.28M   922KB/s             "
       ]
      },
      {
       "output_type": "stream",
       "stream": "stdout",
       "text": [
        "\r",
        "turnstile_150117.tx     [      <=>             ]   7.54M   916KB/s             "
       ]
      },
      {
       "output_type": "stream",
       "stream": "stdout",
       "text": [
        "\r",
        "turnstile_150117.tx     [     <=>              ]   7.64M   812KB/s             "
       ]
      },
      {
       "output_type": "stream",
       "stream": "stdout",
       "text": [
        "\r",
        "turnstile_150117.tx     [    <=>               ]   7.96M   840KB/s             "
       ]
      },
      {
       "output_type": "stream",
       "stream": "stdout",
       "text": [
        "\r",
        "turnstile_150117.tx     [   <=>                ]   8.12M   819KB/s             "
       ]
      },
      {
       "output_type": "stream",
       "stream": "stdout",
       "text": [
        "\r",
        "turnstile_150117.tx     [  <=>                 ]   8.37M   827KB/s             "
       ]
      },
      {
       "output_type": "stream",
       "stream": "stdout",
       "text": [
        "\r",
        "turnstile_150117.tx     [ <=>                  ]   8.62M   838KB/s             "
       ]
      },
      {
       "output_type": "stream",
       "stream": "stdout",
       "text": [
        "\r",
        "turnstile_150117.tx     [<=>                   ]   8.87M   868KB/s             "
       ]
      },
      {
       "output_type": "stream",
       "stream": "stdout",
       "text": [
        "\r",
        "turnstile_150117.tx     [ <=>                  ]   9.11M   872KB/s             "
       ]
      },
      {
       "output_type": "stream",
       "stream": "stdout",
       "text": [
        "\r",
        "turnstile_150117.tx     [  <=>                 ]   9.34M   913KB/s             "
       ]
      },
      {
       "output_type": "stream",
       "stream": "stdout",
       "text": [
        "\r",
        "turnstile_150117.tx     [   <=>                ]   9.59M  1.15MB/s             "
       ]
      },
      {
       "output_type": "stream",
       "stream": "stdout",
       "text": [
        "\r",
        "turnstile_150117.tx     [    <=>               ]   9.85M  1.09MB/s             "
       ]
      },
      {
       "output_type": "stream",
       "stream": "stdout",
       "text": [
        "\r",
        "turnstile_150117.tx     [     <=>              ]  10.07M  1.07MB/s             "
       ]
      },
      {
       "output_type": "stream",
       "stream": "stdout",
       "text": [
        "\r",
        "turnstile_150117.tx     [      <=>             ]  10.32M  1.08MB/s             "
       ]
      },
      {
       "output_type": "stream",
       "stream": "stdout",
       "text": [
        "\r",
        "turnstile_150117.tx     [       <=>            ]  10.59M  1.09MB/s             "
       ]
      },
      {
       "output_type": "stream",
       "stream": "stdout",
       "text": [
        "\r",
        "turnstile_150117.tx     [        <=>           ]  10.79M  1.06MB/s             "
       ]
      },
      {
       "output_type": "stream",
       "stream": "stdout",
       "text": [
        "\r",
        "turnstile_150117.tx     [         <=>          ]  11.03M  1.06MB/s             "
       ]
      },
      {
       "output_type": "stream",
       "stream": "stdout",
       "text": [
        "\r",
        "turnstile_150117.tx     [          <=>         ]  11.27M  1.09MB/s             "
       ]
      },
      {
       "output_type": "stream",
       "stream": "stdout",
       "text": [
        "\r",
        "turnstile_150117.tx     [           <=>        ]  11.50M  1.16MB/s             "
       ]
      },
      {
       "output_type": "stream",
       "stream": "stdout",
       "text": [
        "\r",
        "turnstile_150117.tx     [            <=>       ]  11.76M  1.19MB/s             "
       ]
      },
      {
       "output_type": "stream",
       "stream": "stdout",
       "text": [
        "\r",
        "turnstile_150117.tx     [             <=>      ]  12.00M  1.20MB/s             "
       ]
      },
      {
       "output_type": "stream",
       "stream": "stdout",
       "text": [
        "\r",
        "turnstile_150117.tx     [              <=>     ]  12.25M  1.19MB/s             "
       ]
      },
      {
       "output_type": "stream",
       "stream": "stdout",
       "text": [
        "\r",
        "turnstile_150117.tx     [               <=>    ]  12.46M  1.18MB/s             "
       ]
      },
      {
       "output_type": "stream",
       "stream": "stdout",
       "text": [
        "\r",
        "turnstile_150117.tx     [                <=>   ]  12.70M  1.18MB/s             "
       ]
      },
      {
       "output_type": "stream",
       "stream": "stdout",
       "text": [
        "\r",
        "turnstile_150117.tx     [                 <=>  ]  12.97M  1.19MB/s             "
       ]
      },
      {
       "output_type": "stream",
       "stream": "stdout",
       "text": [
        "\r",
        "turnstile_150117.tx     [                  <=> ]  13.21M  1.19MB/s             "
       ]
      },
      {
       "output_type": "stream",
       "stream": "stdout",
       "text": [
        "\r",
        "turnstile_150117.tx     [                   <=>]  13.37M  1.16MB/s             "
       ]
      },
      {
       "output_type": "stream",
       "stream": "stdout",
       "text": [
        "\r",
        "turnstile_150117.tx     [                  <=> ]  13.63M  1.16MB/s             "
       ]
      },
      {
       "output_type": "stream",
       "stream": "stdout",
       "text": [
        "\r",
        "turnstile_150117.tx     [                 <=>  ]  13.87M  1.17MB/s             "
       ]
      },
      {
       "output_type": "stream",
       "stream": "stdout",
       "text": [
        "\r",
        "turnstile_150117.tx     [                <=>   ]  14.11M  1.16MB/s             "
       ]
      },
      {
       "output_type": "stream",
       "stream": "stdout",
       "text": [
        "\r",
        "turnstile_150117.tx     [               <=>    ]  14.33M  1.16MB/s             "
       ]
      },
      {
       "output_type": "stream",
       "stream": "stdout",
       "text": [
        "\r",
        "turnstile_150117.tx     [              <=>     ]  14.54M  1.15MB/s             "
       ]
      },
      {
       "output_type": "stream",
       "stream": "stdout",
       "text": [
        "\r",
        "turnstile_150117.tx     [             <=>      ]  14.81M  1.17MB/s             "
       ]
      },
      {
       "output_type": "stream",
       "stream": "stdout",
       "text": [
        "\r",
        "turnstile_150117.tx     [            <=>       ]  15.04M  1.16MB/s             "
       ]
      },
      {
       "output_type": "stream",
       "stream": "stdout",
       "text": [
        "\r",
        "turnstile_150117.tx     [           <=>        ]  15.25M  1.15MB/s             "
       ]
      },
      {
       "output_type": "stream",
       "stream": "stdout",
       "text": [
        "\r",
        "turnstile_150117.tx     [          <=>         ]  15.54M  1.16MB/s             "
       ]
      },
      {
       "output_type": "stream",
       "stream": "stdout",
       "text": [
        "\r",
        "turnstile_150117.tx     [         <=>          ]  15.78M  1.16MB/s             "
       ]
      },
      {
       "output_type": "stream",
       "stream": "stdout",
       "text": [
        "\r",
        "turnstile_150117.tx     [        <=>           ]  16.01M  1.16MB/s             "
       ]
      },
      {
       "output_type": "stream",
       "stream": "stdout",
       "text": [
        "\r",
        "turnstile_150117.tx     [       <=>            ]  16.32M  1.19MB/s             "
       ]
      },
      {
       "output_type": "stream",
       "stream": "stdout",
       "text": [
        "\r",
        "turnstile_150117.tx     [      <=>             ]  16.59M  1.18MB/s             "
       ]
      },
      {
       "output_type": "stream",
       "stream": "stdout",
       "text": [
        "\r",
        "turnstile_150117.tx     [     <=>              ]  16.74M  1.16MB/s             "
       ]
      },
      {
       "output_type": "stream",
       "stream": "stdout",
       "text": [
        "\r",
        "turnstile_150117.tx     [    <=>               ]  16.94M  1.17MB/s             "
       ]
      },
      {
       "output_type": "stream",
       "stream": "stdout",
       "text": [
        "\r",
        "turnstile_150117.tx     [   <=>                ]  17.18M  1.16MB/s             "
       ]
      },
      {
       "output_type": "stream",
       "stream": "stdout",
       "text": [
        "\r",
        "turnstile_150117.tx     [  <=>                 ]  17.41M  1.16MB/s             "
       ]
      },
      {
       "output_type": "stream",
       "stream": "stdout",
       "text": [
        "\r",
        "turnstile_150117.tx     [ <=>                  ]  17.61M  1.14MB/s             "
       ]
      },
      {
       "output_type": "stream",
       "stream": "stdout",
       "text": [
        "\r",
        "turnstile_150117.tx     [<=>                   ]  17.85M  1.15MB/s             "
       ]
      },
      {
       "output_type": "stream",
       "stream": "stdout",
       "text": [
        "\r",
        "turnstile_150117.tx     [ <=>                  ]  18.10M  1.16MB/s             "
       ]
      },
      {
       "output_type": "stream",
       "stream": "stdout",
       "text": [
        "\r",
        "turnstile_150117.tx     [  <=>                 ]  18.36M  1.16MB/s             "
       ]
      },
      {
       "output_type": "stream",
       "stream": "stdout",
       "text": [
        "\r",
        "turnstile_150117.tx     [   <=>                ]  18.55M  1.14MB/s             "
       ]
      },
      {
       "output_type": "stream",
       "stream": "stdout",
       "text": [
        "\r",
        "turnstile_150117.tx     [    <=>               ]  18.78M  1.15MB/s             "
       ]
      },
      {
       "output_type": "stream",
       "stream": "stdout",
       "text": [
        "\r",
        "turnstile_150117.tx     [     <=>              ]  19.03M  1.13MB/s             "
       ]
      },
      {
       "output_type": "stream",
       "stream": "stdout",
       "text": [
        "\r",
        "turnstile_150117.tx     [      <=>             ]  19.22M  1.12MB/s             "
       ]
      },
      {
       "output_type": "stream",
       "stream": "stdout",
       "text": [
        "\r",
        "turnstile_150117.tx     [       <=>            ]  19.46M  1.11MB/s             "
       ]
      },
      {
       "output_type": "stream",
       "stream": "stdout",
       "text": [
        "\r",
        "turnstile_150117.tx     [        <=>           ]  19.71M  1.10MB/s             "
       ]
      },
      {
       "output_type": "stream",
       "stream": "stdout",
       "text": [
        "\r",
        "turnstile_150117.tx     [         <=>          ]  19.90M  1.08MB/s             "
       ]
      },
      {
       "output_type": "stream",
       "stream": "stdout",
       "text": [
        "\r",
        "turnstile_150117.tx     [          <=>         ]  20.16M  1.09MB/s             "
       ]
      },
      {
       "output_type": "stream",
       "stream": "stdout",
       "text": [
        "\r",
        "turnstile_150117.tx     [           <=>        ]  20.42M  1.13MB/s             "
       ]
      },
      {
       "output_type": "stream",
       "stream": "stdout",
       "text": [
        "\r",
        "turnstile_150117.tx     [            <=>       ]  20.67M  1.14MB/s             "
       ]
      },
      {
       "output_type": "stream",
       "stream": "stdout",
       "text": [
        "\r",
        "turnstile_150117.tx     [             <=>      ]  20.92M  1.15MB/s             "
       ]
      },
      {
       "output_type": "stream",
       "stream": "stdout",
       "text": [
        "\r",
        "turnstile_150117.tx     [              <=>     ]  21.18M  1.16MB/s             "
       ]
      },
      {
       "output_type": "stream",
       "stream": "stdout",
       "text": [
        "\r",
        "turnstile_150117.tx     [               <=>    ]  21.37M  1.14MB/s             "
       ]
      },
      {
       "output_type": "stream",
       "stream": "stdout",
       "text": [
        "\r",
        "turnstile_150117.tx     [                <=>   ]  21.61M  1.14MB/s             "
       ]
      },
      {
       "output_type": "stream",
       "stream": "stdout",
       "text": [
        "\r",
        "turnstile_150117.tx     [                 <=>  ]  21.84M  1.13MB/s             "
       ]
      },
      {
       "output_type": "stream",
       "stream": "stdout",
       "text": [
        "\r",
        "turnstile_150117.tx     [                  <=> ]  22.07M  1.15MB/s             "
       ]
      },
      {
       "output_type": "stream",
       "stream": "stdout",
       "text": [
        "\r",
        "turnstile_150117.tx     [                   <=>]  22.34M  1.16MB/s             "
       ]
      },
      {
       "output_type": "stream",
       "stream": "stdout",
       "text": [
        "\r",
        "turnstile_150117.tx     [                  <=> ]  22.51M  1.14MB/s             "
       ]
      },
      {
       "output_type": "stream",
       "stream": "stdout",
       "text": [
        "\r",
        "turnstile_150117.tx     [                 <=>  ]  22.78M  1.16MB/s             "
       ]
      },
      {
       "output_type": "stream",
       "stream": "stdout",
       "text": [
        "\r",
        "turnstile_150117.tx     [                <=>   ]  23.03M  1.17MB/s             "
       ]
      },
      {
       "output_type": "stream",
       "stream": "stdout",
       "text": [
        "\r",
        "turnstile_150117.tx     [               <=>    ]  23.23M  1.15MB/s             "
       ]
      },
      {
       "output_type": "stream",
       "stream": "stdout",
       "text": [
        "\r",
        "turnstile_150117.tx     [              <=>     ]  23.46M  1.15MB/s             "
       ]
      },
      {
       "output_type": "stream",
       "stream": "stdout",
       "text": [
        "\r",
        "turnstile_150117.tx     [             <=>      ]  23.75M  1.16MB/s             "
       ]
      },
      {
       "output_type": "stream",
       "stream": "stdout",
       "text": [
        "\r",
        "turnstile_150117.tx     [            <=>       ]  23.95M  1.14MB/s             "
       ]
      },
      {
       "output_type": "stream",
       "stream": "stdout",
       "text": [
        "\r",
        "turnstile_150117.tx     [           <=>        ]  24.17M  1.14MB/s             "
       ]
      },
      {
       "output_type": "stream",
       "stream": "stdout",
       "text": [
        "\r",
        "turnstile_150117.tx     [          <=>         ]  24.45M  1.13MB/s             "
       ]
      },
      {
       "output_type": "stream",
       "stream": "stdout",
       "text": [
        "\r",
        "turnstile_150117.tx     [         <=>          ]  24.65M  1.12MB/s             "
       ]
      },
      {
       "output_type": "stream",
       "stream": "stdout",
       "text": [
        "\r",
        "turnstile_150117.tx     [        <=>           ]  24.90M  1.15MB/s             "
       ]
      },
      {
       "output_type": "stream",
       "stream": "stdout",
       "text": [
        "\r",
        "turnstile_150117.tx     [       <=>            ]  25.14M  1.15MB/s   in 23s    \r\n",
        "\r\n",
        "2015-02-22 07:02:23 (1.09 MB/s) - 'turnstile_150117.txt' saved [26361916]\r\n",
        "\r\n"
       ]
      },
      {
       "output_type": "stream",
       "stream": "stdout",
       "text": [
        "--2015-02-22 07:02:23--  http://web.mta.info/developers/data/nyct/turnstile/turnstile_150110.txt\r\n",
        "Resolving web.mta.info... "
       ]
      },
      {
       "output_type": "stream",
       "stream": "stdout",
       "text": [
        "107.14.41.104, 107.14.41.112\r\n",
        "Connecting to web.mta.info|107.14.41.104|:80... connected.\r\n",
        "HTTP request sent, awaiting response... "
       ]
      },
      {
       "output_type": "stream",
       "stream": "stdout",
       "text": [
        "200 OK\r\n",
        "Length: unspecified [text/plain]\r\n",
        "Saving to: 'turnstile_150110.txt.1'\r\n",
        "\r\n",
        "\r",
        "turnstile_150110.tx     [<=>                   ]       0  --.-KB/s             "
       ]
      },
      {
       "output_type": "stream",
       "stream": "stdout",
       "text": [
        "\r",
        "urnstile_150110.txt     [ <=>                  ] 193.41K   965KB/s             "
       ]
      },
      {
       "output_type": "stream",
       "stream": "stdout",
       "text": [
        "\r",
        "rnstile_150110.txt.     [  <=>                 ] 327.49K   814KB/s             "
       ]
      },
      {
       "output_type": "stream",
       "stream": "stdout",
       "text": [
        "\r",
        "turnstile_150110.tx     [   <=>                ] 647.45K  1.05MB/s             "
       ]
      },
      {
       "output_type": "stream",
       "stream": "stdout",
       "text": [
        "\r",
        "urnstile_150110.txt     [    <=>               ] 867.94K  1.05MB/s             "
       ]
      },
      {
       "output_type": "stream",
       "stream": "stdout",
       "text": [
        "\r",
        "rnstile_150110.txt.     [     <=>              ]   1.08M  1.07MB/s             "
       ]
      },
      {
       "output_type": "stream",
       "stream": "stdout",
       "text": [
        "\r",
        "turnstile_150110.tx     [      <=>             ]   1.22M  1024KB/s             "
       ]
      },
      {
       "output_type": "stream",
       "stream": "stdout",
       "text": [
        "\r",
        "urnstile_150110.txt     [       <=>            ]   1.43M  1024KB/s             "
       ]
      },
      {
       "output_type": "stream",
       "stream": "stdout",
       "text": [
        "\r",
        "rnstile_150110.txt.     [        <=>           ]   1.66M  1.02MB/s             "
       ]
      },
      {
       "output_type": "stream",
       "stream": "stdout",
       "text": [
        "\r",
        "turnstile_150110.tx     [         <=>          ]   1.92M  1.05MB/s             "
       ]
      },
      {
       "output_type": "stream",
       "stream": "stdout",
       "text": [
        "\r",
        "urnstile_150110.txt     [          <=>         ]   2.15M  1.06MB/s             "
       ]
      },
      {
       "output_type": "stream",
       "stream": "stdout",
       "text": [
        "\r",
        "rnstile_150110.txt.     [           <=>        ]   2.35M  1.05MB/s             "
       ]
      },
      {
       "output_type": "stream",
       "stream": "stdout",
       "text": [
        "\r",
        "turnstile_150110.tx     [            <=>       ]   2.60M  1.06MB/s             "
       ]
      },
      {
       "output_type": "stream",
       "stream": "stdout",
       "text": [
        "\r",
        "urnstile_150110.txt     [             <=>      ]   2.83M  1.07MB/s             "
       ]
      },
      {
       "output_type": "stream",
       "stream": "stdout",
       "text": [
        "\r",
        "rnstile_150110.txt.     [              <=>     ]   3.08M  1.08MB/s             "
       ]
      },
      {
       "output_type": "stream",
       "stream": "stdout",
       "text": [
        "\r",
        "turnstile_150110.tx     [               <=>    ]   3.31M  1.08MB/s             "
       ]
      },
      {
       "output_type": "stream",
       "stream": "stdout",
       "text": [
        "\r",
        "urnstile_150110.txt     [                <=>   ]   3.50M  1.07MB/s             "
       ]
      },
      {
       "output_type": "stream",
       "stream": "stdout",
       "text": [
        "\r",
        "rnstile_150110.txt.     [                 <=>  ]   3.72M  1.10MB/s             "
       ]
      },
      {
       "output_type": "stream",
       "stream": "stdout",
       "text": [
        "\r",
        "turnstile_150110.tx     [                  <=> ]   3.95M  1.08MB/s             "
       ]
      },
      {
       "output_type": "stream",
       "stream": "stdout",
       "text": [
        "\r",
        "urnstile_150110.txt     [                   <=>]   4.18M  1.10MB/s             "
       ]
      },
      {
       "output_type": "stream",
       "stream": "stdout",
       "text": [
        "\r",
        "rnstile_150110.txt.     [                  <=> ]   4.37M  1.08MB/s             "
       ]
      },
      {
       "output_type": "stream",
       "stream": "stdout",
       "text": [
        "\r",
        "turnstile_150110.tx     [                 <=>  ]   4.60M  1.09MB/s             "
       ]
      },
      {
       "output_type": "stream",
       "stream": "stdout",
       "text": [
        "\r",
        "urnstile_150110.txt     [                <=>   ]   4.86M  1.15MB/s             "
       ]
      },
      {
       "output_type": "stream",
       "stream": "stdout",
       "text": [
        "\r",
        "rnstile_150110.txt.     [               <=>    ]   5.07M  1.12MB/s             "
       ]
      },
      {
       "output_type": "stream",
       "stream": "stdout",
       "text": [
        "\r",
        "turnstile_150110.tx     [              <=>     ]   5.32M  1.12MB/s             "
       ]
      },
      {
       "output_type": "stream",
       "stream": "stdout",
       "text": [
        "\r",
        "urnstile_150110.txt     [             <=>      ]   5.54M  1.12MB/s             "
       ]
      },
      {
       "output_type": "stream",
       "stream": "stdout",
       "text": [
        "\r",
        "rnstile_150110.txt.     [            <=>       ]   5.77M  1.11MB/s             "
       ]
      },
      {
       "output_type": "stream",
       "stream": "stdout",
       "text": [
        "\r",
        "turnstile_150110.tx     [           <=>        ]   5.94M  1019KB/s             "
       ]
      },
      {
       "output_type": "stream",
       "stream": "stdout",
       "text": [
        "\r",
        "urnstile_150110.txt     [          <=>         ]   6.30M  1.02MB/s             "
       ]
      },
      {
       "output_type": "stream",
       "stream": "stdout",
       "text": [
        "\r",
        "rnstile_150110.txt.     [         <=>          ]   6.55M  1.03MB/s             "
       ]
      },
      {
       "output_type": "stream",
       "stream": "stdout",
       "text": [
        "\r",
        "turnstile_150110.tx     [        <=>           ]   6.81M  1.03MB/s             "
       ]
      },
      {
       "output_type": "stream",
       "stream": "stdout",
       "text": [
        "\r",
        "urnstile_150110.txt     [       <=>            ]   7.02M  1.04MB/s             "
       ]
      },
      {
       "output_type": "stream",
       "stream": "stdout",
       "text": [
        "\r",
        "rnstile_150110.txt.     [      <=>             ]   7.27M  1.05MB/s             "
       ]
      },
      {
       "output_type": "stream",
       "stream": "stdout",
       "text": [
        "\r",
        "turnstile_150110.tx     [     <=>              ]   7.53M  1.06MB/s             "
       ]
      },
      {
       "output_type": "stream",
       "stream": "stdout",
       "text": [
        "\r",
        "urnstile_150110.txt     [    <=>               ]   7.79M  1.07MB/s             "
       ]
      },
      {
       "output_type": "stream",
       "stream": "stdout",
       "text": [
        "\r",
        "rnstile_150110.txt.     [   <=>                ]   8.00M  1.06MB/s             "
       ]
      },
      {
       "output_type": "stream",
       "stream": "stdout",
       "text": [
        "\r",
        "turnstile_150110.tx     [  <=>                 ]   8.27M  1.08MB/s             "
       ]
      },
      {
       "output_type": "stream",
       "stream": "stdout",
       "text": [
        "\r",
        "urnstile_150110.txt     [ <=>                  ]   8.53M  1.08MB/s             "
       ]
      },
      {
       "output_type": "stream",
       "stream": "stdout",
       "text": [
        "\r",
        "rnstile_150110.txt.     [<=>                   ]   8.78M  1.09MB/s             "
       ]
      },
      {
       "output_type": "stream",
       "stream": "stdout",
       "text": [
        "\r",
        "turnstile_150110.tx     [ <=>                  ]   9.03M  1.09MB/s             "
       ]
      },
      {
       "output_type": "stream",
       "stream": "stdout",
       "text": [
        "\r",
        "urnstile_150110.txt     [  <=>                 ]   9.22M  1.12MB/s             "
       ]
      },
      {
       "output_type": "stream",
       "stream": "stdout",
       "text": [
        "\r",
        "rnstile_150110.txt.     [   <=>                ]   9.49M  1.08MB/s             "
       ]
      },
      {
       "output_type": "stream",
       "stream": "stdout",
       "text": [
        "\r",
        "turnstile_150110.tx     [    <=>               ]   9.75M  1.14MB/s             "
       ]
      },
      {
       "output_type": "stream",
       "stream": "stdout",
       "text": [
        "\r",
        "urnstile_150110.txt     [     <=>              ]  10.00M  1.21MB/s             "
       ]
      },
      {
       "output_type": "stream",
       "stream": "stdout",
       "text": [
        "\r",
        "rnstile_150110.txt.     [      <=>             ]  10.26M  1.21MB/s             "
       ]
      },
      {
       "output_type": "stream",
       "stream": "stdout",
       "text": [
        "\r",
        "turnstile_150110.tx     [       <=>            ]  10.50M  1.20MB/s             "
       ]
      },
      {
       "output_type": "stream",
       "stream": "stdout",
       "text": [
        "\r",
        "urnstile_150110.txt     [        <=>           ]  10.72M  1.19MB/s             "
       ]
      },
      {
       "output_type": "stream",
       "stream": "stdout",
       "text": [
        "\r",
        "rnstile_150110.txt.     [         <=>          ]  10.99M  1.26MB/s             "
       ]
      },
      {
       "output_type": "stream",
       "stream": "stdout",
       "text": [
        "\r",
        "turnstile_150110.tx     [          <=>         ]  11.23M  1.20MB/s             "
       ]
      },
      {
       "output_type": "stream",
       "stream": "stdout",
       "text": [
        "\r",
        "urnstile_150110.txt     [           <=>        ]  11.45M  1.18MB/s             "
       ]
      },
      {
       "output_type": "stream",
       "stream": "stdout",
       "text": [
        "\r",
        "rnstile_150110.txt.     [            <=>       ]  11.71M  1.19MB/s             "
       ]
      },
      {
       "output_type": "stream",
       "stream": "stdout",
       "text": [
        "\r",
        "turnstile_150110.tx     [             <=>      ]  11.96M  1.20MB/s             "
       ]
      },
      {
       "output_type": "stream",
       "stream": "stdout",
       "text": [
        "\r",
        "urnstile_150110.txt     [              <=>     ]  12.21M  1.19MB/s             "
       ]
      },
      {
       "output_type": "stream",
       "stream": "stdout",
       "text": [
        "\r",
        "rnstile_150110.txt.     [               <=>    ]  12.48M  1.20MB/s             "
       ]
      },
      {
       "output_type": "stream",
       "stream": "stdout",
       "text": [
        "\r",
        "turnstile_150110.tx     [                <=>   ]  12.72M  1.20MB/s             "
       ]
      },
      {
       "output_type": "stream",
       "stream": "stdout",
       "text": [
        "\r",
        "urnstile_150110.txt     [                 <=>  ]  12.98M  1.22MB/s             "
       ]
      },
      {
       "output_type": "stream",
       "stream": "stdout",
       "text": [
        "\r",
        "rnstile_150110.txt.     [                  <=> ]  13.22M  1.21MB/s             "
       ]
      },
      {
       "output_type": "stream",
       "stream": "stdout",
       "text": [
        "\r",
        "turnstile_150110.tx     [                   <=>]  13.50M  1.22MB/s             "
       ]
      },
      {
       "output_type": "stream",
       "stream": "stdout",
       "text": [
        "\r",
        "urnstile_150110.txt     [                  <=> ]  13.71M  1.21MB/s             "
       ]
      },
      {
       "output_type": "stream",
       "stream": "stdout",
       "text": [
        "\r",
        "rnstile_150110.txt.     [                 <=>  ]  13.98M  1.21MB/s             "
       ]
      },
      {
       "output_type": "stream",
       "stream": "stdout",
       "text": [
        "\r",
        "turnstile_150110.tx     [                <=>   ]  14.21M  1.20MB/s             "
       ]
      },
      {
       "output_type": "stream",
       "stream": "stdout",
       "text": [
        "\r",
        "urnstile_150110.txt     [               <=>    ]  14.41M  1.20MB/s             "
       ]
      },
      {
       "output_type": "stream",
       "stream": "stdout",
       "text": [
        "\r",
        "rnstile_150110.txt.     [              <=>     ]  14.66M  1.20MB/s             "
       ]
      },
      {
       "output_type": "stream",
       "stream": "stdout",
       "text": [
        "\r",
        "turnstile_150110.tx     [             <=>      ]  14.92M  1.21MB/s             "
       ]
      },
      {
       "output_type": "stream",
       "stream": "stdout",
       "text": [
        "\r",
        "urnstile_150110.txt     [            <=>       ]  15.19M  1.22MB/s             "
       ]
      },
      {
       "output_type": "stream",
       "stream": "stdout",
       "text": [
        "\r",
        "rnstile_150110.txt.     [           <=>        ]  15.45M  1.22MB/s             "
       ]
      },
      {
       "output_type": "stream",
       "stream": "stdout",
       "text": [
        "\r",
        "turnstile_150110.tx     [          <=>         ]  15.71M  1.23MB/s             "
       ]
      },
      {
       "output_type": "stream",
       "stream": "stdout",
       "text": [
        "\r",
        "urnstile_150110.txt     [         <=>          ]  15.96M  1.22MB/s             "
       ]
      },
      {
       "output_type": "stream",
       "stream": "stdout",
       "text": [
        "\r",
        "rnstile_150110.txt.     [        <=>           ]  16.22M  1.23MB/s             "
       ]
      },
      {
       "output_type": "stream",
       "stream": "stdout",
       "text": [
        "\r",
        "turnstile_150110.tx     [       <=>            ]  16.28M  1.16MB/s             "
       ]
      },
      {
       "output_type": "stream",
       "stream": "stdout",
       "text": [
        "\r",
        "urnstile_150110.txt     [      <=>             ]  16.68M  1.21MB/s             "
       ]
      },
      {
       "output_type": "stream",
       "stream": "stdout",
       "text": [
        "\r",
        "rnstile_150110.txt.     [     <=>              ]  16.87M  1.19MB/s             "
       ]
      },
      {
       "output_type": "stream",
       "stream": "stdout",
       "text": [
        "\r",
        "turnstile_150110.tx     [    <=>               ]  17.13M  1.19MB/s             "
       ]
      },
      {
       "output_type": "stream",
       "stream": "stdout",
       "text": [
        "\r",
        "urnstile_150110.txt     [   <=>                ]  17.39M  1.20MB/s             "
       ]
      },
      {
       "output_type": "stream",
       "stream": "stdout",
       "text": [
        "\r",
        "rnstile_150110.txt.     [  <=>                 ]  17.61M  1.20MB/s             "
       ]
      },
      {
       "output_type": "stream",
       "stream": "stdout",
       "text": [
        "\r",
        "turnstile_150110.tx     [ <=>                  ]  17.84M  1.18MB/s             "
       ]
      },
      {
       "output_type": "stream",
       "stream": "stdout",
       "text": [
        "\r",
        "urnstile_150110.txt     [<=>                   ]  18.07M  1.18MB/s             "
       ]
      },
      {
       "output_type": "stream",
       "stream": "stdout",
       "text": [
        "\r",
        "rnstile_150110.txt.     [ <=>                  ]  18.30M  1.19MB/s             "
       ]
      },
      {
       "output_type": "stream",
       "stream": "stdout",
       "text": [
        "\r",
        "turnstile_150110.tx     [  <=>                 ]  18.53M  1.17MB/s             "
       ]
      },
      {
       "output_type": "stream",
       "stream": "stdout",
       "text": [
        "\r",
        "urnstile_150110.txt     [   <=>                ]  18.75M  1.17MB/s             "
       ]
      },
      {
       "output_type": "stream",
       "stream": "stdout",
       "text": [
        "\r",
        "rnstile_150110.txt.     [    <=>               ]  18.99M  1.16MB/s             "
       ]
      },
      {
       "output_type": "stream",
       "stream": "stdout",
       "text": [
        "\r",
        "turnstile_150110.tx     [     <=>              ]  19.24M  1.15MB/s             "
       ]
      },
      {
       "output_type": "stream",
       "stream": "stdout",
       "text": [
        "\r",
        "urnstile_150110.txt     [      <=>             ]  19.49M  1.16MB/s             "
       ]
      },
      {
       "output_type": "stream",
       "stream": "stdout",
       "text": [
        "\r",
        "rnstile_150110.txt.     [       <=>            ]  19.72M  1.14MB/s             "
       ]
      },
      {
       "output_type": "stream",
       "stream": "stdout",
       "text": [
        "\r",
        "turnstile_150110.tx     [        <=>           ]  19.98M  1.20MB/s             "
       ]
      },
      {
       "output_type": "stream",
       "stream": "stdout",
       "text": [
        "\r",
        "urnstile_150110.txt     [         <=>          ]  20.20M  1.15MB/s             "
       ]
      },
      {
       "output_type": "stream",
       "stream": "stdout",
       "text": [
        "\r",
        "rnstile_150110.txt.     [          <=>         ]  20.42M  1.15MB/s             "
       ]
      },
      {
       "output_type": "stream",
       "stream": "stdout",
       "text": [
        "\r",
        "turnstile_150110.tx     [           <=>        ]  20.70M  1.16MB/s             "
       ]
      },
      {
       "output_type": "stream",
       "stream": "stdout",
       "text": [
        "\r",
        "urnstile_150110.txt     [            <=>       ]  20.96M  1.17MB/s             "
       ]
      },
      {
       "output_type": "stream",
       "stream": "stdout",
       "text": [
        "\r",
        "rnstile_150110.txt.     [             <=>      ]  21.20M  1.16MB/s             "
       ]
      },
      {
       "output_type": "stream",
       "stream": "stdout",
       "text": [
        "\r",
        "turnstile_150110.tx     [              <=>     ]  21.46M  1.17MB/s             "
       ]
      },
      {
       "output_type": "stream",
       "stream": "stdout",
       "text": [
        "\r",
        "urnstile_150110.txt     [               <=>    ]  21.73M  1.19MB/s             "
       ]
      },
      {
       "output_type": "stream",
       "stream": "stdout",
       "text": [
        "\r",
        "rnstile_150110.txt.     [                <=>   ]  21.97M  1.19MB/s             "
       ]
      },
      {
       "output_type": "stream",
       "stream": "stdout",
       "text": [
        "\r",
        "turnstile_150110.tx     [                 <=>  ]  22.20M  1.19MB/s             "
       ]
      },
      {
       "output_type": "stream",
       "stream": "stdout",
       "text": [
        "\r",
        "urnstile_150110.txt     [                  <=> ]  22.42M  1.19MB/s             "
       ]
      },
      {
       "output_type": "stream",
       "stream": "stdout",
       "text": [
        "\r",
        "rnstile_150110.txt.     [                   <=>]  22.69M  1.21MB/s             "
       ]
      },
      {
       "output_type": "stream",
       "stream": "stdout",
       "text": [
        "\r",
        "turnstile_150110.tx     [                  <=> ]  22.95M  1.21MB/s             "
       ]
      },
      {
       "output_type": "stream",
       "stream": "stdout",
       "text": [
        "\r",
        "urnstile_150110.txt     [                 <=>  ]  23.22M  1.21MB/s             "
       ]
      },
      {
       "output_type": "stream",
       "stream": "stdout",
       "text": [
        "\r",
        "rnstile_150110.txt.     [                <=>   ]  23.44M  1.21MB/s             "
       ]
      },
      {
       "output_type": "stream",
       "stream": "stdout",
       "text": [
        "\r",
        "turnstile_150110.tx     [               <=>    ]  23.71M  1.21MB/s             "
       ]
      },
      {
       "output_type": "stream",
       "stream": "stdout",
       "text": [
        "\r",
        "urnstile_150110.txt     [              <=>     ]  23.98M  1.23MB/s             "
       ]
      },
      {
       "output_type": "stream",
       "stream": "stdout",
       "text": [
        "\r",
        "rnstile_150110.txt.     [             <=>      ]  24.22M  1.23MB/s             "
       ]
      },
      {
       "output_type": "stream",
       "stream": "stdout",
       "text": [
        "\r",
        "turnstile_150110.tx     [            <=>       ]  24.42M  1.22MB/s   in 21s    \r\n",
        "\r\n",
        "2015-02-22 07:02:44 (1.15 MB/s) - 'turnstile_150110.txt.1' saved [25610893]\r\n",
        "\r\n"
       ]
      },
      {
       "output_type": "stream",
       "stream": "stdout",
       "text": [
        "--2015-02-22 07:02:45--  http://web.mta.info/developers/data/nyct/turnstile/turnstile_150103.txt\r\n",
        "Resolving web.mta.info... "
       ]
      },
      {
       "output_type": "stream",
       "stream": "stdout",
       "text": [
        "107.14.41.104, 107.14.41.112\r\n",
        "Connecting to web.mta.info|107.14.41.104|:80... connected.\r\n",
        "HTTP request sent, awaiting response... "
       ]
      },
      {
       "output_type": "stream",
       "stream": "stdout",
       "text": [
        "200 OK\r\n",
        "Length: unspecified [text/plain]\r\n",
        "Saving to: 'turnstile_150103.txt'\r\n",
        "\r\n",
        "\r",
        "turnstile_150103.tx     [<=>                   ]       0  --.-KB/s             "
       ]
      },
      {
       "output_type": "stream",
       "stream": "stdout",
       "text": [
        "\r",
        "turnstile_150103.tx     [ <=>                  ] 265.51K  1.29MB/s             "
       ]
      },
      {
       "output_type": "stream",
       "stream": "stdout",
       "text": [
        "\r",
        "turnstile_150103.tx     [  <=>                 ] 437.48K  1.04MB/s             "
       ]
      },
      {
       "output_type": "stream",
       "stream": "stdout",
       "text": [
        "\r",
        "turnstile_150103.tx     [   <=>                ] 745.20K  1.19MB/s             "
       ]
      },
      {
       "output_type": "stream",
       "stream": "stdout",
       "text": [
        "\r",
        "turnstile_150103.tx     [    <=>               ]   1009K  1.22MB/s             "
       ]
      },
      {
       "output_type": "stream",
       "stream": "stdout",
       "text": [
        "\r",
        "turnstile_150103.tx     [     <=>              ]   1.15M  1.14MB/s             "
       ]
      },
      {
       "output_type": "stream",
       "stream": "stdout",
       "text": [
        "\r",
        "turnstile_150103.tx     [      <=>             ]   1.39M  1.15MB/s             "
       ]
      },
      {
       "output_type": "stream",
       "stream": "stdout",
       "text": [
        "\r",
        "turnstile_150103.tx     [       <=>            ]   1.63M  1.15MB/s             "
       ]
      },
      {
       "output_type": "stream",
       "stream": "stdout",
       "text": [
        "\r",
        "turnstile_150103.tx     [        <=>           ]   1.84M  1.08MB/s             "
       ]
      },
      {
       "output_type": "stream",
       "stream": "stdout",
       "text": [
        "\r",
        "turnstile_150103.tx     [         <=>          ]   2.08M  1.09MB/s             "
       ]
      },
      {
       "output_type": "stream",
       "stream": "stdout",
       "text": [
        "\r",
        "turnstile_150103.tx     [          <=>         ]   2.33M  1.10MB/s             "
       ]
      },
      {
       "output_type": "stream",
       "stream": "stdout",
       "text": [
        "\r",
        "turnstile_150103.tx     [           <=>        ]   2.60M  1.12MB/s             "
       ]
      },
      {
       "output_type": "stream",
       "stream": "stdout",
       "text": [
        "\r",
        "turnstile_150103.tx     [            <=>       ]   2.84M  1.13MB/s             "
       ]
      },
      {
       "output_type": "stream",
       "stream": "stdout",
       "text": [
        "\r",
        "turnstile_150103.tx     [             <=>      ]   3.07M  1.13MB/s             "
       ]
      },
      {
       "output_type": "stream",
       "stream": "stdout",
       "text": [
        "\r",
        "turnstile_150103.tx     [              <=>     ]   3.31M  1.13MB/s             "
       ]
      },
      {
       "output_type": "stream",
       "stream": "stdout",
       "text": [
        "\r",
        "turnstile_150103.tx     [               <=>    ]   3.56M  1.14MB/s             "
       ]
      },
      {
       "output_type": "stream",
       "stream": "stdout",
       "text": [
        "\r",
        "turnstile_150103.tx     [                <=>   ]   3.81M  1.14MB/s             "
       ]
      },
      {
       "output_type": "stream",
       "stream": "stdout",
       "text": [
        "\r",
        "turnstile_150103.tx     [                 <=>  ]   4.06M  1.14MB/s             "
       ]
      },
      {
       "output_type": "stream",
       "stream": "stdout",
       "text": [
        "\r",
        "turnstile_150103.tx     [                  <=> ]   4.31M  1.15MB/s             "
       ]
      },
      {
       "output_type": "stream",
       "stream": "stdout",
       "text": [
        "\r",
        "turnstile_150103.tx     [                   <=>]   4.57M  1.15MB/s             "
       ]
      },
      {
       "output_type": "stream",
       "stream": "stdout",
       "text": [
        "\r",
        "turnstile_150103.tx     [                  <=> ]   4.78M  1.16MB/s             "
       ]
      },
      {
       "output_type": "stream",
       "stream": "stdout",
       "text": [
        "\r",
        "turnstile_150103.tx     [                 <=>  ]   5.02M  1.16MB/s             "
       ]
      },
      {
       "output_type": "stream",
       "stream": "stdout",
       "text": [
        "\r",
        "turnstile_150103.tx     [                <=>   ]   5.27M  1.16MB/s             "
       ]
      },
      {
       "output_type": "stream",
       "stream": "stdout",
       "text": [
        "\r",
        "turnstile_150103.tx     [               <=>    ]   5.45M  1.19MB/s             "
       ]
      },
      {
       "output_type": "stream",
       "stream": "stdout",
       "text": [
        "\r",
        "turnstile_150103.tx     [              <=>     ]   5.66M  1.17MB/s             "
       ]
      },
      {
       "output_type": "stream",
       "stream": "stdout",
       "text": [
        "\r",
        "turnstile_150103.tx     [             <=>      ]   5.91M  1.19MB/s             "
       ]
      },
      {
       "output_type": "stream",
       "stream": "stdout",
       "text": [
        "\r",
        "turnstile_150103.tx     [            <=>       ]   6.16M  1.19MB/s             "
       ]
      },
      {
       "output_type": "stream",
       "stream": "stdout",
       "text": [
        "\r",
        "turnstile_150103.tx     [           <=>        ]   6.42M  1.19MB/s             "
       ]
      },
      {
       "output_type": "stream",
       "stream": "stdout",
       "text": [
        "\r",
        "turnstile_150103.tx     [          <=>         ]   6.66M  1.19MB/s             "
       ]
      },
      {
       "output_type": "stream",
       "stream": "stdout",
       "text": [
        "\r",
        "turnstile_150103.tx     [         <=>          ]   6.86M  1.17MB/s             "
       ]
      },
      {
       "output_type": "stream",
       "stream": "stdout",
       "text": [
        "\r",
        "turnstile_150103.tx     [        <=>           ]   7.08M  1.16MB/s             "
       ]
      },
      {
       "output_type": "stream",
       "stream": "stdout",
       "text": [
        "\r",
        "turnstile_150103.tx     [       <=>            ]   7.33M  1.16MB/s             "
       ]
      },
      {
       "output_type": "stream",
       "stream": "stdout",
       "text": [
        "\r",
        "turnstile_150103.tx     [      <=>             ]   7.60M  1.17MB/s             "
       ]
      },
      {
       "output_type": "stream",
       "stream": "stdout",
       "text": [
        "\r",
        "turnstile_150103.tx     [     <=>              ]   7.82M  1.16MB/s             "
       ]
      },
      {
       "output_type": "stream",
       "stream": "stdout",
       "text": [
        "\r",
        "turnstile_150103.tx     [    <=>               ]   8.09M  1.17MB/s             "
       ]
      },
      {
       "output_type": "stream",
       "stream": "stdout",
       "text": [
        "\r",
        "turnstile_150103.tx     [   <=>                ]   8.33M  1.16MB/s             "
       ]
      },
      {
       "output_type": "stream",
       "stream": "stdout",
       "text": [
        "\r",
        "turnstile_150103.tx     [  <=>                 ]   8.62M  1.19MB/s             "
       ]
      },
      {
       "output_type": "stream",
       "stream": "stdout",
       "text": [
        "\r",
        "turnstile_150103.tx     [ <=>                  ]   8.87M  1.19MB/s             "
       ]
      },
      {
       "output_type": "stream",
       "stream": "stdout",
       "text": [
        "\r",
        "turnstile_150103.tx     [<=>                   ]   9.12M  1.19MB/s             "
       ]
      },
      {
       "output_type": "stream",
       "stream": "stdout",
       "text": [
        "\r",
        "turnstile_150103.tx     [ <=>                  ]   9.38M  1.22MB/s             "
       ]
      },
      {
       "output_type": "stream",
       "stream": "stdout",
       "text": [
        "\r",
        "turnstile_150103.tx     [  <=>                 ]   9.63M  1.22MB/s             "
       ]
      },
      {
       "output_type": "stream",
       "stream": "stdout",
       "text": [
        "\r",
        "turnstile_150103.tx     [   <=>                ]   9.88M  1.23MB/s             "
       ]
      },
      {
       "output_type": "stream",
       "stream": "stdout",
       "text": [
        "\r",
        "turnstile_150103.tx     [    <=>               ]  10.14M  1.22MB/s             "
       ]
      },
      {
       "output_type": "stream",
       "stream": "stdout",
       "text": [
        "\r",
        "turnstile_150103.tx     [     <=>              ]  10.31M  1.18MB/s             "
       ]
      },
      {
       "output_type": "stream",
       "stream": "stdout",
       "text": [
        "\r",
        "turnstile_150103.tx     [      <=>             ]  10.48M  1.18MB/s             "
       ]
      },
      {
       "output_type": "stream",
       "stream": "stdout",
       "text": [
        "\r",
        "turnstile_150103.tx     [       <=>            ]  10.73M  1.18MB/s             "
       ]
      },
      {
       "output_type": "stream",
       "stream": "stdout",
       "text": [
        "\r",
        "turnstile_150103.tx     [        <=>           ]  10.93M  1.18MB/s             "
       ]
      },
      {
       "output_type": "stream",
       "stream": "stdout",
       "text": [
        "\r",
        "turnstile_150103.tx     [         <=>          ]  11.16M  1.16MB/s             "
       ]
      },
      {
       "output_type": "stream",
       "stream": "stdout",
       "text": [
        "\r",
        "turnstile_150103.tx     [          <=>         ]  11.38M  1.16MB/s             "
       ]
      },
      {
       "output_type": "stream",
       "stream": "stdout",
       "text": [
        "\r",
        "turnstile_150103.tx     [           <=>        ]  11.61M  1.14MB/s             "
       ]
      },
      {
       "output_type": "stream",
       "stream": "stdout",
       "text": [
        "\r",
        "turnstile_150103.tx     [            <=>       ]  11.83M  1.15MB/s             "
       ]
      },
      {
       "output_type": "stream",
       "stream": "stdout",
       "text": [
        "\r",
        "turnstile_150103.tx     [             <=>      ]  12.07M  1.13MB/s             "
       ]
      },
      {
       "output_type": "stream",
       "stream": "stdout",
       "text": [
        "\r",
        "turnstile_150103.tx     [              <=>     ]  12.34M  1.13MB/s             "
       ]
      },
      {
       "output_type": "stream",
       "stream": "stdout",
       "text": [
        "\r",
        "turnstile_150103.tx     [               <=>    ]  12.56M  1.13MB/s             "
       ]
      },
      {
       "output_type": "stream",
       "stream": "stdout",
       "text": [
        "\r",
        "turnstile_150103.tx     [                <=>   ]  12.77M  1.11MB/s             "
       ]
      },
      {
       "output_type": "stream",
       "stream": "stdout",
       "text": [
        "\r",
        "turnstile_150103.tx     [                 <=>  ]  13.00M  1.10MB/s             "
       ]
      },
      {
       "output_type": "stream",
       "stream": "stdout",
       "text": [
        "\r",
        "turnstile_150103.tx     [                  <=> ]  13.24M  1.11MB/s             "
       ]
      },
      {
       "output_type": "stream",
       "stream": "stdout",
       "text": [
        "\r",
        "turnstile_150103.tx     [                   <=>]  13.50M  1.10MB/s             "
       ]
      },
      {
       "output_type": "stream",
       "stream": "stdout",
       "text": [
        "\r",
        "turnstile_150103.tx     [                  <=> ]  13.67M  1.09MB/s             "
       ]
      },
      {
       "output_type": "stream",
       "stream": "stdout",
       "text": [
        "\r",
        "turnstile_150103.tx     [                 <=>  ]  13.87M  1.09MB/s             "
       ]
      },
      {
       "output_type": "stream",
       "stream": "stdout",
       "text": [
        "\r",
        "turnstile_150103.tx     [                <=>   ]  14.07M  1.11MB/s             "
       ]
      },
      {
       "output_type": "stream",
       "stream": "stdout",
       "text": [
        "\r",
        "turnstile_150103.tx     [               <=>    ]  14.32M  1.12MB/s             "
       ]
      },
      {
       "output_type": "stream",
       "stream": "stdout",
       "text": [
        "\r",
        "turnstile_150103.tx     [              <=>     ]  14.54M  1.12MB/s             "
       ]
      },
      {
       "output_type": "stream",
       "stream": "stdout",
       "text": [
        "\r",
        "turnstile_150103.tx     [             <=>      ]  14.80M  1.13MB/s             "
       ]
      },
      {
       "output_type": "stream",
       "stream": "stdout",
       "text": [
        "\r",
        "turnstile_150103.tx     [            <=>       ]  15.05M  1.13MB/s             "
       ]
      },
      {
       "output_type": "stream",
       "stream": "stdout",
       "text": [
        "\r",
        "turnstile_150103.tx     [           <=>        ]  15.22M  1.12MB/s             "
       ]
      },
      {
       "output_type": "stream",
       "stream": "stdout",
       "text": [
        "\r",
        "turnstile_150103.tx     [          <=>         ]  15.45M  1.12MB/s             "
       ]
      },
      {
       "output_type": "stream",
       "stream": "stdout",
       "text": [
        "\r",
        "turnstile_150103.tx     [         <=>          ]  15.71M  1.12MB/s             "
       ]
      },
      {
       "output_type": "stream",
       "stream": "stdout",
       "text": [
        "\r",
        "turnstile_150103.tx     [        <=>           ]  15.93M  1.12MB/s             "
       ]
      },
      {
       "output_type": "stream",
       "stream": "stdout",
       "text": [
        "\r",
        "turnstile_150103.tx     [       <=>            ]  16.14M  1.11MB/s             "
       ]
      },
      {
       "output_type": "stream",
       "stream": "stdout",
       "text": [
        "\r",
        "turnstile_150103.tx     [      <=>             ]  16.40M  1.12MB/s             "
       ]
      },
      {
       "output_type": "stream",
       "stream": "stdout",
       "text": [
        "\r",
        "turnstile_150103.tx     [     <=>              ]  16.67M  1.13MB/s             "
       ]
      },
      {
       "output_type": "stream",
       "stream": "stdout",
       "text": [
        "\r",
        "turnstile_150103.tx     [    <=>               ]  16.94M  1.14MB/s             "
       ]
      },
      {
       "output_type": "stream",
       "stream": "stdout",
       "text": [
        "\r",
        "turnstile_150103.tx     [   <=>                ]  17.20M  1.17MB/s             "
       ]
      },
      {
       "output_type": "stream",
       "stream": "stdout",
       "text": [
        "\r",
        "turnstile_150103.tx     [  <=>                 ]  17.45M  1.18MB/s             "
       ]
      },
      {
       "output_type": "stream",
       "stream": "stdout",
       "text": [
        "\r",
        "turnstile_150103.tx     [ <=>                  ]  17.71M  1.18MB/s             "
       ]
      },
      {
       "output_type": "stream",
       "stream": "stdout",
       "text": [
        "\r",
        "turnstile_150103.tx     [<=>                   ]  17.96M  1.19MB/s             "
       ]
      },
      {
       "output_type": "stream",
       "stream": "stdout",
       "text": [
        "\r",
        "turnstile_150103.tx     [ <=>                  ]  18.21M  1.19MB/s             "
       ]
      },
      {
       "output_type": "stream",
       "stream": "stdout",
       "text": [
        "\r",
        "turnstile_150103.tx     [  <=>                 ]  18.46M  1.20MB/s             "
       ]
      },
      {
       "output_type": "stream",
       "stream": "stdout",
       "text": [
        "\r",
        "turnstile_150103.tx     [   <=>                ]  18.73M  1.21MB/s             "
       ]
      },
      {
       "output_type": "stream",
       "stream": "stdout",
       "text": [
        "\r",
        "turnstile_150103.tx     [    <=>               ]  19.00M  1.23MB/s             "
       ]
      },
      {
       "output_type": "stream",
       "stream": "stdout",
       "text": [
        "\r",
        "turnstile_150103.tx     [     <=>              ]  19.26M  1.25MB/s             "
       ]
      },
      {
       "output_type": "stream",
       "stream": "stdout",
       "text": [
        "\r",
        "turnstile_150103.tx     [      <=>             ]  19.51M  1.25MB/s             "
       ]
      },
      {
       "output_type": "stream",
       "stream": "stdout",
       "text": [
        "\r",
        "turnstile_150103.tx     [       <=>            ]  19.77M  1.25MB/s             "
       ]
      },
      {
       "output_type": "stream",
       "stream": "stdout",
       "text": [
        "\r",
        "turnstile_150103.tx     [        <=>           ]  20.02M  1.25MB/s             "
       ]
      },
      {
       "output_type": "stream",
       "stream": "stdout",
       "text": [
        "\r",
        "turnstile_150103.tx     [         <=>          ]  20.29M  1.27MB/s             "
       ]
      },
      {
       "output_type": "stream",
       "stream": "stdout",
       "text": [
        "\r",
        "turnstile_150103.tx     [          <=>         ]  20.53M  1.26MB/s             "
       ]
      },
      {
       "output_type": "stream",
       "stream": "stdout",
       "text": [
        "\r",
        "turnstile_150103.tx     [           <=>        ]  20.78M  1.26MB/s             "
       ]
      },
      {
       "output_type": "stream",
       "stream": "stdout",
       "text": [
        "\r",
        "turnstile_150103.tx     [            <=>       ]  21.00M  1.25MB/s             "
       ]
      },
      {
       "output_type": "stream",
       "stream": "stdout",
       "text": [
        "\r",
        "turnstile_150103.tx     [             <=>      ]  21.26M  1.24MB/s             "
       ]
      },
      {
       "output_type": "stream",
       "stream": "stdout",
       "text": [
        "\r",
        "turnstile_150103.tx     [              <=>     ]  21.46M  1.19MB/s             "
       ]
      },
      {
       "output_type": "stream",
       "stream": "stdout",
       "text": [
        "\r",
        "turnstile_150103.tx     [               <=>    ]  21.84M  1.23MB/s             "
       ]
      },
      {
       "output_type": "stream",
       "stream": "stdout",
       "text": [
        "\r",
        "turnstile_150103.tx     [                <=>   ]  22.07M  1.22MB/s             "
       ]
      },
      {
       "output_type": "stream",
       "stream": "stdout",
       "text": [
        "\r",
        "turnstile_150103.tx     [                 <=>  ]  22.32M  1.23MB/s             "
       ]
      },
      {
       "output_type": "stream",
       "stream": "stdout",
       "text": [
        "\r",
        "turnstile_150103.tx     [                  <=> ]  22.53M  1.21MB/s             "
       ]
      },
      {
       "output_type": "stream",
       "stream": "stdout",
       "text": [
        "\r",
        "turnstile_150103.tx     [                   <=>]  22.77M  1.20MB/s             "
       ]
      },
      {
       "output_type": "stream",
       "stream": "stdout",
       "text": [
        "\r",
        "turnstile_150103.tx     [                  <=> ]  23.00M  1.19MB/s             "
       ]
      },
      {
       "output_type": "stream",
       "stream": "stdout",
       "text": [
        "\r",
        "turnstile_150103.tx     [                 <=>  ]  23.25M  1.19MB/s             "
       ]
      },
      {
       "output_type": "stream",
       "stream": "stdout",
       "text": [
        "\r",
        "turnstile_150103.tx     [                <=>   ]  23.52M  1.19MB/s             "
       ]
      },
      {
       "output_type": "stream",
       "stream": "stdout",
       "text": [
        "\r",
        "turnstile_150103.tx     [               <=>    ]  23.71M  1.17MB/s             "
       ]
      },
      {
       "output_type": "stream",
       "stream": "stdout",
       "text": [
        "\r",
        "turnstile_150103.tx     [              <=>     ]  23.94M  1.16MB/s             "
       ]
      },
      {
       "output_type": "stream",
       "stream": "stdout",
       "text": [
        "\r",
        "turnstile_150103.tx     [             <=>      ]  24.17M  1.17MB/s             "
       ]
      },
      {
       "output_type": "stream",
       "stream": "stdout",
       "text": [
        "\r",
        "turnstile_150103.tx     [            <=>       ]  24.25M  1.16MB/s   in 21s    \r\n",
        "\r\n",
        "2015-02-22 07:03:06 (1.17 MB/s) - 'turnstile_150103.txt' saved [25428934]\r\n",
        "\r\n"
       ]
      }
     ],
     "prompt_number": 1
    },
    {
     "cell_type": "code",
     "collapsed": false,
     "input": [
      "import pandas as pd\n",
      "import numpy as np\n",
      "from datetime import datetime\n",
      "import dateutil.parser\n",
      "\n",
      "import matplotlib.pyplot as plt\n",
      "%matplotlib inline\n",
      "import seaborn as sb"
     ],
     "language": "python",
     "metadata": {},
     "outputs": [],
     "prompt_number": 1
    },
    {
     "cell_type": "code",
     "collapsed": false,
     "input": [
      "import glob\n",
      "\n",
      "turnstile_df = pd.DataFrame()\n",
      "for txt in glob.glob(\"turnstile_*.txt\"):\n",
      "    df = pd.read_csv(txt, parse_dates={'TIMESTAMP': ['DATE']}, keep_date_col = True)\n",
      "    turnstile_df = turnstile_df.append(df,ignore_index=True)\n",
      "    \n",
      "turnstile_df.head()\n",
      "# Each row is the aggregate data for one turnstile measured in four hour increments"
     ],
     "language": "python",
     "metadata": {},
     "outputs": [
      {
       "html": [
        "<div style=\"max-height:1000px;max-width:1500px;overflow:auto;\">\n",
        "<table border=\"1\" class=\"dataframe\">\n",
        "  <thead>\n",
        "    <tr style=\"text-align: right;\">\n",
        "      <th></th>\n",
        "      <th>TIMESTAMP</th>\n",
        "      <th>C/A</th>\n",
        "      <th>UNIT</th>\n",
        "      <th>SCP</th>\n",
        "      <th>STATION</th>\n",
        "      <th>LINENAME</th>\n",
        "      <th>DIVISION</th>\n",
        "      <th>DATE</th>\n",
        "      <th>TIME</th>\n",
        "      <th>DESC</th>\n",
        "      <th>ENTRIES</th>\n",
        "      <th>EXITS                                                               </th>\n",
        "    </tr>\n",
        "  </thead>\n",
        "  <tbody>\n",
        "    <tr>\n",
        "      <th>0</th>\n",
        "      <td>2014-12-27</td>\n",
        "      <td> A002</td>\n",
        "      <td> R051</td>\n",
        "      <td> 02-00-00</td>\n",
        "      <td> LEXINGTON AVE</td>\n",
        "      <td> NQR456</td>\n",
        "      <td> BMT</td>\n",
        "      <td> 12/27/2014</td>\n",
        "      <td> 03:00:00</td>\n",
        "      <td> REGULAR</td>\n",
        "      <td> 4936840</td>\n",
        "      <td> 1672747</td>\n",
        "    </tr>\n",
        "    <tr>\n",
        "      <th>1</th>\n",
        "      <td>2014-12-27</td>\n",
        "      <td> A002</td>\n",
        "      <td> R051</td>\n",
        "      <td> 02-00-00</td>\n",
        "      <td> LEXINGTON AVE</td>\n",
        "      <td> NQR456</td>\n",
        "      <td> BMT</td>\n",
        "      <td> 12/27/2014</td>\n",
        "      <td> 07:00:00</td>\n",
        "      <td> REGULAR</td>\n",
        "      <td> 4936852</td>\n",
        "      <td> 1672762</td>\n",
        "    </tr>\n",
        "    <tr>\n",
        "      <th>2</th>\n",
        "      <td>2014-12-27</td>\n",
        "      <td> A002</td>\n",
        "      <td> R051</td>\n",
        "      <td> 02-00-00</td>\n",
        "      <td> LEXINGTON AVE</td>\n",
        "      <td> NQR456</td>\n",
        "      <td> BMT</td>\n",
        "      <td> 12/27/2014</td>\n",
        "      <td> 11:00:00</td>\n",
        "      <td> REGULAR</td>\n",
        "      <td> 4936909</td>\n",
        "      <td> 1672839</td>\n",
        "    </tr>\n",
        "    <tr>\n",
        "      <th>3</th>\n",
        "      <td>2014-12-27</td>\n",
        "      <td> A002</td>\n",
        "      <td> R051</td>\n",
        "      <td> 02-00-00</td>\n",
        "      <td> LEXINGTON AVE</td>\n",
        "      <td> NQR456</td>\n",
        "      <td> BMT</td>\n",
        "      <td> 12/27/2014</td>\n",
        "      <td> 15:00:00</td>\n",
        "      <td> REGULAR</td>\n",
        "      <td> 4937131</td>\n",
        "      <td> 1672892</td>\n",
        "    </tr>\n",
        "    <tr>\n",
        "      <th>4</th>\n",
        "      <td>2014-12-27</td>\n",
        "      <td> A002</td>\n",
        "      <td> R051</td>\n",
        "      <td> 02-00-00</td>\n",
        "      <td> LEXINGTON AVE</td>\n",
        "      <td> NQR456</td>\n",
        "      <td> BMT</td>\n",
        "      <td> 12/27/2014</td>\n",
        "      <td> 19:00:00</td>\n",
        "      <td> REGULAR</td>\n",
        "      <td> 4937588</td>\n",
        "      <td> 1672949</td>\n",
        "    </tr>\n",
        "  </tbody>\n",
        "</table>\n",
        "</div>"
       ],
       "metadata": {},
       "output_type": "pyout",
       "prompt_number": 2,
       "text": [
        "   TIMESTAMP   C/A  UNIT       SCP        STATION LINENAME DIVISION  \\\n",
        "0 2014-12-27  A002  R051  02-00-00  LEXINGTON AVE   NQR456      BMT   \n",
        "1 2014-12-27  A002  R051  02-00-00  LEXINGTON AVE   NQR456      BMT   \n",
        "2 2014-12-27  A002  R051  02-00-00  LEXINGTON AVE   NQR456      BMT   \n",
        "3 2014-12-27  A002  R051  02-00-00  LEXINGTON AVE   NQR456      BMT   \n",
        "4 2014-12-27  A002  R051  02-00-00  LEXINGTON AVE   NQR456      BMT   \n",
        "\n",
        "         DATE      TIME     DESC  ENTRIES  \\\n",
        "0  12/27/2014  03:00:00  REGULAR  4936840   \n",
        "1  12/27/2014  07:00:00  REGULAR  4936852   \n",
        "2  12/27/2014  11:00:00  REGULAR  4936909   \n",
        "3  12/27/2014  15:00:00  REGULAR  4937131   \n",
        "4  12/27/2014  19:00:00  REGULAR  4937588   \n",
        "\n",
        "   EXITS                                                                 \n",
        "0                                            1672747                     \n",
        "1                                            1672762                     \n",
        "2                                            1672839                     \n",
        "3                                            1672892                     \n",
        "4                                            1672949                     "
       ]
      }
     ],
     "prompt_number": 2
    },
    {
     "cell_type": "code",
     "collapsed": false,
     "input": [
      "turnstile_df.dtypes"
     ],
     "language": "python",
     "metadata": {},
     "outputs": [
      {
       "metadata": {},
       "output_type": "pyout",
       "prompt_number": 3,
       "text": [
        "TIMESTAMP                                                       datetime64[ns]\n",
        "C/A                                                                     object\n",
        "UNIT                                                                    object\n",
        "SCP                                                                     object\n",
        "STATION                                                                 object\n",
        "LINENAME                                                                object\n",
        "DIVISION                                                                object\n",
        "DATE                                                                    object\n",
        "TIME                                                                    object\n",
        "DESC                                                                    object\n",
        "ENTRIES                                                                  int64\n",
        "EXITS                                                                            int64\n",
        "dtype: object"
       ]
      }
     ],
     "prompt_number": 3
    },
    {
     "cell_type": "code",
     "collapsed": false,
     "input": [
      "len(turnstile_df)"
     ],
     "language": "python",
     "metadata": {},
     "outputs": [
      {
       "metadata": {},
       "output_type": "pyout",
       "prompt_number": 4,
       "text": [
        "783725"
       ]
      }
     ],
     "prompt_number": 4
    },
    {
     "cell_type": "markdown",
     "metadata": {},
     "source": [
      "### Aggregate daily ridership for a single turnstile"
     ]
    },
    {
     "cell_type": "code",
     "collapsed": false,
     "input": [
      "daily_turnstile_df = turnstile_df"
     ],
     "language": "python",
     "metadata": {},
     "outputs": [],
     "prompt_number": 5
    },
    {
     "cell_type": "code",
     "collapsed": false,
     "input": [
      "len(daily_turnstile_df.groupby(['STATION', 'LINENAME']))"
     ],
     "language": "python",
     "metadata": {},
     "outputs": [
      {
       "metadata": {},
       "output_type": "pyout",
       "prompt_number": 6,
       "text": [
        "472"
       ]
      }
     ],
     "prompt_number": 6
    },
    {
     "cell_type": "code",
     "collapsed": false,
     "input": [
      "# examine station and their lines\n",
      "# some lines are not listed consistently. ie. 14 ST-UNION SQ \n",
      "\n",
      "pd.set_option('display.max_rows', 500)\n",
      "daily_turnstile_df.groupby(['STATION', 'LINENAME']).mean()"
     ],
     "language": "python",
     "metadata": {},
     "outputs": [
      {
       "html": [
        "<div style=\"max-height:1000px;max-width:1500px;overflow:auto;\">\n",
        "<table border=\"1\" class=\"dataframe\">\n",
        "  <thead>\n",
        "    <tr style=\"text-align: right;\">\n",
        "      <th></th>\n",
        "      <th></th>\n",
        "      <th>ENTRIES</th>\n",
        "      <th>EXITS                                                               </th>\n",
        "    </tr>\n",
        "    <tr>\n",
        "      <th>STATION</th>\n",
        "      <th>LINENAME</th>\n",
        "      <th></th>\n",
        "      <th></th>\n",
        "    </tr>\n",
        "  </thead>\n",
        "  <tbody>\n",
        "    <tr>\n",
        "      <th>1 AVE</th>\n",
        "      <th>L</th>\n",
        "      <td> 5.235746e+07</td>\n",
        "      <td> 2.781169e+07</td>\n",
        "    </tr>\n",
        "    <tr>\n",
        "      <th rowspan=\"3\" valign=\"top\">103 ST</th>\n",
        "      <th>1</th>\n",
        "      <td> 9.910209e+06</td>\n",
        "      <td> 5.120572e+06</td>\n",
        "    </tr>\n",
        "    <tr>\n",
        "      <th>6</th>\n",
        "      <td> 5.752368e+06</td>\n",
        "      <td> 6.768875e+06</td>\n",
        "    </tr>\n",
        "    <tr>\n",
        "      <th>BC</th>\n",
        "      <td> 7.739412e+06</td>\n",
        "      <td> 7.018204e+06</td>\n",
        "    </tr>\n",
        "    <tr>\n",
        "      <th>103 ST-CORONA</th>\n",
        "      <th>7</th>\n",
        "      <td> 7.336024e+06</td>\n",
        "      <td> 6.503181e+06</td>\n",
        "    </tr>\n",
        "    <tr>\n",
        "      <th>104 ST</th>\n",
        "      <th>JZ</th>\n",
        "      <td> 5.091538e+08</td>\n",
        "      <td> 1.580507e+08</td>\n",
        "    </tr>\n",
        "    <tr>\n",
        "      <th>110 ST</th>\n",
        "      <th>6</th>\n",
        "      <td> 4.980353e+06</td>\n",
        "      <td> 4.554221e+06</td>\n",
        "    </tr>\n",
        "    <tr>\n",
        "      <th>110 ST-CATHEDRL</th>\n",
        "      <th>1</th>\n",
        "      <td> 5.828282e+06</td>\n",
        "      <td> 2.549454e+06</td>\n",
        "    </tr>\n",
        "    <tr>\n",
        "      <th>110 ST-CPN</th>\n",
        "      <th>23</th>\n",
        "      <td> 1.061775e+07</td>\n",
        "      <td> 4.172728e+06</td>\n",
        "    </tr>\n",
        "    <tr>\n",
        "      <th rowspan=\"2\" valign=\"top\">111 ST</th>\n",
        "      <th>7</th>\n",
        "      <td> 7.209860e+06</td>\n",
        "      <td> 4.257066e+06</td>\n",
        "    </tr>\n",
        "    <tr>\n",
        "      <th>J</th>\n",
        "      <td> 3.550979e+06</td>\n",
        "      <td> 3.356556e+06</td>\n",
        "    </tr>\n",
        "    <tr>\n",
        "      <th rowspan=\"3\" valign=\"top\">116 ST</th>\n",
        "      <th>23</th>\n",
        "      <td> 3.094076e+06</td>\n",
        "      <td> 1.524688e+06</td>\n",
        "    </tr>\n",
        "    <tr>\n",
        "      <th>6</th>\n",
        "      <td> 6.121179e+06</td>\n",
        "      <td> 4.567792e+06</td>\n",
        "    </tr>\n",
        "    <tr>\n",
        "      <th>BC</th>\n",
        "      <td> 3.232970e+06</td>\n",
        "      <td> 3.768612e+06</td>\n",
        "    </tr>\n",
        "    <tr>\n",
        "      <th>116 ST-COLUMBIA</th>\n",
        "      <th>1</th>\n",
        "      <td> 8.571944e+06</td>\n",
        "      <td> 3.246549e+06</td>\n",
        "    </tr>\n",
        "    <tr>\n",
        "      <th>121 ST</th>\n",
        "      <th>JZ</th>\n",
        "      <td> 1.402137e+06</td>\n",
        "      <td> 1.210876e+06</td>\n",
        "    </tr>\n",
        "    <tr>\n",
        "      <th rowspan=\"4\" valign=\"top\">125 ST</th>\n",
        "      <th>1</th>\n",
        "      <td> 2.636851e+06</td>\n",
        "      <td> 2.957254e+06</td>\n",
        "    </tr>\n",
        "    <tr>\n",
        "      <th>23</th>\n",
        "      <td> 1.277692e+08</td>\n",
        "      <td> 5.915688e+07</td>\n",
        "    </tr>\n",
        "    <tr>\n",
        "      <th>456</th>\n",
        "      <td> 1.463115e+08</td>\n",
        "      <td> 6.237254e+07</td>\n",
        "    </tr>\n",
        "    <tr>\n",
        "      <th>ACBD</th>\n",
        "      <td> 2.934017e+07</td>\n",
        "      <td> 2.441139e+07</td>\n",
        "    </tr>\n",
        "    <tr>\n",
        "      <th rowspan=\"2\" valign=\"top\">135 ST</th>\n",
        "      <th>23</th>\n",
        "      <td> 2.799301e+06</td>\n",
        "      <td> 1.266427e+06</td>\n",
        "    </tr>\n",
        "    <tr>\n",
        "      <th>BC</th>\n",
        "      <td> 1.244616e+07</td>\n",
        "      <td> 1.119780e+06</td>\n",
        "    </tr>\n",
        "    <tr>\n",
        "      <th>137 ST-CITY COL</th>\n",
        "      <th>1</th>\n",
        "      <td> 6.515811e+07</td>\n",
        "      <td> 9.083443e+07</td>\n",
        "    </tr>\n",
        "    <tr>\n",
        "      <th>138 ST-3 AVE</th>\n",
        "      <th>6</th>\n",
        "      <td> 3.927063e+06</td>\n",
        "      <td> 3.463921e+06</td>\n",
        "    </tr>\n",
        "    <tr>\n",
        "      <th>138 ST-GR CONC</th>\n",
        "      <th>45</th>\n",
        "      <td> 3.316788e+08</td>\n",
        "      <td> 3.203438e+08</td>\n",
        "    </tr>\n",
        "    <tr>\n",
        "      <th rowspan=\"2\" valign=\"top\">14 ST</th>\n",
        "      <th>123FLM</th>\n",
        "      <td> 9.419413e+07</td>\n",
        "      <td> 1.041335e+08</td>\n",
        "    </tr>\n",
        "    <tr>\n",
        "      <th>ACEL</th>\n",
        "      <td> 2.569706e+07</td>\n",
        "      <td> 4.688720e+06</td>\n",
        "    </tr>\n",
        "    <tr>\n",
        "      <th>14 ST-6 AVE</th>\n",
        "      <th>FLM123</th>\n",
        "      <td> 2.827540e+06</td>\n",
        "      <td> 2.951209e+06</td>\n",
        "    </tr>\n",
        "    <tr>\n",
        "      <th rowspan=\"2\" valign=\"top\">14 ST-UNION SQ</th>\n",
        "      <th>456LNQR</th>\n",
        "      <td> 1.552423e+07</td>\n",
        "      <td> 5.100471e+06</td>\n",
        "    </tr>\n",
        "    <tr>\n",
        "      <th>LNQR456</th>\n",
        "      <td> 2.941426e+07</td>\n",
        "      <td> 1.372350e+07</td>\n",
        "    </tr>\n",
        "    <tr>\n",
        "      <th rowspan=\"3\" valign=\"top\">145 ST</th>\n",
        "      <th>1</th>\n",
        "      <td> 7.179196e+07</td>\n",
        "      <td> 1.734580e+07</td>\n",
        "    </tr>\n",
        "    <tr>\n",
        "      <th>3</th>\n",
        "      <td> 3.332703e+06</td>\n",
        "      <td> 1.744059e+05</td>\n",
        "    </tr>\n",
        "    <tr>\n",
        "      <th>ABCD</th>\n",
        "      <td> 1.061077e+07</td>\n",
        "      <td> 1.051767e+07</td>\n",
        "    </tr>\n",
        "    <tr>\n",
        "      <th>148 ST-LENOX</th>\n",
        "      <th>3</th>\n",
        "      <td> 2.508579e+06</td>\n",
        "      <td> 1.681279e+06</td>\n",
        "    </tr>\n",
        "    <tr>\n",
        "      <th>149 ST-3 AVE</th>\n",
        "      <th>25</th>\n",
        "      <td> 3.225837e+06</td>\n",
        "      <td> 2.221145e+06</td>\n",
        "    </tr>\n",
        "    <tr>\n",
        "      <th>149 ST-GR CONC</th>\n",
        "      <th>245</th>\n",
        "      <td> 3.574152e+07</td>\n",
        "      <td> 2.723987e+06</td>\n",
        "    </tr>\n",
        "    <tr>\n",
        "      <th>14TH STREET</th>\n",
        "      <th>1</th>\n",
        "      <td> 3.422185e+05</td>\n",
        "      <td> 3.415077e+05</td>\n",
        "    </tr>\n",
        "    <tr>\n",
        "      <th>15 ST-PROSPECT</th>\n",
        "      <th>FG</th>\n",
        "      <td> 1.737710e+06</td>\n",
        "      <td> 7.674678e+05</td>\n",
        "    </tr>\n",
        "    <tr>\n",
        "      <th rowspan=\"2\" valign=\"top\">155 ST</th>\n",
        "      <th>BD</th>\n",
        "      <td> 5.506645e+06</td>\n",
        "      <td> 3.836639e+06</td>\n",
        "    </tr>\n",
        "    <tr>\n",
        "      <th>C</th>\n",
        "      <td> 2.417758e+06</td>\n",
        "      <td> 2.129622e+06</td>\n",
        "    </tr>\n",
        "    <tr>\n",
        "      <th>157 ST</th>\n",
        "      <th>1</th>\n",
        "      <td> 3.496197e+06</td>\n",
        "      <td> 2.340044e+06</td>\n",
        "    </tr>\n",
        "    <tr>\n",
        "      <th rowspan=\"2\" valign=\"top\">161 ST-YANKEE</th>\n",
        "      <th>4BD</th>\n",
        "      <td> 1.304223e+06</td>\n",
        "      <td> 9.121443e+05</td>\n",
        "    </tr>\n",
        "    <tr>\n",
        "      <th>BD4</th>\n",
        "      <td> 2.337502e+06</td>\n",
        "      <td> 1.829147e+06</td>\n",
        "    </tr>\n",
        "    <tr>\n",
        "      <th>163 ST-AMSTERDM</th>\n",
        "      <th>C</th>\n",
        "      <td> 2.677311e+06</td>\n",
        "      <td> 1.834546e+06</td>\n",
        "    </tr>\n",
        "    <tr>\n",
        "      <th rowspan=\"2\" valign=\"top\">167 ST</th>\n",
        "      <th>4</th>\n",
        "      <td> 6.197397e+06</td>\n",
        "      <td> 4.231734e+06</td>\n",
        "    </tr>\n",
        "    <tr>\n",
        "      <th>BD</th>\n",
        "      <td> 3.622987e+06</td>\n",
        "      <td> 2.027710e+06</td>\n",
        "    </tr>\n",
        "    <tr>\n",
        "      <th rowspan=\"2\" valign=\"top\">168 ST-BROADWAY</th>\n",
        "      <th>1AC</th>\n",
        "      <td> 8.899925e+06</td>\n",
        "      <td> 6.368809e+06</td>\n",
        "    </tr>\n",
        "    <tr>\n",
        "      <th>AC1</th>\n",
        "      <td> 4.943112e+06</td>\n",
        "      <td> 6.208110e+05</td>\n",
        "    </tr>\n",
        "    <tr>\n",
        "      <th>169 ST</th>\n",
        "      <th>F</th>\n",
        "      <td> 1.424471e+06</td>\n",
        "      <td> 1.580198e+06</td>\n",
        "    </tr>\n",
        "    <tr>\n",
        "      <th rowspan=\"2\" valign=\"top\">170 ST</th>\n",
        "      <th>4</th>\n",
        "      <td> 3.524630e+06</td>\n",
        "      <td> 2.546969e+06</td>\n",
        "    </tr>\n",
        "    <tr>\n",
        "      <th>BD</th>\n",
        "      <td> 1.272965e+08</td>\n",
        "      <td> 2.427063e+08</td>\n",
        "    </tr>\n",
        "    <tr>\n",
        "      <th>174 ST</th>\n",
        "      <th>25</th>\n",
        "      <td> 4.109303e+06</td>\n",
        "      <td> 5.130749e+07</td>\n",
        "    </tr>\n",
        "    <tr>\n",
        "      <th>174-175 ST</th>\n",
        "      <th>BD</th>\n",
        "      <td> 1.431139e+06</td>\n",
        "      <td> 1.036799e+06</td>\n",
        "    </tr>\n",
        "    <tr>\n",
        "      <th>175 ST</th>\n",
        "      <th>A</th>\n",
        "      <td> 9.356970e+06</td>\n",
        "      <td> 1.156208e+06</td>\n",
        "    </tr>\n",
        "    <tr>\n",
        "      <th>176 ST</th>\n",
        "      <th>4</th>\n",
        "      <td> 1.094383e+07</td>\n",
        "      <td> 1.806115e+06</td>\n",
        "    </tr>\n",
        "    <tr>\n",
        "      <th rowspan=\"3\" valign=\"top\">18 AVE</th>\n",
        "      <th>D</th>\n",
        "      <td> 4.223469e+06</td>\n",
        "      <td> 3.622753e+06</td>\n",
        "    </tr>\n",
        "    <tr>\n",
        "      <th>F</th>\n",
        "      <td> 3.287424e+06</td>\n",
        "      <td> 3.042797e+06</td>\n",
        "    </tr>\n",
        "    <tr>\n",
        "      <th>N</th>\n",
        "      <td> 5.190945e+06</td>\n",
        "      <td> 5.071887e+06</td>\n",
        "    </tr>\n",
        "    <tr>\n",
        "      <th>18 ST</th>\n",
        "      <th>1</th>\n",
        "      <td> 2.425579e+06</td>\n",
        "      <td> 1.429814e+06</td>\n",
        "    </tr>\n",
        "    <tr>\n",
        "      <th rowspan=\"2\" valign=\"top\">181 ST</th>\n",
        "      <th>1</th>\n",
        "      <td> 5.714559e+06</td>\n",
        "      <td> 7.235197e+06</td>\n",
        "    </tr>\n",
        "    <tr>\n",
        "      <th>A</th>\n",
        "      <td> 7.970088e+06</td>\n",
        "      <td> 6.636557e+06</td>\n",
        "    </tr>\n",
        "    <tr>\n",
        "      <th>182-183 ST</th>\n",
        "      <th>BD</th>\n",
        "      <td> 7.988767e+06</td>\n",
        "      <td> 4.839140e+06</td>\n",
        "    </tr>\n",
        "    <tr>\n",
        "      <th>183 ST</th>\n",
        "      <th>4</th>\n",
        "      <td> 4.470456e+08</td>\n",
        "      <td> 4.666300e+08</td>\n",
        "    </tr>\n",
        "    <tr>\n",
        "      <th>190 ST</th>\n",
        "      <th>A</th>\n",
        "      <td> 5.577254e+06</td>\n",
        "      <td> 3.201079e+06</td>\n",
        "    </tr>\n",
        "    <tr>\n",
        "      <th>191 ST</th>\n",
        "      <th>1</th>\n",
        "      <td> 4.061147e+06</td>\n",
        "      <td> 3.994842e+06</td>\n",
        "    </tr>\n",
        "    <tr>\n",
        "      <th>2 AVE</th>\n",
        "      <th>F</th>\n",
        "      <td> 4.374922e+06</td>\n",
        "      <td> 5.325698e+06</td>\n",
        "    </tr>\n",
        "    <tr>\n",
        "      <th rowspan=\"2\" valign=\"top\">20 AVE</th>\n",
        "      <th>D</th>\n",
        "      <td> 4.578125e+06</td>\n",
        "      <td> 4.632072e+06</td>\n",
        "    </tr>\n",
        "    <tr>\n",
        "      <th>N</th>\n",
        "      <td> 4.428285e+06</td>\n",
        "      <td> 3.957171e+06</td>\n",
        "    </tr>\n",
        "    <tr>\n",
        "      <th>207 ST</th>\n",
        "      <th>1</th>\n",
        "      <td> 2.524595e+07</td>\n",
        "      <td> 9.382078e+05</td>\n",
        "    </tr>\n",
        "    <tr>\n",
        "      <th>21 ST</th>\n",
        "      <th>F</th>\n",
        "      <td> 5.050607e+06</td>\n",
        "      <td> 4.771067e+06</td>\n",
        "    </tr>\n",
        "    <tr>\n",
        "      <th>215 ST</th>\n",
        "      <th>1</th>\n",
        "      <td> 2.047360e+06</td>\n",
        "      <td> 4.257287e+07</td>\n",
        "    </tr>\n",
        "    <tr>\n",
        "      <th>219 ST</th>\n",
        "      <th>25</th>\n",
        "      <td> 2.825712e+06</td>\n",
        "      <td> 1.802468e+06</td>\n",
        "    </tr>\n",
        "    <tr>\n",
        "      <th>22 AVE-BAY PKY</th>\n",
        "      <th>F</th>\n",
        "      <td> 1.656871e+06</td>\n",
        "      <td> 8.994043e+05</td>\n",
        "    </tr>\n",
        "    <tr>\n",
        "      <th>225 ST</th>\n",
        "      <th>25</th>\n",
        "      <td> 4.214806e+06</td>\n",
        "      <td> 2.387861e+06</td>\n",
        "    </tr>\n",
        "    <tr>\n",
        "      <th rowspan=\"3\" valign=\"top\">23 ST</th>\n",
        "      <th>1</th>\n",
        "      <td> 4.550091e+06</td>\n",
        "      <td> 5.934441e+06</td>\n",
        "    </tr>\n",
        "    <tr>\n",
        "      <th>6</th>\n",
        "      <td> 8.776476e+06</td>\n",
        "      <td> 1.247059e+07</td>\n",
        "    </tr>\n",
        "    <tr>\n",
        "      <th>CE</th>\n",
        "      <td> 9.566317e+06</td>\n",
        "      <td> 2.996244e+06</td>\n",
        "    </tr>\n",
        "    <tr>\n",
        "      <th>23 ST-5 AVE</th>\n",
        "      <th>NR</th>\n",
        "      <td> 6.929694e+06</td>\n",
        "      <td> 2.061976e+06</td>\n",
        "    </tr>\n",
        "    <tr>\n",
        "      <th>23 ST-6 AVE</th>\n",
        "      <th>FM</th>\n",
        "      <td> 3.048256e+08</td>\n",
        "      <td> 3.197366e+08</td>\n",
        "    </tr>\n",
        "    <tr>\n",
        "      <th>231 ST</th>\n",
        "      <th>1</th>\n",
        "      <td> 2.209166e+07</td>\n",
        "      <td> 6.495614e+06</td>\n",
        "    </tr>\n",
        "    <tr>\n",
        "      <th>233 ST</th>\n",
        "      <th>25</th>\n",
        "      <td> 3.112892e+06</td>\n",
        "      <td> 9.281549e+05</td>\n",
        "    </tr>\n",
        "    <tr>\n",
        "      <th>238 ST</th>\n",
        "      <th>1</th>\n",
        "      <td> 5.905311e+06</td>\n",
        "      <td> 2.779707e+05</td>\n",
        "    </tr>\n",
        "    <tr>\n",
        "      <th>242 ST</th>\n",
        "      <th>1</th>\n",
        "      <td> 4.933816e+06</td>\n",
        "      <td> 1.626186e+06</td>\n",
        "    </tr>\n",
        "    <tr>\n",
        "      <th>25 AVE</th>\n",
        "      <th>D</th>\n",
        "      <td> 1.051440e+06</td>\n",
        "      <td> 3.670511e+05</td>\n",
        "    </tr>\n",
        "    <tr>\n",
        "      <th>25 ST</th>\n",
        "      <th>R</th>\n",
        "      <td> 2.555687e+06</td>\n",
        "      <td> 2.908272e+06</td>\n",
        "    </tr>\n",
        "    <tr>\n",
        "      <th rowspan=\"2\" valign=\"top\">28 ST</th>\n",
        "      <th>1</th>\n",
        "      <td> 2.393825e+06</td>\n",
        "      <td> 3.357721e+07</td>\n",
        "    </tr>\n",
        "    <tr>\n",
        "      <th>6</th>\n",
        "      <td> 8.906730e+07</td>\n",
        "      <td> 1.162146e+08</td>\n",
        "    </tr>\n",
        "    <tr>\n",
        "      <th>28 ST-BROADWAY</th>\n",
        "      <th>NR</th>\n",
        "      <td> 2.366340e+06</td>\n",
        "      <td> 3.183470e+06</td>\n",
        "    </tr>\n",
        "    <tr>\n",
        "      <th>3 AVE</th>\n",
        "      <th>L</th>\n",
        "      <td> 2.532075e+06</td>\n",
        "      <td> 2.792444e+06</td>\n",
        "    </tr>\n",
        "    <tr>\n",
        "      <th>33 ST</th>\n",
        "      <th>6</th>\n",
        "      <td> 5.355668e+06</td>\n",
        "      <td> 2.811653e+06</td>\n",
        "    </tr>\n",
        "    <tr>\n",
        "      <th>33 ST/RAWSON ST</th>\n",
        "      <th>7</th>\n",
        "      <td> 3.417508e+06</td>\n",
        "      <td> 3.523546e+06</td>\n",
        "    </tr>\n",
        "    <tr>\n",
        "      <th>34 ST-HERALD SQ</th>\n",
        "      <th>BDFMNQR</th>\n",
        "      <td> 3.542938e+07</td>\n",
        "      <td> 4.344339e+07</td>\n",
        "    </tr>\n",
        "    <tr>\n",
        "      <th rowspan=\"3\" valign=\"top\">34 ST-PENN STA</th>\n",
        "      <th>123</th>\n",
        "      <td> 8.256376e+06</td>\n",
        "      <td> 5.254718e+06</td>\n",
        "    </tr>\n",
        "    <tr>\n",
        "      <th>123ACE</th>\n",
        "      <td> 1.006354e+07</td>\n",
        "      <td> 3.388428e+06</td>\n",
        "    </tr>\n",
        "    <tr>\n",
        "      <th>ACE</th>\n",
        "      <td> 3.773249e+07</td>\n",
        "      <td> 1.223275e+07</td>\n",
        "    </tr>\n",
        "    <tr>\n",
        "      <th rowspan=\"2\" valign=\"top\">36 ST</th>\n",
        "      <th>DNR</th>\n",
        "      <td> 5.034875e+06</td>\n",
        "      <td> 3.047736e+06</td>\n",
        "    </tr>\n",
        "    <tr>\n",
        "      <th>MR</th>\n",
        "      <td> 1.262156e+07</td>\n",
        "      <td> 5.935599e+05</td>\n",
        "    </tr>\n",
        "    <tr>\n",
        "      <th>4 AVE</th>\n",
        "      <th>DFGMNR</th>\n",
        "      <td> 5.843699e+06</td>\n",
        "      <td> 5.755094e+06</td>\n",
        "    </tr>\n",
        "    <tr>\n",
        "      <th>40 ST-LOWERY ST</th>\n",
        "      <th>7</th>\n",
        "      <td> 8.742829e+06</td>\n",
        "      <td> 7.147182e+06</td>\n",
        "    </tr>\n",
        "    <tr>\n",
        "      <th>42 ST-BRYANT PK</th>\n",
        "      <th>BDFM7</th>\n",
        "      <td> 9.835693e+07</td>\n",
        "      <td> 7.316982e+07</td>\n",
        "    </tr>\n",
        "    <tr>\n",
        "      <th>42 ST-GRD CNTRL</th>\n",
        "      <th>4567S</th>\n",
        "      <td> 4.328327e+07</td>\n",
        "      <td> 1.159492e+07</td>\n",
        "    </tr>\n",
        "    <tr>\n",
        "      <th rowspan=\"2\" valign=\"top\">42 ST-PA BUS TE</th>\n",
        "      <th>ACENGRS1237</th>\n",
        "      <td> 9.711901e+06</td>\n",
        "      <td> 6.027658e+06</td>\n",
        "    </tr>\n",
        "    <tr>\n",
        "      <th>ACENQRS1237</th>\n",
        "      <td> 6.105407e+07</td>\n",
        "      <td> 4.563200e+07</td>\n",
        "    </tr>\n",
        "    <tr>\n",
        "      <th rowspan=\"2\" valign=\"top\">42 ST-TIMES SQ</th>\n",
        "      <th>1237ACENQRS</th>\n",
        "      <td> 4.997867e+07</td>\n",
        "      <td> 6.872670e+07</td>\n",
        "    </tr>\n",
        "    <tr>\n",
        "      <th>ACENQRS1237</th>\n",
        "      <td> 9.236202e+05</td>\n",
        "      <td> 1.382896e+06</td>\n",
        "    </tr>\n",
        "    <tr>\n",
        "      <th>45 ST</th>\n",
        "      <th>R</th>\n",
        "      <td> 3.061944e+06</td>\n",
        "      <td> 3.366848e+06</td>\n",
        "    </tr>\n",
        "    <tr>\n",
        "      <th>46 ST</th>\n",
        "      <th>MR</th>\n",
        "      <td> 2.589433e+06</td>\n",
        "      <td> 1.871246e+06</td>\n",
        "    </tr>\n",
        "    <tr>\n",
        "      <th>46 ST-BLISS ST</th>\n",
        "      <th>7</th>\n",
        "      <td> 4.772164e+06</td>\n",
        "      <td> 3.269847e+06</td>\n",
        "    </tr>\n",
        "    <tr>\n",
        "      <th>47-50 ST-ROCK</th>\n",
        "      <th>BDFM</th>\n",
        "      <td> 5.033600e+06</td>\n",
        "      <td> 4.558363e+06</td>\n",
        "    </tr>\n",
        "    <tr>\n",
        "      <th>49 ST-7 AVE</th>\n",
        "      <th>NQR</th>\n",
        "      <td> 3.151679e+06</td>\n",
        "      <td> 3.918211e+06</td>\n",
        "    </tr>\n",
        "    <tr>\n",
        "      <th>5 AVE-53 ST</th>\n",
        "      <th>EM</th>\n",
        "      <td> 4.759773e+06</td>\n",
        "      <td> 4.949218e+06</td>\n",
        "    </tr>\n",
        "    <tr>\n",
        "      <th>5 AVE-59 ST</th>\n",
        "      <th>NQR</th>\n",
        "      <td> 3.845637e+06</td>\n",
        "      <td> 3.150553e+06</td>\n",
        "    </tr>\n",
        "    <tr>\n",
        "      <th>5 AVE-BRYANT PK</th>\n",
        "      <th>7BDFM</th>\n",
        "      <td> 2.857892e+07</td>\n",
        "      <td> 2.791764e+07</td>\n",
        "    </tr>\n",
        "    <tr>\n",
        "      <th rowspan=\"3\" valign=\"top\">50 ST</th>\n",
        "      <th>1</th>\n",
        "      <td> 4.100874e+06</td>\n",
        "      <td> 4.336171e+06</td>\n",
        "    </tr>\n",
        "    <tr>\n",
        "      <th>CE</th>\n",
        "      <td> 4.199270e+06</td>\n",
        "      <td> 3.052694e+06</td>\n",
        "    </tr>\n",
        "    <tr>\n",
        "      <th>D</th>\n",
        "      <td> 3.711871e+06</td>\n",
        "      <td> 3.700794e+06</td>\n",
        "    </tr>\n",
        "    <tr>\n",
        "      <th>51 ST</th>\n",
        "      <th>6</th>\n",
        "      <td> 3.644276e+06</td>\n",
        "      <td> 4.288937e+06</td>\n",
        "    </tr>\n",
        "    <tr>\n",
        "      <th>52 ST-LINCOLN</th>\n",
        "      <th>7</th>\n",
        "      <td> 2.520434e+07</td>\n",
        "      <td> 5.861236e+06</td>\n",
        "    </tr>\n",
        "    <tr>\n",
        "      <th>53 ST</th>\n",
        "      <th>R</th>\n",
        "      <td> 6.615123e+06</td>\n",
        "      <td> 3.535844e+06</td>\n",
        "    </tr>\n",
        "    <tr>\n",
        "      <th>55 ST</th>\n",
        "      <th>D</th>\n",
        "      <td> 3.261597e+06</td>\n",
        "      <td> 2.576454e+06</td>\n",
        "    </tr>\n",
        "    <tr>\n",
        "      <th>57 ST</th>\n",
        "      <th>F</th>\n",
        "      <td> 4.620441e+06</td>\n",
        "      <td> 4.097379e+06</td>\n",
        "    </tr>\n",
        "    <tr>\n",
        "      <th>57 ST-7 AVE</th>\n",
        "      <th>NQR</th>\n",
        "      <td> 9.712659e+06</td>\n",
        "      <td> 5.679513e+06</td>\n",
        "    </tr>\n",
        "    <tr>\n",
        "      <th rowspan=\"2\" valign=\"top\">59 ST</th>\n",
        "      <th>456NQR</th>\n",
        "      <td> 4.624743e+06</td>\n",
        "      <td> 4.570998e+06</td>\n",
        "    </tr>\n",
        "    <tr>\n",
        "      <th>NR</th>\n",
        "      <td> 5.345269e+06</td>\n",
        "      <td> 4.104347e+06</td>\n",
        "    </tr>\n",
        "    <tr>\n",
        "      <th rowspan=\"2\" valign=\"top\">59 ST-COLUMBUS</th>\n",
        "      <th>1ABCD</th>\n",
        "      <td> 2.289040e+06</td>\n",
        "      <td> 1.347781e+06</td>\n",
        "    </tr>\n",
        "    <tr>\n",
        "      <th>ABCD1</th>\n",
        "      <td> 8.607224e+07</td>\n",
        "      <td> 6.377916e+07</td>\n",
        "    </tr>\n",
        "    <tr>\n",
        "      <th>6 AVE</th>\n",
        "      <th>FLM123</th>\n",
        "      <td> 4.647811e+06</td>\n",
        "      <td> 1.997481e+06</td>\n",
        "    </tr>\n",
        "    <tr>\n",
        "      <th>61 ST/WOODSIDE</th>\n",
        "      <th>7</th>\n",
        "      <td> 4.343710e+06</td>\n",
        "      <td> 3.947586e+06</td>\n",
        "    </tr>\n",
        "    <tr>\n",
        "      <th>63 DR-REGO PARK</th>\n",
        "      <th>MR</th>\n",
        "      <td> 5.716115e+06</td>\n",
        "      <td> 1.924196e+06</td>\n",
        "    </tr>\n",
        "    <tr>\n",
        "      <th>65 ST</th>\n",
        "      <th>MR</th>\n",
        "      <td> 4.066810e+06</td>\n",
        "      <td> 4.081288e+06</td>\n",
        "    </tr>\n",
        "    <tr>\n",
        "      <th>66 ST-LINCOLN</th>\n",
        "      <th>1</th>\n",
        "      <td> 1.215909e+07</td>\n",
        "      <td> 3.198185e+06</td>\n",
        "    </tr>\n",
        "    <tr>\n",
        "      <th>67 AVE</th>\n",
        "      <th>MR</th>\n",
        "      <td> 3.497426e+06</td>\n",
        "      <td> 2.387033e+06</td>\n",
        "    </tr>\n",
        "    <tr>\n",
        "      <th>68ST-HUNTER COL</th>\n",
        "      <th>6</th>\n",
        "      <td> 8.170969e+06</td>\n",
        "      <td> 6.915828e+06</td>\n",
        "    </tr>\n",
        "    <tr>\n",
        "      <th>69 ST-FISK AVE</th>\n",
        "      <th>7</th>\n",
        "      <td> 4.136313e+06</td>\n",
        "      <td> 3.166787e+06</td>\n",
        "    </tr>\n",
        "    <tr>\n",
        "      <th>7 AV-PARK SLOPE</th>\n",
        "      <th>FG</th>\n",
        "      <td> 2.523752e+06</td>\n",
        "      <td> 8.251082e+05</td>\n",
        "    </tr>\n",
        "    <tr>\n",
        "      <th>7 AVE</th>\n",
        "      <th>BQ</th>\n",
        "      <td> 3.540573e+08</td>\n",
        "      <td> 3.250156e+08</td>\n",
        "    </tr>\n",
        "    <tr>\n",
        "      <th>7 AVE-53 ST</th>\n",
        "      <th>BDE</th>\n",
        "      <td> 1.483171e+08</td>\n",
        "      <td> 6.464822e+07</td>\n",
        "    </tr>\n",
        "    <tr>\n",
        "      <th>71 ST</th>\n",
        "      <th>D</th>\n",
        "      <td> 4.022436e+06</td>\n",
        "      <td> 2.559453e+06</td>\n",
        "    </tr>\n",
        "    <tr>\n",
        "      <th rowspan=\"2\" valign=\"top\">72 ST</th>\n",
        "      <th>123</th>\n",
        "      <td> 1.279705e+08</td>\n",
        "      <td> 1.710907e+08</td>\n",
        "    </tr>\n",
        "    <tr>\n",
        "      <th>BC</th>\n",
        "      <td> 1.038897e+07</td>\n",
        "      <td> 6.612692e+06</td>\n",
        "    </tr>\n",
        "    <tr>\n",
        "      <th>74 ST-BROADWAY</th>\n",
        "      <th>7EFMR</th>\n",
        "      <td> 2.129268e+06</td>\n",
        "      <td> 1.746698e+06</td>\n",
        "    </tr>\n",
        "    <tr>\n",
        "      <th>75 AVE</th>\n",
        "      <th>EF</th>\n",
        "      <td> 1.361289e+07</td>\n",
        "      <td> 1.371089e+05</td>\n",
        "    </tr>\n",
        "    <tr>\n",
        "      <th rowspan=\"2\" valign=\"top\">77 ST</th>\n",
        "      <th>6</th>\n",
        "      <td> 9.226971e+07</td>\n",
        "      <td> 1.442496e+07</td>\n",
        "    </tr>\n",
        "    <tr>\n",
        "      <th>R</th>\n",
        "      <td> 5.788129e+06</td>\n",
        "      <td> 3.719539e+06</td>\n",
        "    </tr>\n",
        "    <tr>\n",
        "      <th rowspan=\"2\" valign=\"top\">79 ST</th>\n",
        "      <th>1</th>\n",
        "      <td> 6.644129e+06</td>\n",
        "      <td> 3.650943e+06</td>\n",
        "    </tr>\n",
        "    <tr>\n",
        "      <th>D</th>\n",
        "      <td> 2.786330e+07</td>\n",
        "      <td> 2.409928e+06</td>\n",
        "    </tr>\n",
        "    <tr>\n",
        "      <th rowspan=\"2\" valign=\"top\">8 AVE</th>\n",
        "      <th>ACEL</th>\n",
        "      <td> 2.406700e+07</td>\n",
        "      <td> 4.664035e+06</td>\n",
        "    </tr>\n",
        "    <tr>\n",
        "      <th>N</th>\n",
        "      <td> 4.739219e+07</td>\n",
        "      <td> 4.506041e+06</td>\n",
        "    </tr>\n",
        "    <tr>\n",
        "      <th>8 ST-B'WAY NYU</th>\n",
        "      <th>NR</th>\n",
        "      <td> 1.121357e+07</td>\n",
        "      <td> 2.439233e+06</td>\n",
        "    </tr>\n",
        "    <tr>\n",
        "      <th>81 ST-MUSEUM</th>\n",
        "      <th>BC</th>\n",
        "      <td> 4.448025e+06</td>\n",
        "      <td> 3.843868e+06</td>\n",
        "    </tr>\n",
        "    <tr>\n",
        "      <th>82 ST-JACKSON H</th>\n",
        "      <th>7</th>\n",
        "      <td> 2.034024e+06</td>\n",
        "      <td> 1.847469e+06</td>\n",
        "    </tr>\n",
        "    <tr>\n",
        "      <th rowspan=\"5\" valign=\"top\">86 ST</th>\n",
        "      <th>1</th>\n",
        "      <td> 6.220293e+06</td>\n",
        "      <td> 7.101522e+06</td>\n",
        "    </tr>\n",
        "    <tr>\n",
        "      <th>456</th>\n",
        "      <td> 5.150182e+07</td>\n",
        "      <td> 9.606449e+07</td>\n",
        "    </tr>\n",
        "    <tr>\n",
        "      <th>BC</th>\n",
        "      <td> 2.059385e+08</td>\n",
        "      <td> 5.856248e+07</td>\n",
        "    </tr>\n",
        "    <tr>\n",
        "      <th>N</th>\n",
        "      <td> 3.669565e+06</td>\n",
        "      <td> 2.129243e+06</td>\n",
        "    </tr>\n",
        "    <tr>\n",
        "      <th>R</th>\n",
        "      <td> 4.600635e+06</td>\n",
        "      <td> 3.650970e+06</td>\n",
        "    </tr>\n",
        "    <tr>\n",
        "      <th>9 AVE</th>\n",
        "      <th>D</th>\n",
        "      <td> 1.294291e+07</td>\n",
        "      <td> 3.287607e+06</td>\n",
        "    </tr>\n",
        "    <tr>\n",
        "      <th>9 ST</th>\n",
        "      <th>DFGMNR</th>\n",
        "      <td> 2.474772e+06</td>\n",
        "      <td> 1.354752e+06</td>\n",
        "    </tr>\n",
        "    <tr>\n",
        "      <th>90 ST-ELMHURST</th>\n",
        "      <th>7</th>\n",
        "      <td> 6.246925e+06</td>\n",
        "      <td> 3.325503e+06</td>\n",
        "    </tr>\n",
        "    <tr>\n",
        "      <th rowspan=\"3\" valign=\"top\">96 ST</th>\n",
        "      <th>123</th>\n",
        "      <td> 2.870888e+07</td>\n",
        "      <td> 5.882279e+07</td>\n",
        "    </tr>\n",
        "    <tr>\n",
        "      <th>6</th>\n",
        "      <td> 1.433133e+07</td>\n",
        "      <td> 4.681373e+06</td>\n",
        "    </tr>\n",
        "    <tr>\n",
        "      <th>BC</th>\n",
        "      <td> 2.436980e+06</td>\n",
        "      <td> 2.214335e+06</td>\n",
        "    </tr>\n",
        "    <tr>\n",
        "      <th>9TH STREET</th>\n",
        "      <th>1</th>\n",
        "      <td> 3.565041e+05</td>\n",
        "      <td> 2.946728e+05</td>\n",
        "    </tr>\n",
        "    <tr>\n",
        "      <th>ALABAMA AVE</th>\n",
        "      <th>J</th>\n",
        "      <td> 2.475020e+06</td>\n",
        "      <td> 2.714987e+06</td>\n",
        "    </tr>\n",
        "    <tr>\n",
        "      <th>ALLERTON AVE</th>\n",
        "      <th>25</th>\n",
        "      <td> 2.236215e+06</td>\n",
        "      <td> 9.058042e+05</td>\n",
        "    </tr>\n",
        "    <tr>\n",
        "      <th>AQUEDUCT TRACK</th>\n",
        "      <th>A</th>\n",
        "      <td> 8.604595e+06</td>\n",
        "      <td> 2.830211e+06</td>\n",
        "    </tr>\n",
        "    <tr>\n",
        "      <th>AQUEDUCT-N CNDT</th>\n",
        "      <th>A</th>\n",
        "      <td> 8.379400e+05</td>\n",
        "      <td> 9.274083e+05</td>\n",
        "    </tr>\n",
        "    <tr>\n",
        "      <th>ASTOR PLACE</th>\n",
        "      <th>6</th>\n",
        "      <td> 3.916296e+06</td>\n",
        "      <td> 2.138599e+06</td>\n",
        "    </tr>\n",
        "    <tr>\n",
        "      <th>ATLANTIC AVE</th>\n",
        "      <th>L</th>\n",
        "      <td> 4.176640e+05</td>\n",
        "      <td> 1.823251e+05</td>\n",
        "    </tr>\n",
        "    <tr>\n",
        "      <th>AVE H</th>\n",
        "      <th>BQ</th>\n",
        "      <td> 4.264343e+05</td>\n",
        "      <td> 3.550137e+05</td>\n",
        "    </tr>\n",
        "    <tr>\n",
        "      <th>AVE I</th>\n",
        "      <th>F</th>\n",
        "      <td> 1.771105e+06</td>\n",
        "      <td> 2.510089e+08</td>\n",
        "    </tr>\n",
        "    <tr>\n",
        "      <th>AVE J</th>\n",
        "      <th>BQ</th>\n",
        "      <td> 2.056050e+06</td>\n",
        "      <td> 1.289972e+06</td>\n",
        "    </tr>\n",
        "    <tr>\n",
        "      <th>AVE M</th>\n",
        "      <th>BQ</th>\n",
        "      <td> 1.147025e+07</td>\n",
        "      <td> 6.859983e+05</td>\n",
        "    </tr>\n",
        "    <tr>\n",
        "      <th>AVE N</th>\n",
        "      <th>F</th>\n",
        "      <td> 6.536349e+06</td>\n",
        "      <td> 1.171652e+06</td>\n",
        "    </tr>\n",
        "    <tr>\n",
        "      <th>AVE P</th>\n",
        "      <th>F</th>\n",
        "      <td> 5.013120e+06</td>\n",
        "      <td> 4.036986e+06</td>\n",
        "    </tr>\n",
        "    <tr>\n",
        "      <th rowspan=\"3\" valign=\"top\">AVE U</th>\n",
        "      <th>BQ</th>\n",
        "      <td> 5.554311e+06</td>\n",
        "      <td> 2.679352e+06</td>\n",
        "    </tr>\n",
        "    <tr>\n",
        "      <th>F</th>\n",
        "      <td> 4.479072e+07</td>\n",
        "      <td> 6.404268e+06</td>\n",
        "    </tr>\n",
        "    <tr>\n",
        "      <th>N</th>\n",
        "      <td> 4.171431e+06</td>\n",
        "      <td> 3.812282e+06</td>\n",
        "    </tr>\n",
        "    <tr>\n",
        "      <th>AVE X</th>\n",
        "      <th>F</th>\n",
        "      <td> 3.668105e+06</td>\n",
        "      <td> 3.539425e+06</td>\n",
        "    </tr>\n",
        "    <tr>\n",
        "      <th rowspan=\"2\" valign=\"top\">BARCLAYS CENTER</th>\n",
        "      <th>2345BDNQR</th>\n",
        "      <td> 4.657450e+07</td>\n",
        "      <td> 8.055452e+07</td>\n",
        "    </tr>\n",
        "    <tr>\n",
        "      <th>BDNQR2345</th>\n",
        "      <td> 1.308723e+06</td>\n",
        "      <td> 1.516500e+06</td>\n",
        "    </tr>\n",
        "    <tr>\n",
        "      <th>BAY 50 ST</th>\n",
        "      <th>D</th>\n",
        "      <td> 2.869461e+06</td>\n",
        "      <td> 2.653127e+06</td>\n",
        "    </tr>\n",
        "    <tr>\n",
        "      <th>BAY PARKWAY</th>\n",
        "      <th>D</th>\n",
        "      <td> 4.177192e+06</td>\n",
        "      <td> 4.175874e+06</td>\n",
        "    </tr>\n",
        "    <tr>\n",
        "      <th>BAY PKY-22 AVE</th>\n",
        "      <th>N</th>\n",
        "      <td> 1.723455e+07</td>\n",
        "      <td> 2.547300e+06</td>\n",
        "    </tr>\n",
        "    <tr>\n",
        "      <th>BAY RIDGE AVE</th>\n",
        "      <th>R</th>\n",
        "      <td> 4.497207e+06</td>\n",
        "      <td> 2.285968e+06</td>\n",
        "    </tr>\n",
        "    <tr>\n",
        "      <th>BAY RIDGE-95 ST</th>\n",
        "      <th>R</th>\n",
        "      <td> 3.172859e+07</td>\n",
        "      <td> 1.795506e+06</td>\n",
        "    </tr>\n",
        "    <tr>\n",
        "      <th>BAYCHESTER AVE</th>\n",
        "      <th>5</th>\n",
        "      <td> 4.003613e+06</td>\n",
        "      <td> 3.533348e+05</td>\n",
        "    </tr>\n",
        "    <tr>\n",
        "      <th>BEACH 105 ST</th>\n",
        "      <th>AS</th>\n",
        "      <td> 2.045798e+05</td>\n",
        "      <td> 2.952354e+05</td>\n",
        "    </tr>\n",
        "    <tr>\n",
        "      <th>BEACH 25 ST</th>\n",
        "      <th>A</th>\n",
        "      <td> 1.241327e+06</td>\n",
        "      <td> 1.365849e+06</td>\n",
        "    </tr>\n",
        "    <tr>\n",
        "      <th>BEACH 36 ST</th>\n",
        "      <th>A</th>\n",
        "      <td> 7.216930e+05</td>\n",
        "      <td> 7.083836e+05</td>\n",
        "    </tr>\n",
        "    <tr>\n",
        "      <th>BEACH 44 ST</th>\n",
        "      <th>A</th>\n",
        "      <td> 4.453689e+05</td>\n",
        "      <td> 5.867656e+05</td>\n",
        "    </tr>\n",
        "    <tr>\n",
        "      <th>BEACH 60 ST</th>\n",
        "      <th>A</th>\n",
        "      <td> 2.507429e+07</td>\n",
        "      <td> 1.744010e+06</td>\n",
        "    </tr>\n",
        "    <tr>\n",
        "      <th>BEACH 67 ST</th>\n",
        "      <th>A</th>\n",
        "      <td> 1.710240e+06</td>\n",
        "      <td> 1.661754e+06</td>\n",
        "    </tr>\n",
        "    <tr>\n",
        "      <th>BEACH 90 ST</th>\n",
        "      <th>AS</th>\n",
        "      <td> 9.516824e+05</td>\n",
        "      <td> 1.031284e+06</td>\n",
        "    </tr>\n",
        "    <tr>\n",
        "      <th>BEACH 98 ST</th>\n",
        "      <th>AS</th>\n",
        "      <td> 8.237180e+05</td>\n",
        "      <td> 9.052872e+05</td>\n",
        "    </tr>\n",
        "    <tr>\n",
        "      <th>BEDFORD AVE</th>\n",
        "      <th>L</th>\n",
        "      <td> 7.039892e+07</td>\n",
        "      <td> 1.149891e+08</td>\n",
        "    </tr>\n",
        "    <tr>\n",
        "      <th rowspan=\"2\" valign=\"top\">BEDFORD PARK BL</th>\n",
        "      <th>4</th>\n",
        "      <td> 2.267415e+06</td>\n",
        "      <td> 4.132029e+06</td>\n",
        "    </tr>\n",
        "    <tr>\n",
        "      <th>BD</th>\n",
        "      <td> 1.944170e+07</td>\n",
        "      <td> 2.186810e+06</td>\n",
        "    </tr>\n",
        "    <tr>\n",
        "      <th>BEDFORD/NOSTRAN</th>\n",
        "      <th>G</th>\n",
        "      <td> 1.474018e+07</td>\n",
        "      <td> 2.319871e+06</td>\n",
        "    </tr>\n",
        "    <tr>\n",
        "      <th>BEEBE-39 AVE</th>\n",
        "      <th>NQ</th>\n",
        "      <td> 1.337852e+06</td>\n",
        "      <td> 1.390985e+06</td>\n",
        "    </tr>\n",
        "    <tr>\n",
        "      <th rowspan=\"2\" valign=\"top\">BERGEN ST</th>\n",
        "      <th>23</th>\n",
        "      <td> 1.721660e+06</td>\n",
        "      <td> 1.460267e+06</td>\n",
        "    </tr>\n",
        "    <tr>\n",
        "      <th>FG</th>\n",
        "      <td> 2.574867e+06</td>\n",
        "      <td> 1.601154e+06</td>\n",
        "    </tr>\n",
        "    <tr>\n",
        "      <th>BEVERLEY ROAD</th>\n",
        "      <th>BQ</th>\n",
        "      <td> 3.999334e+06</td>\n",
        "      <td> 4.294167e+06</td>\n",
        "    </tr>\n",
        "    <tr>\n",
        "      <th>BEVERLY ROAD</th>\n",
        "      <th>25</th>\n",
        "      <td> 5.360334e+06</td>\n",
        "      <td> 2.247118e+06</td>\n",
        "    </tr>\n",
        "    <tr>\n",
        "      <th>BLEECKER ST</th>\n",
        "      <th>6DF</th>\n",
        "      <td> 2.581205e+06</td>\n",
        "      <td> 9.396702e+05</td>\n",
        "    </tr>\n",
        "    <tr>\n",
        "      <th rowspan=\"2\" valign=\"top\">BOROUGH HALL/CT</th>\n",
        "      <th>2345R</th>\n",
        "      <td> 5.027746e+06</td>\n",
        "      <td> 3.073668e+06</td>\n",
        "    </tr>\n",
        "    <tr>\n",
        "      <th>R2345</th>\n",
        "      <td> 2.152937e+07</td>\n",
        "      <td> 1.302501e+06</td>\n",
        "    </tr>\n",
        "    <tr>\n",
        "      <th>BOTANIC GARDEN</th>\n",
        "      <th>S2345</th>\n",
        "      <td> 1.288822e+06</td>\n",
        "      <td> 5.141559e+05</td>\n",
        "    </tr>\n",
        "    <tr>\n",
        "      <th>BOWERY</th>\n",
        "      <th>JZ</th>\n",
        "      <td> 3.679251e+06</td>\n",
        "      <td> 3.920575e+06</td>\n",
        "    </tr>\n",
        "    <tr>\n",
        "      <th>BOWLING GREEN</th>\n",
        "      <th>45</th>\n",
        "      <td> 3.471556e+07</td>\n",
        "      <td> 5.511634e+07</td>\n",
        "    </tr>\n",
        "    <tr>\n",
        "      <th>BOYD-88 ST</th>\n",
        "      <th>A</th>\n",
        "      <td> 3.890658e+06</td>\n",
        "      <td> 3.669825e+06</td>\n",
        "    </tr>\n",
        "    <tr>\n",
        "      <th>BRIGHTON BEACH</th>\n",
        "      <th>BQ</th>\n",
        "      <td> 5.116330e+06</td>\n",
        "      <td> 4.706389e+06</td>\n",
        "    </tr>\n",
        "    <tr>\n",
        "      <th>BROAD CHANNEL</th>\n",
        "      <th>AS</th>\n",
        "      <td> 5.523949e+05</td>\n",
        "      <td> 1.898734e+05</td>\n",
        "    </tr>\n",
        "    <tr>\n",
        "      <th>BROAD ST</th>\n",
        "      <th>JZ</th>\n",
        "      <td> 1.512207e+06</td>\n",
        "      <td> 9.364720e+05</td>\n",
        "    </tr>\n",
        "    <tr>\n",
        "      <th>BROADWAY</th>\n",
        "      <th>G</th>\n",
        "      <td> 4.452445e+06</td>\n",
        "      <td> 3.276672e+06</td>\n",
        "    </tr>\n",
        "    <tr>\n",
        "      <th>BROADWAY-31 ST</th>\n",
        "      <th>NQ</th>\n",
        "      <td> 8.051192e+06</td>\n",
        "      <td> 2.975604e+06</td>\n",
        "    </tr>\n",
        "    <tr>\n",
        "      <th>BROADWAY-ENY</th>\n",
        "      <th>ACJLZ</th>\n",
        "      <td> 6.946506e+06</td>\n",
        "      <td> 6.617724e+06</td>\n",
        "    </tr>\n",
        "    <tr>\n",
        "      <th>BROADWAY/LAFAY</th>\n",
        "      <th>BDFQ6</th>\n",
        "      <td> 4.975466e+06</td>\n",
        "      <td> 3.832721e+06</td>\n",
        "    </tr>\n",
        "    <tr>\n",
        "      <th>BRONX PARK EAST</th>\n",
        "      <th>25</th>\n",
        "      <td> 2.006221e+06</td>\n",
        "      <td> 1.012443e+06</td>\n",
        "    </tr>\n",
        "    <tr>\n",
        "      <th>BROOK AVE</th>\n",
        "      <th>6</th>\n",
        "      <td> 2.573207e+06</td>\n",
        "      <td> 2.980590e+06</td>\n",
        "    </tr>\n",
        "    <tr>\n",
        "      <th>BROOKLYN BRIDGE</th>\n",
        "      <th>456JZ</th>\n",
        "      <td> 1.226996e+08</td>\n",
        "      <td> 6.527914e+07</td>\n",
        "    </tr>\n",
        "    <tr>\n",
        "      <th>BURKE AVE</th>\n",
        "      <th>25</th>\n",
        "      <td> 2.167931e+06</td>\n",
        "      <td> 8.868399e+05</td>\n",
        "    </tr>\n",
        "    <tr>\n",
        "      <th>BURNSIDE AVE</th>\n",
        "      <th>4</th>\n",
        "      <td> 2.591697e+06</td>\n",
        "      <td> 2.038587e+06</td>\n",
        "    </tr>\n",
        "    <tr>\n",
        "      <th>BUSHWICK AVE</th>\n",
        "      <th>L</th>\n",
        "      <td> 1.272433e+06</td>\n",
        "      <td> 1.215627e+06</td>\n",
        "    </tr>\n",
        "    <tr>\n",
        "      <th rowspan=\"3\" valign=\"top\">CANAL ST</th>\n",
        "      <th>1</th>\n",
        "      <td> 2.577380e+06</td>\n",
        "      <td> 2.382807e+06</td>\n",
        "    </tr>\n",
        "    <tr>\n",
        "      <th>ACE</th>\n",
        "      <td> 3.717834e+06</td>\n",
        "      <td> 3.236423e+06</td>\n",
        "    </tr>\n",
        "    <tr>\n",
        "      <th>JNQRZ6</th>\n",
        "      <td> 1.959300e+07</td>\n",
        "      <td> 1.702021e+07</td>\n",
        "    </tr>\n",
        "    <tr>\n",
        "      <th>CARROLL ST</th>\n",
        "      <th>FG</th>\n",
        "      <td> 3.589097e+06</td>\n",
        "      <td> 2.177407e+06</td>\n",
        "    </tr>\n",
        "    <tr>\n",
        "      <th>CASTLE HILL AVE</th>\n",
        "      <th>6</th>\n",
        "      <td> 3.876973e+06</td>\n",
        "      <td> 2.404872e+06</td>\n",
        "    </tr>\n",
        "    <tr>\n",
        "      <th>CATHEDRL-110 ST</th>\n",
        "      <th>BC</th>\n",
        "      <td> 1.260409e+07</td>\n",
        "      <td> 7.146147e+06</td>\n",
        "    </tr>\n",
        "    <tr>\n",
        "      <th>CENTRAL AVE</th>\n",
        "      <th>M</th>\n",
        "      <td> 7.535299e+05</td>\n",
        "      <td> 9.693361e+05</td>\n",
        "    </tr>\n",
        "    <tr>\n",
        "      <th rowspan=\"3\" valign=\"top\">CHAMBERS ST</th>\n",
        "      <th>123</th>\n",
        "      <td> 1.356105e+08</td>\n",
        "      <td> 1.103788e+08</td>\n",
        "    </tr>\n",
        "    <tr>\n",
        "      <th>ACE23</th>\n",
        "      <td> 6.998201e+06</td>\n",
        "      <td> 3.164009e+06</td>\n",
        "    </tr>\n",
        "    <tr>\n",
        "      <th>JZ456</th>\n",
        "      <td> 5.916704e+07</td>\n",
        "      <td> 1.414459e+08</td>\n",
        "    </tr>\n",
        "    <tr>\n",
        "      <th>CHAUNCEY ST</th>\n",
        "      <th>JZ</th>\n",
        "      <td> 2.715925e+06</td>\n",
        "      <td> 1.091046e+06</td>\n",
        "    </tr>\n",
        "    <tr>\n",
        "      <th>CHRISTOPHER ST</th>\n",
        "      <th>1</th>\n",
        "      <td> 2.038244e+08</td>\n",
        "      <td> 7.824219e+07</td>\n",
        "    </tr>\n",
        "    <tr>\n",
        "      <th rowspan=\"3\" valign=\"top\">CHURCH AVE</th>\n",
        "      <th>25</th>\n",
        "      <td> 9.133668e+06</td>\n",
        "      <td> 3.072549e+06</td>\n",
        "    </tr>\n",
        "    <tr>\n",
        "      <th>BQ</th>\n",
        "      <td> 4.648791e+06</td>\n",
        "      <td> 4.872002e+06</td>\n",
        "    </tr>\n",
        "    <tr>\n",
        "      <th>FG</th>\n",
        "      <td> 1.159521e+07</td>\n",
        "      <td> 2.893812e+06</td>\n",
        "    </tr>\n",
        "    <tr>\n",
        "      <th>CITY / BUS</th>\n",
        "      <th>1</th>\n",
        "      <td> 3.220257e+05</td>\n",
        "      <td> 3.614766e+05</td>\n",
        "    </tr>\n",
        "    <tr>\n",
        "      <th>CITY HALL</th>\n",
        "      <th>R</th>\n",
        "      <td> 2.545481e+07</td>\n",
        "      <td> 3.953235e+06</td>\n",
        "    </tr>\n",
        "    <tr>\n",
        "      <th>CLARK ST</th>\n",
        "      <th>23</th>\n",
        "      <td> 4.544456e+06</td>\n",
        "      <td> 5.326342e+06</td>\n",
        "    </tr>\n",
        "    <tr>\n",
        "      <th>CLASSON AVE</th>\n",
        "      <th>G</th>\n",
        "      <td> 4.255136e+06</td>\n",
        "      <td> 4.167094e+06</td>\n",
        "    </tr>\n",
        "    <tr>\n",
        "      <th>CLEVELAND ST</th>\n",
        "      <th>J</th>\n",
        "      <td> 2.651955e+06</td>\n",
        "      <td> 2.609519e+06</td>\n",
        "    </tr>\n",
        "    <tr>\n",
        "      <th rowspan=\"2\" valign=\"top\">CLINTON-WASH AV</th>\n",
        "      <th>C</th>\n",
        "      <td> 1.037084e+07</td>\n",
        "      <td> 1.483422e+06</td>\n",
        "    </tr>\n",
        "    <tr>\n",
        "      <th>G</th>\n",
        "      <td> 2.308027e+06</td>\n",
        "      <td> 5.242526e+05</td>\n",
        "    </tr>\n",
        "    <tr>\n",
        "      <th>CORTELYOU ROAD</th>\n",
        "      <th>BQ</th>\n",
        "      <td> 5.487399e+06</td>\n",
        "      <td> 2.813714e+06</td>\n",
        "    </tr>\n",
        "    <tr>\n",
        "      <th>CORTLANDT ST</th>\n",
        "      <th>R</th>\n",
        "      <td> 8.638622e+07</td>\n",
        "      <td> 3.040236e+07</td>\n",
        "    </tr>\n",
        "    <tr>\n",
        "      <th rowspan=\"2\" valign=\"top\">COURT SQ</th>\n",
        "      <th>7</th>\n",
        "      <td> 1.647350e+06</td>\n",
        "      <td> 1.513566e+06</td>\n",
        "    </tr>\n",
        "    <tr>\n",
        "      <th>EMG</th>\n",
        "      <td> 1.583698e+07</td>\n",
        "      <td> 6.082882e+05</td>\n",
        "    </tr>\n",
        "    <tr>\n",
        "      <th>COURT SQ-23 ST</th>\n",
        "      <th>EMG</th>\n",
        "      <td> 4.013217e+06</td>\n",
        "      <td> 2.069381e+06</td>\n",
        "    </tr>\n",
        "    <tr>\n",
        "      <th>CRESCENT ST</th>\n",
        "      <th>JZ</th>\n",
        "      <td> 6.372465e+06</td>\n",
        "      <td> 6.956668e+06</td>\n",
        "    </tr>\n",
        "    <tr>\n",
        "      <th>CROWN HTS-UTICA</th>\n",
        "      <th>34</th>\n",
        "      <td> 1.071949e+07</td>\n",
        "      <td> 4.664430e+06</td>\n",
        "    </tr>\n",
        "    <tr>\n",
        "      <th>CYPRESS AVE</th>\n",
        "      <th>6</th>\n",
        "      <td> 1.359424e+06</td>\n",
        "      <td> 1.363915e+06</td>\n",
        "    </tr>\n",
        "    <tr>\n",
        "      <th>CYPRESS HILLS</th>\n",
        "      <th>J</th>\n",
        "      <td> 1.772329e+06</td>\n",
        "      <td> 1.061060e+06</td>\n",
        "    </tr>\n",
        "    <tr>\n",
        "      <th rowspan=\"2\" valign=\"top\">DEKALB AVE</th>\n",
        "      <th>BDNQR</th>\n",
        "      <td> 5.446563e+07</td>\n",
        "      <td> 4.741110e+06</td>\n",
        "    </tr>\n",
        "    <tr>\n",
        "      <th>L</th>\n",
        "      <td> 4.450622e+06</td>\n",
        "      <td> 2.085608e+06</td>\n",
        "    </tr>\n",
        "    <tr>\n",
        "      <th>DELANCEY ST</th>\n",
        "      <th>FJMZ</th>\n",
        "      <td> 2.847903e+06</td>\n",
        "      <td> 2.260094e+06</td>\n",
        "    </tr>\n",
        "    <tr>\n",
        "      <th>DITMARS BL-31 S</th>\n",
        "      <th>NQ</th>\n",
        "      <td> 3.281054e+06</td>\n",
        "      <td> 3.241761e+06</td>\n",
        "    </tr>\n",
        "    <tr>\n",
        "      <th>DITMAS AVE</th>\n",
        "      <th>F</th>\n",
        "      <td> 1.033527e+06</td>\n",
        "      <td> 8.713637e+05</td>\n",
        "    </tr>\n",
        "    <tr>\n",
        "      <th>DYCKMAN ST</th>\n",
        "      <th>1</th>\n",
        "      <td> 9.497354e+05</td>\n",
        "      <td> 1.236903e+06</td>\n",
        "    </tr>\n",
        "    <tr>\n",
        "      <th>DYCKMAN-200 ST</th>\n",
        "      <th>A</th>\n",
        "      <td> 7.259608e+06</td>\n",
        "      <td> 1.926192e+05</td>\n",
        "    </tr>\n",
        "    <tr>\n",
        "      <th>DYRE AVE</th>\n",
        "      <th>5</th>\n",
        "      <td> 1.096069e+08</td>\n",
        "      <td> 1.097496e+08</td>\n",
        "    </tr>\n",
        "    <tr>\n",
        "      <th>E 143 ST</th>\n",
        "      <th>6</th>\n",
        "      <td> 7.016478e+05</td>\n",
        "      <td> 8.094991e+05</td>\n",
        "    </tr>\n",
        "    <tr>\n",
        "      <th>E 149 ST</th>\n",
        "      <th>6</th>\n",
        "      <td> 2.583448e+06</td>\n",
        "      <td> 2.749943e+06</td>\n",
        "    </tr>\n",
        "    <tr>\n",
        "      <th>E 177 ST-PARKCH</th>\n",
        "      <th>6</th>\n",
        "      <td> 1.422109e+06</td>\n",
        "      <td> 1.668608e+06</td>\n",
        "    </tr>\n",
        "    <tr>\n",
        "      <th>E 180 ST</th>\n",
        "      <th>25</th>\n",
        "      <td> 4.184137e+06</td>\n",
        "      <td> 3.349396e+06</td>\n",
        "    </tr>\n",
        "    <tr>\n",
        "      <th>E TREMONT AVE</th>\n",
        "      <th>25</th>\n",
        "      <td> 4.793497e+07</td>\n",
        "      <td> 7.819192e+06</td>\n",
        "    </tr>\n",
        "    <tr>\n",
        "      <th>EAST 105 ST</th>\n",
        "      <th>L</th>\n",
        "      <td> 4.722094e+06</td>\n",
        "      <td> 4.331239e+06</td>\n",
        "    </tr>\n",
        "    <tr>\n",
        "      <th>EAST BROADWAY</th>\n",
        "      <th>F</th>\n",
        "      <td> 1.245542e+07</td>\n",
        "      <td> 3.269298e+06</td>\n",
        "    </tr>\n",
        "    <tr>\n",
        "      <th>EASTERN PKWY</th>\n",
        "      <th>23</th>\n",
        "      <td> 3.955930e+06</td>\n",
        "      <td> 3.467862e+06</td>\n",
        "    </tr>\n",
        "    <tr>\n",
        "      <th>ELDER AVE</th>\n",
        "      <th>6</th>\n",
        "      <td> 2.764871e+07</td>\n",
        "      <td> 2.042659e+06</td>\n",
        "    </tr>\n",
        "    <tr>\n",
        "      <th>ELDERTS LANE</th>\n",
        "      <th>JZ</th>\n",
        "      <td> 3.249888e+06</td>\n",
        "      <td> 3.076259e+06</td>\n",
        "    </tr>\n",
        "    <tr>\n",
        "      <th>ELMHURST AVE</th>\n",
        "      <th>MR</th>\n",
        "      <td> 6.685584e+07</td>\n",
        "      <td> 1.573910e+08</td>\n",
        "    </tr>\n",
        "    <tr>\n",
        "      <th>ESSEX ST</th>\n",
        "      <th>FJMZ</th>\n",
        "      <td> 2.383952e+08</td>\n",
        "      <td> 1.539877e+08</td>\n",
        "    </tr>\n",
        "    <tr>\n",
        "      <th>EUCLID AVE</th>\n",
        "      <th>AC</th>\n",
        "      <td> 1.912323e+08</td>\n",
        "      <td> 1.962265e+07</td>\n",
        "    </tr>\n",
        "    <tr>\n",
        "      <th>EXCHANGE PLACE</th>\n",
        "      <th>1</th>\n",
        "      <td> 2.221153e+05</td>\n",
        "      <td> 2.239750e+05</td>\n",
        "    </tr>\n",
        "    <tr>\n",
        "      <th>FAR ROCKAWAY</th>\n",
        "      <th>A</th>\n",
        "      <td> 1.008968e+06</td>\n",
        "      <td> 1.126794e+06</td>\n",
        "    </tr>\n",
        "    <tr>\n",
        "      <th>FLATBUSH AVE</th>\n",
        "      <th>25</th>\n",
        "      <td> 1.472198e+08</td>\n",
        "      <td> 1.076821e+08</td>\n",
        "    </tr>\n",
        "    <tr>\n",
        "      <th rowspan=\"2\" valign=\"top\">FLUSHING AVE</th>\n",
        "      <th>G</th>\n",
        "      <td> 8.067792e+05</td>\n",
        "      <td> 7.916421e+05</td>\n",
        "    </tr>\n",
        "    <tr>\n",
        "      <th>JM</th>\n",
        "      <td> 3.467230e+07</td>\n",
        "      <td> 5.890461e+06</td>\n",
        "    </tr>\n",
        "    <tr>\n",
        "      <th rowspan=\"2\" valign=\"top\">FORDHAM ROAD</th>\n",
        "      <th>4</th>\n",
        "      <td> 2.060120e+07</td>\n",
        "      <td> 5.135859e+06</td>\n",
        "    </tr>\n",
        "    <tr>\n",
        "      <th>BD</th>\n",
        "      <td> 2.581570e+06</td>\n",
        "      <td> 1.110412e+06</td>\n",
        "    </tr>\n",
        "    <tr>\n",
        "      <th>FOREST AVE</th>\n",
        "      <th>M</th>\n",
        "      <td> 3.371473e+06</td>\n",
        "      <td> 3.260641e+06</td>\n",
        "    </tr>\n",
        "    <tr>\n",
        "      <th>FOREST HILLS-71</th>\n",
        "      <th>EFMR</th>\n",
        "      <td> 3.081213e+07</td>\n",
        "      <td> 2.872066e+07</td>\n",
        "    </tr>\n",
        "    <tr>\n",
        "      <th>FOREST PARKWAY</th>\n",
        "      <th>J</th>\n",
        "      <td> 4.017799e+06</td>\n",
        "      <td> 3.645139e+06</td>\n",
        "    </tr>\n",
        "    <tr>\n",
        "      <th rowspan=\"2\" valign=\"top\">FRANKLIN AVE</th>\n",
        "      <th>2345S</th>\n",
        "      <td> 6.684860e+06</td>\n",
        "      <td> 6.393697e+06</td>\n",
        "    </tr>\n",
        "    <tr>\n",
        "      <th>ACS</th>\n",
        "      <td> 1.210824e+08</td>\n",
        "      <td> 7.490915e+07</td>\n",
        "    </tr>\n",
        "    <tr>\n",
        "      <th>FRANKLIN ST</th>\n",
        "      <th>1</th>\n",
        "      <td> 2.478083e+06</td>\n",
        "      <td> 1.603216e+06</td>\n",
        "    </tr>\n",
        "    <tr>\n",
        "      <th>FREEMAN ST</th>\n",
        "      <th>25</th>\n",
        "      <td> 2.353389e+07</td>\n",
        "      <td> 4.553265e+06</td>\n",
        "    </tr>\n",
        "    <tr>\n",
        "      <th>FRESH POND ROAD</th>\n",
        "      <th>M</th>\n",
        "      <td> 2.878060e+06</td>\n",
        "      <td> 1.492951e+06</td>\n",
        "    </tr>\n",
        "    <tr>\n",
        "      <th rowspan=\"3\" valign=\"top\">FT HAMILTON PKY</th>\n",
        "      <th>D</th>\n",
        "      <td> 5.483026e+05</td>\n",
        "      <td> 7.172208e+05</td>\n",
        "    </tr>\n",
        "    <tr>\n",
        "      <th>FG</th>\n",
        "      <td> 1.295264e+06</td>\n",
        "      <td> 4.455736e+05</td>\n",
        "    </tr>\n",
        "    <tr>\n",
        "      <th>N</th>\n",
        "      <td> 1.735939e+06</td>\n",
        "      <td> 1.086207e+06</td>\n",
        "    </tr>\n",
        "    <tr>\n",
        "      <th rowspan=\"3\" valign=\"top\">FULTON ST</th>\n",
        "      <th>2345ACJZ</th>\n",
        "      <td> 3.592213e+07</td>\n",
        "      <td> 7.137486e+06</td>\n",
        "    </tr>\n",
        "    <tr>\n",
        "      <th>ACJZ2345</th>\n",
        "      <td> 1.200498e+08</td>\n",
        "      <td> 7.010633e+07</td>\n",
        "    </tr>\n",
        "    <tr>\n",
        "      <th>G</th>\n",
        "      <td> 1.594460e+06</td>\n",
        "      <td> 1.660711e+06</td>\n",
        "    </tr>\n",
        "    <tr>\n",
        "      <th>GATES AVE</th>\n",
        "      <th>JZ</th>\n",
        "      <td> 2.843997e+06</td>\n",
        "      <td> 1.766842e+06</td>\n",
        "    </tr>\n",
        "    <tr>\n",
        "      <th>GRAHAM AVE</th>\n",
        "      <th>L</th>\n",
        "      <td> 4.271311e+06</td>\n",
        "      <td> 2.758878e+06</td>\n",
        "    </tr>\n",
        "    <tr>\n",
        "      <th>GRAND ARMY PLAZ</th>\n",
        "      <th>23</th>\n",
        "      <td> 4.781353e+06</td>\n",
        "      <td> 2.832201e+06</td>\n",
        "    </tr>\n",
        "    <tr>\n",
        "      <th>GRAND AV-NEWTON</th>\n",
        "      <th>MR</th>\n",
        "      <td> 1.676434e+07</td>\n",
        "      <td> 2.317550e+06</td>\n",
        "    </tr>\n",
        "    <tr>\n",
        "      <th rowspan=\"2\" valign=\"top\">GRAND ST</th>\n",
        "      <th>BD</th>\n",
        "      <td> 8.020416e+06</td>\n",
        "      <td> 6.744997e+06</td>\n",
        "    </tr>\n",
        "    <tr>\n",
        "      <th>L</th>\n",
        "      <td> 2.062618e+06</td>\n",
        "      <td> 1.299783e+06</td>\n",
        "    </tr>\n",
        "    <tr>\n",
        "      <th>GRAND-30 AVE</th>\n",
        "      <th>NQ</th>\n",
        "      <td> 4.259667e+06</td>\n",
        "      <td> 5.160837e+06</td>\n",
        "    </tr>\n",
        "    <tr>\n",
        "      <th>GRANT AVE</th>\n",
        "      <th>A</th>\n",
        "      <td> 7.037108e+06</td>\n",
        "      <td> 5.791613e+06</td>\n",
        "    </tr>\n",
        "    <tr>\n",
        "      <th>GREENPOINT AVE</th>\n",
        "      <th>G</th>\n",
        "      <td> 1.162113e+06</td>\n",
        "      <td> 6.964496e+05</td>\n",
        "    </tr>\n",
        "    <tr>\n",
        "      <th>GREENWOOD-111</th>\n",
        "      <th>A</th>\n",
        "      <td> 1.137022e+06</td>\n",
        "      <td> 7.233274e+05</td>\n",
        "    </tr>\n",
        "    <tr>\n",
        "      <th>GROVE STREET</th>\n",
        "      <th>1</th>\n",
        "      <td> 2.013816e+05</td>\n",
        "      <td> 1.900243e+05</td>\n",
        "    </tr>\n",
        "    <tr>\n",
        "      <th rowspan=\"2\" valign=\"top\">GUN HILL ROAD</th>\n",
        "      <th>25</th>\n",
        "      <td> 2.122615e+06</td>\n",
        "      <td> 1.974779e+06</td>\n",
        "    </tr>\n",
        "    <tr>\n",
        "      <th>5</th>\n",
        "      <td> 3.774743e+06</td>\n",
        "      <td> 1.657415e+06</td>\n",
        "    </tr>\n",
        "    <tr>\n",
        "      <th rowspan=\"2\" valign=\"top\">HALSEY ST</th>\n",
        "      <th>J</th>\n",
        "      <td> 4.845715e+06</td>\n",
        "      <td> 1.970810e+06</td>\n",
        "    </tr>\n",
        "    <tr>\n",
        "      <th>L</th>\n",
        "      <td> 1.227841e+07</td>\n",
        "      <td> 6.177383e+06</td>\n",
        "    </tr>\n",
        "    <tr>\n",
        "      <th>HARRISON</th>\n",
        "      <th>1</th>\n",
        "      <td> 1.754454e+05</td>\n",
        "      <td> 2.695653e+05</td>\n",
        "    </tr>\n",
        "    <tr>\n",
        "      <th>HEWES ST</th>\n",
        "      <th>JM</th>\n",
        "      <td> 2.653960e+06</td>\n",
        "      <td> 9.644078e+05</td>\n",
        "    </tr>\n",
        "    <tr>\n",
        "      <th>HIGH ST</th>\n",
        "      <th>AC</th>\n",
        "      <td> 4.831333e+06</td>\n",
        "      <td> 5.600085e+06</td>\n",
        "    </tr>\n",
        "    <tr>\n",
        "      <th>HOUSTON ST</th>\n",
        "      <th>1</th>\n",
        "      <td> 8.116963e+06</td>\n",
        "      <td> 3.442436e+06</td>\n",
        "    </tr>\n",
        "    <tr>\n",
        "      <th>HOWARD BCH-JFK</th>\n",
        "      <th>A</th>\n",
        "      <td> 9.915976e+05</td>\n",
        "      <td> 1.919191e+05</td>\n",
        "    </tr>\n",
        "    <tr>\n",
        "      <th>HOYT ST</th>\n",
        "      <th>23</th>\n",
        "      <td> 1.643654e+06</td>\n",
        "      <td> 1.991958e+06</td>\n",
        "    </tr>\n",
        "    <tr>\n",
        "      <th>HOYT ST-ASTORIA</th>\n",
        "      <th>NQ</th>\n",
        "      <td> 6.916286e+06</td>\n",
        "      <td> 4.804026e+06</td>\n",
        "    </tr>\n",
        "    <tr>\n",
        "      <th>HOYT/SCHERMER</th>\n",
        "      <th>ACG</th>\n",
        "      <td> 5.516963e+06</td>\n",
        "      <td> 5.705313e+06</td>\n",
        "    </tr>\n",
        "    <tr>\n",
        "      <th>HUDSON-80 ST</th>\n",
        "      <th>A</th>\n",
        "      <td> 2.336636e+06</td>\n",
        "      <td> 2.011276e+06</td>\n",
        "    </tr>\n",
        "    <tr>\n",
        "      <th>HUNTERS PT AVE</th>\n",
        "      <th>7</th>\n",
        "      <td> 2.105751e+08</td>\n",
        "      <td> 8.595721e+07</td>\n",
        "    </tr>\n",
        "    <tr>\n",
        "      <th>HUNTS POINT AVE</th>\n",
        "      <th>6</th>\n",
        "      <td> 2.486613e+06</td>\n",
        "      <td> 1.424480e+06</td>\n",
        "    </tr>\n",
        "    <tr>\n",
        "      <th>INTERVALE-163</th>\n",
        "      <th>25</th>\n",
        "      <td> 3.807787e+06</td>\n",
        "      <td> 3.033965e+06</td>\n",
        "    </tr>\n",
        "    <tr>\n",
        "      <th>INWOOD-207 ST</th>\n",
        "      <th>A</th>\n",
        "      <td> 3.042639e+07</td>\n",
        "      <td> 1.703632e+06</td>\n",
        "    </tr>\n",
        "    <tr>\n",
        "      <th>JACKSON AVE</th>\n",
        "      <th>25</th>\n",
        "      <td> 2.497875e+06</td>\n",
        "      <td> 5.770247e+05</td>\n",
        "    </tr>\n",
        "    <tr>\n",
        "      <th>JAMAICA CENTER</th>\n",
        "      <th>EJZ</th>\n",
        "      <td> 5.063747e+06</td>\n",
        "      <td> 4.463337e+06</td>\n",
        "    </tr>\n",
        "    <tr>\n",
        "      <th>JAMAICA-179 ST</th>\n",
        "      <th>F</th>\n",
        "      <td> 5.461653e+07</td>\n",
        "      <td> 1.436725e+07</td>\n",
        "    </tr>\n",
        "    <tr>\n",
        "      <th>JAMAICA-VAN WYC</th>\n",
        "      <th>E</th>\n",
        "      <td> 1.813215e+06</td>\n",
        "      <td> 1.624300e+06</td>\n",
        "    </tr>\n",
        "    <tr>\n",
        "      <th rowspan=\"2\" valign=\"top\">JAY ST-METROTEC</th>\n",
        "      <th>ACF</th>\n",
        "      <td> 1.186919e+07</td>\n",
        "      <td> 7.442558e+07</td>\n",
        "    </tr>\n",
        "    <tr>\n",
        "      <th>R</th>\n",
        "      <td> 2.010939e+06</td>\n",
        "      <td> 1.634283e+06</td>\n",
        "    </tr>\n",
        "    <tr>\n",
        "      <th>JEFFERSON ST</th>\n",
        "      <th>L</th>\n",
        "      <td> 3.445241e+06</td>\n",
        "      <td> 2.003501e+06</td>\n",
        "    </tr>\n",
        "    <tr>\n",
        "      <th>JFK HOWARD BCH</th>\n",
        "      <th>A</th>\n",
        "      <td> 2.473804e+05</td>\n",
        "      <td> 1.963680e+05</td>\n",
        "    </tr>\n",
        "    <tr>\n",
        "      <th>JFK JAMAICA CT1</th>\n",
        "      <th>E</th>\n",
        "      <td> 1.263426e+05</td>\n",
        "      <td> 1.339906e+05</td>\n",
        "    </tr>\n",
        "    <tr>\n",
        "      <th>JOURNAL SQUARE</th>\n",
        "      <th>1</th>\n",
        "      <td> 4.783868e+05</td>\n",
        "      <td> 2.420785e+05</td>\n",
        "    </tr>\n",
        "    <tr>\n",
        "      <th>JUNCTION BLVD</th>\n",
        "      <th>7</th>\n",
        "      <td> 3.351388e+06</td>\n",
        "      <td> 4.341785e+06</td>\n",
        "    </tr>\n",
        "    <tr>\n",
        "      <th>JUNIUS ST</th>\n",
        "      <th>3</th>\n",
        "      <td> 3.923622e+06</td>\n",
        "      <td> 2.604846e+06</td>\n",
        "    </tr>\n",
        "    <tr>\n",
        "      <th rowspan=\"3\" valign=\"top\">KINGS HIGHWAY</th>\n",
        "      <th>BQ</th>\n",
        "      <td> 3.492532e+06</td>\n",
        "      <td> 2.779407e+06</td>\n",
        "    </tr>\n",
        "    <tr>\n",
        "      <th>F</th>\n",
        "      <td> 1.473171e+06</td>\n",
        "      <td> 1.612765e+06</td>\n",
        "    </tr>\n",
        "    <tr>\n",
        "      <th>N</th>\n",
        "      <td> 4.708278e+06</td>\n",
        "      <td> 3.360759e+06</td>\n",
        "    </tr>\n",
        "    <tr>\n",
        "      <th rowspan=\"2\" valign=\"top\">KINGSBRIDGE RD</th>\n",
        "      <th>4</th>\n",
        "      <td> 6.137783e+06</td>\n",
        "      <td> 4.115276e+06</td>\n",
        "    </tr>\n",
        "    <tr>\n",
        "      <th>BD</th>\n",
        "      <td> 1.503562e+06</td>\n",
        "      <td> 1.180432e+06</td>\n",
        "    </tr>\n",
        "    <tr>\n",
        "      <th>KINGSTON AVE</th>\n",
        "      <th>3</th>\n",
        "      <td> 9.317699e+06</td>\n",
        "      <td> 8.000414e+06</td>\n",
        "    </tr>\n",
        "    <tr>\n",
        "      <th>KINGSTON-THROOP</th>\n",
        "      <th>C</th>\n",
        "      <td> 2.606217e+06</td>\n",
        "      <td> 2.854874e+06</td>\n",
        "    </tr>\n",
        "    <tr>\n",
        "      <th>KNICKERBOCKER</th>\n",
        "      <th>M</th>\n",
        "      <td> 1.791865e+06</td>\n",
        "      <td> 1.575575e+06</td>\n",
        "    </tr>\n",
        "    <tr>\n",
        "      <th>KOSCIUSZKO ST</th>\n",
        "      <th>J</th>\n",
        "      <td> 4.081191e+06</td>\n",
        "      <td> 2.482739e+06</td>\n",
        "    </tr>\n",
        "    <tr>\n",
        "      <th>LACKAWANNA</th>\n",
        "      <th>1</th>\n",
        "      <td> 1.110631e+05</td>\n",
        "      <td> 1.289975e+05</td>\n",
        "    </tr>\n",
        "    <tr>\n",
        "      <th>LAFAYETTE AVE</th>\n",
        "      <th>C</th>\n",
        "      <td> 1.619794e+06</td>\n",
        "      <td> 8.590696e+05</td>\n",
        "    </tr>\n",
        "    <tr>\n",
        "      <th>LEFFERTS BLVD</th>\n",
        "      <th>A</th>\n",
        "      <td> 2.348949e+06</td>\n",
        "      <td> 2.258515e+06</td>\n",
        "    </tr>\n",
        "    <tr>\n",
        "      <th rowspan=\"2\" valign=\"top\">LEXINGTON AVE</th>\n",
        "      <th>F</th>\n",
        "      <td> 3.706562e+06</td>\n",
        "      <td> 3.999348e+06</td>\n",
        "    </tr>\n",
        "    <tr>\n",
        "      <th>NQR456</th>\n",
        "      <td> 3.964793e+06</td>\n",
        "      <td> 2.225986e+06</td>\n",
        "    </tr>\n",
        "    <tr>\n",
        "      <th>LEXINGTON-53 ST</th>\n",
        "      <th>EM6</th>\n",
        "      <td> 4.763355e+06</td>\n",
        "      <td> 4.771185e+06</td>\n",
        "    </tr>\n",
        "    <tr>\n",
        "      <th>LIBERTY AVE</th>\n",
        "      <th>C</th>\n",
        "      <td> 3.225140e+06</td>\n",
        "      <td> 1.882470e+06</td>\n",
        "    </tr>\n",
        "    <tr>\n",
        "      <th>LIVONIA AVE</th>\n",
        "      <th>L</th>\n",
        "      <td> 2.071811e+06</td>\n",
        "      <td> 1.635720e+06</td>\n",
        "    </tr>\n",
        "    <tr>\n",
        "      <th>LONGWOOD AVE</th>\n",
        "      <th>6</th>\n",
        "      <td> 1.894850e+06</td>\n",
        "      <td> 1.952487e+06</td>\n",
        "    </tr>\n",
        "    <tr>\n",
        "      <th rowspan=\"2\" valign=\"top\">LORIMER ST</th>\n",
        "      <th>JM</th>\n",
        "      <td> 2.421375e+06</td>\n",
        "      <td> 1.655951e+06</td>\n",
        "    </tr>\n",
        "    <tr>\n",
        "      <th>LG</th>\n",
        "      <td> 2.917456e+06</td>\n",
        "      <td> 1.059663e+06</td>\n",
        "    </tr>\n",
        "    <tr>\n",
        "      <th>MAIN ST</th>\n",
        "      <th>7</th>\n",
        "      <td> 6.709705e+06</td>\n",
        "      <td> 6.575505e+06</td>\n",
        "    </tr>\n",
        "    <tr>\n",
        "      <th>MARBLE HILL-225</th>\n",
        "      <th>1</th>\n",
        "      <td> 1.090760e+06</td>\n",
        "      <td> 1.310480e+05</td>\n",
        "    </tr>\n",
        "    <tr>\n",
        "      <th>MARCY AVE</th>\n",
        "      <th>JMZ</th>\n",
        "      <td> 3.078256e+06</td>\n",
        "      <td> 3.186752e+07</td>\n",
        "    </tr>\n",
        "    <tr>\n",
        "      <th rowspan=\"2\" valign=\"top\">METROPOLITAN AV</th>\n",
        "      <th>GL</th>\n",
        "      <td> 3.730239e+06</td>\n",
        "      <td> 2.831868e+06</td>\n",
        "    </tr>\n",
        "    <tr>\n",
        "      <th>M</th>\n",
        "      <td> 3.018003e+06</td>\n",
        "      <td> 3.310353e+06</td>\n",
        "    </tr>\n",
        "    <tr>\n",
        "      <th>METS-WILLETS PT</th>\n",
        "      <th>7</th>\n",
        "      <td> 1.417467e+06</td>\n",
        "      <td> 4.188512e+05</td>\n",
        "    </tr>\n",
        "    <tr>\n",
        "      <th>MIDDLETOWN ROAD</th>\n",
        "      <th>6</th>\n",
        "      <td> 1.431156e+06</td>\n",
        "      <td> 8.971191e+05</td>\n",
        "    </tr>\n",
        "    <tr>\n",
        "      <th>MONTROSE AVE</th>\n",
        "      <th>L</th>\n",
        "      <td> 1.455617e+06</td>\n",
        "      <td> 1.669470e+06</td>\n",
        "    </tr>\n",
        "    <tr>\n",
        "      <th>MORGAN AVE</th>\n",
        "      <th>L</th>\n",
        "      <td> 5.311205e+06</td>\n",
        "      <td> 3.084210e+06</td>\n",
        "    </tr>\n",
        "    <tr>\n",
        "      <th>MORRIS PARK</th>\n",
        "      <th>5</th>\n",
        "      <td> 1.951725e+06</td>\n",
        "      <td> 1.026377e+06</td>\n",
        "    </tr>\n",
        "    <tr>\n",
        "      <th>MORRISON AVE</th>\n",
        "      <th>6</th>\n",
        "      <td> 1.051384e+06</td>\n",
        "      <td> 6.774825e+05</td>\n",
        "    </tr>\n",
        "    <tr>\n",
        "      <th>MOSHOLU PARKWAY</th>\n",
        "      <th>4</th>\n",
        "      <td> 2.940871e+06</td>\n",
        "      <td> 1.455305e+06</td>\n",
        "    </tr>\n",
        "    <tr>\n",
        "      <th>MT EDEN AVE</th>\n",
        "      <th>4</th>\n",
        "      <td> 2.936476e+06</td>\n",
        "      <td> 2.153138e+06</td>\n",
        "    </tr>\n",
        "    <tr>\n",
        "      <th rowspan=\"2\" valign=\"top\">MYRTLE AVE</th>\n",
        "      <th>JMZ</th>\n",
        "      <td> 8.029179e+06</td>\n",
        "      <td> 7.601873e+06</td>\n",
        "    </tr>\n",
        "    <tr>\n",
        "      <th>LM</th>\n",
        "      <td> 3.343358e+06</td>\n",
        "      <td> 2.181839e+06</td>\n",
        "    </tr>\n",
        "    <tr>\n",
        "      <th>MYRTLE-WILLOUGH</th>\n",
        "      <th>G</th>\n",
        "      <td> 2.566429e+06</td>\n",
        "      <td> 1.686194e+06</td>\n",
        "    </tr>\n",
        "    <tr>\n",
        "      <th>NASSAU AV</th>\n",
        "      <th>G</th>\n",
        "      <td> 1.972924e+07</td>\n",
        "      <td> 6.409495e+06</td>\n",
        "    </tr>\n",
        "    <tr>\n",
        "      <th>NECK ROAD</th>\n",
        "      <th>BQ</th>\n",
        "      <td> 1.574596e+07</td>\n",
        "      <td> 2.418022e+05</td>\n",
        "    </tr>\n",
        "    <tr>\n",
        "      <th>NEPTUNE AVE</th>\n",
        "      <th>F</th>\n",
        "      <td> 1.964482e+06</td>\n",
        "      <td> 7.992002e+05</td>\n",
        "    </tr>\n",
        "    <tr>\n",
        "      <th>NEREID AVE</th>\n",
        "      <th>25</th>\n",
        "      <td> 4.268224e+06</td>\n",
        "      <td> 1.689648e+06</td>\n",
        "    </tr>\n",
        "    <tr>\n",
        "      <th>NEVINS ST</th>\n",
        "      <th>2345</th>\n",
        "      <td> 2.381346e+06</td>\n",
        "      <td> 2.357140e+06</td>\n",
        "    </tr>\n",
        "    <tr>\n",
        "      <th rowspan=\"2\" valign=\"top\">NEW LOTS AVE</th>\n",
        "      <th>3</th>\n",
        "      <td> 7.360141e+06</td>\n",
        "      <td> 4.649942e+06</td>\n",
        "    </tr>\n",
        "    <tr>\n",
        "      <th>L</th>\n",
        "      <td> 3.411219e+06</td>\n",
        "      <td> 5.083938e+06</td>\n",
        "    </tr>\n",
        "    <tr>\n",
        "      <th>NEW UTRECHT AVE</th>\n",
        "      <th>ND</th>\n",
        "      <td> 2.339588e+06</td>\n",
        "      <td> 2.000493e+06</td>\n",
        "    </tr>\n",
        "    <tr>\n",
        "      <th>NEWARK BM BW</th>\n",
        "      <th>1</th>\n",
        "      <td> 3.379976e+05</td>\n",
        "      <td> 1.837821e+04</td>\n",
        "    </tr>\n",
        "    <tr>\n",
        "      <th>NEWARK C</th>\n",
        "      <th>1</th>\n",
        "      <td> 1.188096e+05</td>\n",
        "      <td> 1.121470e+04</td>\n",
        "    </tr>\n",
        "    <tr>\n",
        "      <th>NEWARK HM HE</th>\n",
        "      <th>1</th>\n",
        "      <td> 2.736374e+04</td>\n",
        "      <td> 4.343818e+05</td>\n",
        "    </tr>\n",
        "    <tr>\n",
        "      <th>NEWARK HW BMEBE</th>\n",
        "      <th>1</th>\n",
        "      <td> 1.215170e+05</td>\n",
        "      <td> 1.468197e+05</td>\n",
        "    </tr>\n",
        "    <tr>\n",
        "      <th>NEWKIRK AVE</th>\n",
        "      <th>25</th>\n",
        "      <td> 3.976270e+06</td>\n",
        "      <td> 1.926953e+06</td>\n",
        "    </tr>\n",
        "    <tr>\n",
        "      <th>NEWKIRK PLAZA</th>\n",
        "      <th>BQ</th>\n",
        "      <td> 8.879630e+06</td>\n",
        "      <td> 8.455566e+06</td>\n",
        "    </tr>\n",
        "    <tr>\n",
        "      <th>NORTHERN BLVD</th>\n",
        "      <th>MR</th>\n",
        "      <td> 2.428283e+06</td>\n",
        "      <td> 2.312247e+06</td>\n",
        "    </tr>\n",
        "    <tr>\n",
        "      <th>NORWOOD AVE</th>\n",
        "      <th>JZ</th>\n",
        "      <td> 2.683617e+06</td>\n",
        "      <td> 3.028314e+06</td>\n",
        "    </tr>\n",
        "    <tr>\n",
        "      <th>NORWOOD-205 ST</th>\n",
        "      <th>D</th>\n",
        "      <td> 2.633966e+06</td>\n",
        "      <td> 2.314248e+06</td>\n",
        "    </tr>\n",
        "    <tr>\n",
        "      <th rowspan=\"2\" valign=\"top\">NOSTRAND AVE</th>\n",
        "      <th>3</th>\n",
        "      <td> 7.486052e+06</td>\n",
        "      <td> 7.842506e+06</td>\n",
        "    </tr>\n",
        "    <tr>\n",
        "      <th>AC</th>\n",
        "      <td> 7.108904e+06</td>\n",
        "      <td> 6.732376e+06</td>\n",
        "    </tr>\n",
        "    <tr>\n",
        "      <th>OCEAN PARKWAY</th>\n",
        "      <th>Q</th>\n",
        "      <td> 1.865905e+07</td>\n",
        "      <td> 1.430362e+06</td>\n",
        "    </tr>\n",
        "    <tr>\n",
        "      <th>OXFORD-104 ST</th>\n",
        "      <th>A</th>\n",
        "      <td> 1.652813e+06</td>\n",
        "      <td> 1.469780e+06</td>\n",
        "    </tr>\n",
        "    <tr>\n",
        "      <th rowspan=\"2\" valign=\"top\">PARK PLACE</th>\n",
        "      <th>23ACE</th>\n",
        "      <td> 2.213908e+07</td>\n",
        "      <td> 5.616488e+06</td>\n",
        "    </tr>\n",
        "    <tr>\n",
        "      <th>S</th>\n",
        "      <td> 2.119960e+06</td>\n",
        "      <td> 2.280557e+06</td>\n",
        "    </tr>\n",
        "    <tr>\n",
        "      <th>PARKSIDE AVE</th>\n",
        "      <th>BQ</th>\n",
        "      <td> 1.065262e+07</td>\n",
        "      <td> 9.728092e+06</td>\n",
        "    </tr>\n",
        "    <tr>\n",
        "      <th>PARSONS BLVD</th>\n",
        "      <th>F</th>\n",
        "      <td> 1.916840e+06</td>\n",
        "      <td> 1.969371e+06</td>\n",
        "    </tr>\n",
        "    <tr>\n",
        "      <th>PATH WTC</th>\n",
        "      <th>1</th>\n",
        "      <td> 5.000023e+05</td>\n",
        "      <td> 5.341568e+05</td>\n",
        "    </tr>\n",
        "    <tr>\n",
        "      <th>PATH WTC 2</th>\n",
        "      <th>1</th>\n",
        "      <td> 4.424088e+04</td>\n",
        "      <td> 1.237515e+05</td>\n",
        "    </tr>\n",
        "    <tr>\n",
        "      <th>PAVONIA/NEWPORT</th>\n",
        "      <th>1</th>\n",
        "      <td> 5.094828e+05</td>\n",
        "      <td> 5.718975e+05</td>\n",
        "    </tr>\n",
        "    <tr>\n",
        "      <th>PELHAM BAY PARK</th>\n",
        "      <th>6</th>\n",
        "      <td> 2.018469e+07</td>\n",
        "      <td> 2.649587e+06</td>\n",
        "    </tr>\n",
        "    <tr>\n",
        "      <th rowspan=\"2\" valign=\"top\">PELHAM PARKWAY</th>\n",
        "      <th>25</th>\n",
        "      <td> 1.238990e+07</td>\n",
        "      <td> 5.197191e+05</td>\n",
        "    </tr>\n",
        "    <tr>\n",
        "      <th>5</th>\n",
        "      <td> 1.677463e+06</td>\n",
        "      <td> 2.160899e+06</td>\n",
        "    </tr>\n",
        "    <tr>\n",
        "      <th>PENNSYLVANIA AV</th>\n",
        "      <th>3</th>\n",
        "      <td> 8.660654e+06</td>\n",
        "      <td> 3.167523e+06</td>\n",
        "    </tr>\n",
        "    <tr>\n",
        "      <th>PRESIDENT ST</th>\n",
        "      <th>25</th>\n",
        "      <td> 3.643559e+06</td>\n",
        "      <td> 4.138791e+06</td>\n",
        "    </tr>\n",
        "    <tr>\n",
        "      <th>PRINCE ST-B'WAY</th>\n",
        "      <th>NR</th>\n",
        "      <td> 5.171959e+06</td>\n",
        "      <td> 3.437943e+06</td>\n",
        "    </tr>\n",
        "    <tr>\n",
        "      <th rowspan=\"2\" valign=\"top\">PROSPECT AVE</th>\n",
        "      <th>25</th>\n",
        "      <td> 3.708309e+06</td>\n",
        "      <td> 8.819268e+05</td>\n",
        "    </tr>\n",
        "    <tr>\n",
        "      <th>R</th>\n",
        "      <td> 4.308356e+06</td>\n",
        "      <td> 4.408555e+06</td>\n",
        "    </tr>\n",
        "    <tr>\n",
        "      <th>PROSPECT PARK</th>\n",
        "      <th>BQS</th>\n",
        "      <td> 3.996583e+06</td>\n",
        "      <td> 3.734950e+06</td>\n",
        "    </tr>\n",
        "    <tr>\n",
        "      <th>QUEENS PLAZA</th>\n",
        "      <th>EMR</th>\n",
        "      <td> 3.550768e+06</td>\n",
        "      <td> 1.811542e+06</td>\n",
        "    </tr>\n",
        "    <tr>\n",
        "      <th>QUEENSBORO PLZ</th>\n",
        "      <th>7NQ</th>\n",
        "      <td> 5.617427e+06</td>\n",
        "      <td> 2.020855e+06</td>\n",
        "    </tr>\n",
        "    <tr>\n",
        "      <th>RALPH AVE</th>\n",
        "      <th>C</th>\n",
        "      <td> 4.769573e+06</td>\n",
        "      <td> 3.945596e+06</td>\n",
        "    </tr>\n",
        "    <tr>\n",
        "      <th rowspan=\"2\" valign=\"top\">RECTOR ST</th>\n",
        "      <th>1</th>\n",
        "      <td> 1.455598e+07</td>\n",
        "      <td> 5.969683e+06</td>\n",
        "    </tr>\n",
        "    <tr>\n",
        "      <th>R</th>\n",
        "      <td> 2.238780e+06</td>\n",
        "      <td> 1.340833e+06</td>\n",
        "    </tr>\n",
        "    <tr>\n",
        "      <th>RIT-MANHATTAN</th>\n",
        "      <th>R</th>\n",
        "      <td> 7.183722e+05</td>\n",
        "      <td> 1.271189e+04</td>\n",
        "    </tr>\n",
        "    <tr>\n",
        "      <th>RIT-ROOSEVELT</th>\n",
        "      <th>R</th>\n",
        "      <td> 9.671858e+05</td>\n",
        "      <td> 7.026972e+04</td>\n",
        "    </tr>\n",
        "    <tr>\n",
        "      <th rowspan=\"2\" valign=\"top\">ROCKAWAY AVE</th>\n",
        "      <th>3</th>\n",
        "      <td> 4.806064e+06</td>\n",
        "      <td> 3.520513e+06</td>\n",
        "    </tr>\n",
        "    <tr>\n",
        "      <th>C</th>\n",
        "      <td> 1.022059e+08</td>\n",
        "      <td> 5.896806e+06</td>\n",
        "    </tr>\n",
        "    <tr>\n",
        "      <th>ROCKAWAY BLVD</th>\n",
        "      <th>A</th>\n",
        "      <td> 1.405663e+07</td>\n",
        "      <td> 2.170123e+06</td>\n",
        "    </tr>\n",
        "    <tr>\n",
        "      <th>ROCKAWAY PK 116</th>\n",
        "      <th>AS</th>\n",
        "      <td> 2.096294e+07</td>\n",
        "      <td> 2.105512e+06</td>\n",
        "    </tr>\n",
        "    <tr>\n",
        "      <th>ROCKAWAY PKY</th>\n",
        "      <th>L</th>\n",
        "      <td> 1.265823e+07</td>\n",
        "      <td> 2.138326e+06</td>\n",
        "    </tr>\n",
        "    <tr>\n",
        "      <th>ROOSEVELT AVE</th>\n",
        "      <th>EFMR7</th>\n",
        "      <td> 6.292012e+06</td>\n",
        "      <td> 4.477301e+06</td>\n",
        "    </tr>\n",
        "    <tr>\n",
        "      <th>ROOSEVELT IS</th>\n",
        "      <th>F</th>\n",
        "      <td> 9.460906e+05</td>\n",
        "      <td> 1.914182e+06</td>\n",
        "    </tr>\n",
        "    <tr>\n",
        "      <th>SARATOGA AVE</th>\n",
        "      <th>3</th>\n",
        "      <td> 6.554728e+06</td>\n",
        "      <td> 4.638504e+06</td>\n",
        "    </tr>\n",
        "    <tr>\n",
        "      <th>SENECA AVE</th>\n",
        "      <th>M</th>\n",
        "      <td> 1.059046e+06</td>\n",
        "      <td> 1.207636e+06</td>\n",
        "    </tr>\n",
        "    <tr>\n",
        "      <th>SHEEPSHEAD BAY</th>\n",
        "      <th>BQ</th>\n",
        "      <td> 3.971620e+06</td>\n",
        "      <td> 3.653796e+06</td>\n",
        "    </tr>\n",
        "    <tr>\n",
        "      <th>SHEPHERD AVE</th>\n",
        "      <th>C</th>\n",
        "      <td> 5.212547e+06</td>\n",
        "      <td> 4.583290e+06</td>\n",
        "    </tr>\n",
        "    <tr>\n",
        "      <th>SIMPSON ST</th>\n",
        "      <th>25</th>\n",
        "      <td> 3.687848e+06</td>\n",
        "      <td> 9.939638e+05</td>\n",
        "    </tr>\n",
        "    <tr>\n",
        "      <th>SMITH-9 ST</th>\n",
        "      <th>FG</th>\n",
        "      <td> 1.630492e+06</td>\n",
        "      <td> 1.243906e+06</td>\n",
        "    </tr>\n",
        "    <tr>\n",
        "      <th>SOUTH FERRY</th>\n",
        "      <th>1R</th>\n",
        "      <td> 2.061773e+06</td>\n",
        "      <td> 1.756813e+06</td>\n",
        "    </tr>\n",
        "    <tr>\n",
        "      <th rowspan=\"2\" valign=\"top\">SPRING ST</th>\n",
        "      <th>6</th>\n",
        "      <td> 3.905384e+06</td>\n",
        "      <td> 5.526388e+06</td>\n",
        "    </tr>\n",
        "    <tr>\n",
        "      <th>CE</th>\n",
        "      <td> 4.415538e+07</td>\n",
        "      <td> 1.118803e+07</td>\n",
        "    </tr>\n",
        "    <tr>\n",
        "      <th>ST LAWRENCE AVE</th>\n",
        "      <th>6</th>\n",
        "      <td> 1.757116e+06</td>\n",
        "      <td> 1.287297e+06</td>\n",
        "    </tr>\n",
        "    <tr>\n",
        "      <th>ST. GEORGE</th>\n",
        "      <th>1</th>\n",
        "      <td> 9.532583e+05</td>\n",
        "      <td> 3.654484e+03</td>\n",
        "    </tr>\n",
        "    <tr>\n",
        "      <th>STEINWAY ST</th>\n",
        "      <th>MR</th>\n",
        "      <td> 4.843381e+06</td>\n",
        "      <td> 3.548623e+06</td>\n",
        "    </tr>\n",
        "    <tr>\n",
        "      <th>STERLING ST</th>\n",
        "      <th>25</th>\n",
        "      <td> 6.885881e+06</td>\n",
        "      <td> 4.879790e+06</td>\n",
        "    </tr>\n",
        "    <tr>\n",
        "      <th>STILLWELL AVE</th>\n",
        "      <th>DFNQ</th>\n",
        "      <td> 1.902044e+06</td>\n",
        "      <td> 1.767733e+06</td>\n",
        "    </tr>\n",
        "    <tr>\n",
        "      <th rowspan=\"2\" valign=\"top\">SUTPHIN BLVD</th>\n",
        "      <th>EJZ</th>\n",
        "      <td> 1.084238e+07</td>\n",
        "      <td> 5.267119e+06</td>\n",
        "    </tr>\n",
        "    <tr>\n",
        "      <th>F</th>\n",
        "      <td> 1.638145e+06</td>\n",
        "      <td> 8.749263e+05</td>\n",
        "    </tr>\n",
        "    <tr>\n",
        "      <th rowspan=\"2\" valign=\"top\">SUTTER AVE</th>\n",
        "      <th>3</th>\n",
        "      <td> 8.413965e+06</td>\n",
        "      <td> 4.932495e+06</td>\n",
        "    </tr>\n",
        "    <tr>\n",
        "      <th>L</th>\n",
        "      <td> 9.436218e+06</td>\n",
        "      <td> 9.360939e+06</td>\n",
        "    </tr>\n",
        "    <tr>\n",
        "      <th>THIRTY ST</th>\n",
        "      <th>1</th>\n",
        "      <td> 2.288666e+05</td>\n",
        "      <td> 2.565050e+05</td>\n",
        "    </tr>\n",
        "    <tr>\n",
        "      <th>THIRTY THIRD ST</th>\n",
        "      <th>1</th>\n",
        "      <td> 5.556727e+05</td>\n",
        "      <td> 3.660704e+05</td>\n",
        "    </tr>\n",
        "    <tr>\n",
        "      <th>TOMPKINSVILLE</th>\n",
        "      <th>1</th>\n",
        "      <td> 1.195744e+06</td>\n",
        "      <td> 3.452704e+05</td>\n",
        "    </tr>\n",
        "    <tr>\n",
        "      <th>TREMONT AVE</th>\n",
        "      <th>BD</th>\n",
        "      <td> 2.393277e+08</td>\n",
        "      <td> 1.164480e+06</td>\n",
        "    </tr>\n",
        "    <tr>\n",
        "      <th>TWENTY THIRD ST</th>\n",
        "      <th>1</th>\n",
        "      <td> 2.569164e+05</td>\n",
        "      <td> 1.998016e+05</td>\n",
        "    </tr>\n",
        "    <tr>\n",
        "      <th>UNION ST</th>\n",
        "      <th>R</th>\n",
        "      <td> 3.263019e+06</td>\n",
        "      <td> 4.475347e+06</td>\n",
        "    </tr>\n",
        "    <tr>\n",
        "      <th>UNION TPK-KEW G</th>\n",
        "      <th>EF</th>\n",
        "      <td> 3.976192e+06</td>\n",
        "      <td> 3.363232e+06</td>\n",
        "    </tr>\n",
        "    <tr>\n",
        "      <th>UTICA AVE</th>\n",
        "      <th>AC</th>\n",
        "      <td> 3.088177e+06</td>\n",
        "      <td> 2.322286e+06</td>\n",
        "    </tr>\n",
        "    <tr>\n",
        "      <th>VAN ALSTON-21ST</th>\n",
        "      <th>G</th>\n",
        "      <td> 1.683565e+06</td>\n",
        "      <td> 1.912553e+06</td>\n",
        "    </tr>\n",
        "    <tr>\n",
        "      <th rowspan=\"3\" valign=\"top\">VAN SICLEN AVE</th>\n",
        "      <th>3</th>\n",
        "      <td> 5.863432e+06</td>\n",
        "      <td> 2.966701e+06</td>\n",
        "    </tr>\n",
        "    <tr>\n",
        "      <th>C</th>\n",
        "      <td> 4.056857e+06</td>\n",
        "      <td> 4.257678e+06</td>\n",
        "    </tr>\n",
        "    <tr>\n",
        "      <th>JZ</th>\n",
        "      <td> 3.735840e+06</td>\n",
        "      <td> 3.656277e+06</td>\n",
        "    </tr>\n",
        "    <tr>\n",
        "      <th>VAN WYCK BLVD</th>\n",
        "      <th>EF</th>\n",
        "      <td> 8.966357e+05</td>\n",
        "      <td> 8.480748e+05</td>\n",
        "    </tr>\n",
        "    <tr>\n",
        "      <th>VERNON/JACKSON</th>\n",
        "      <th>7</th>\n",
        "      <td> 2.138471e+06</td>\n",
        "      <td> 1.395153e+06</td>\n",
        "    </tr>\n",
        "    <tr>\n",
        "      <th>W 4 ST-WASH SQ</th>\n",
        "      <th>ABCDEFM</th>\n",
        "      <td> 1.372057e+07</td>\n",
        "      <td> 6.133831e+06</td>\n",
        "    </tr>\n",
        "    <tr>\n",
        "      <th>W 8 ST-AQUARIUM</th>\n",
        "      <th>FQ</th>\n",
        "      <td> 1.253808e+06</td>\n",
        "      <td> 1.412235e+06</td>\n",
        "    </tr>\n",
        "    <tr>\n",
        "      <th>WAKEFIELD-241</th>\n",
        "      <th>2</th>\n",
        "      <td> 2.864713e+06</td>\n",
        "      <td> 2.971474e+06</td>\n",
        "    </tr>\n",
        "    <tr>\n",
        "      <th rowspan=\"2\" valign=\"top\">WALL ST</th>\n",
        "      <th>23</th>\n",
        "      <td> 5.117396e+06</td>\n",
        "      <td> 4.561723e+06</td>\n",
        "    </tr>\n",
        "    <tr>\n",
        "      <th>45</th>\n",
        "      <td> 1.283742e+07</td>\n",
        "      <td> 1.398686e+06</td>\n",
        "    </tr>\n",
        "    <tr>\n",
        "      <th>WASHINGTON-36 A</th>\n",
        "      <th>NQ</th>\n",
        "      <td> 6.653933e+06</td>\n",
        "      <td> 6.263469e+06</td>\n",
        "    </tr>\n",
        "    <tr>\n",
        "      <th>WESTCHESTER SQ</th>\n",
        "      <th>6</th>\n",
        "      <td> 6.992257e+06</td>\n",
        "      <td> 6.500398e+06</td>\n",
        "    </tr>\n",
        "    <tr>\n",
        "      <th>WHITEHALL ST</th>\n",
        "      <th>R1</th>\n",
        "      <td> 5.819355e+06</td>\n",
        "      <td> 4.942651e+05</td>\n",
        "    </tr>\n",
        "    <tr>\n",
        "      <th>WHITLOCK AVE</th>\n",
        "      <th>6</th>\n",
        "      <td> 1.422997e+07</td>\n",
        "      <td> 9.631937e+05</td>\n",
        "    </tr>\n",
        "    <tr>\n",
        "      <th>WILSON AVE</th>\n",
        "      <th>L</th>\n",
        "      <td> 4.334008e+06</td>\n",
        "      <td> 3.878722e+06</td>\n",
        "    </tr>\n",
        "    <tr>\n",
        "      <th>WINTHROP ST</th>\n",
        "      <th>25</th>\n",
        "      <td> 7.261795e+06</td>\n",
        "      <td> 1.252274e+06</td>\n",
        "    </tr>\n",
        "    <tr>\n",
        "      <th rowspan=\"2\" valign=\"top\">WOODHAVEN BLVD</th>\n",
        "      <th>JZ</th>\n",
        "      <td> 6.165695e+06</td>\n",
        "      <td> 1.659850e+06</td>\n",
        "    </tr>\n",
        "    <tr>\n",
        "      <th>MR</th>\n",
        "      <td> 5.469993e+06</td>\n",
        "      <td> 3.584026e+06</td>\n",
        "    </tr>\n",
        "    <tr>\n",
        "      <th>WOODLAWN ROAD</th>\n",
        "      <th>4</th>\n",
        "      <td> 4.917792e+06</td>\n",
        "      <td> 2.092554e+06</td>\n",
        "    </tr>\n",
        "    <tr>\n",
        "      <th>WORLD TRADE CTR</th>\n",
        "      <th>ACE23</th>\n",
        "      <td> 3.115087e+06</td>\n",
        "      <td> 1.641538e+06</td>\n",
        "    </tr>\n",
        "    <tr>\n",
        "      <th>YORK ST</th>\n",
        "      <th>F</th>\n",
        "      <td> 9.469117e+06</td>\n",
        "      <td> 8.851567e+06</td>\n",
        "    </tr>\n",
        "  </tbody>\n",
        "</table>\n",
        "</div>"
       ],
       "metadata": {},
       "output_type": "pyout",
       "prompt_number": 7,
       "text": [
        "                                  ENTRIES  \\\n",
        "STATION         LINENAME                    \n",
        "1 AVE           L            5.235746e+07   \n",
        "103 ST          1            9.910209e+06   \n",
        "                6            5.752368e+06   \n",
        "                BC           7.739412e+06   \n",
        "103 ST-CORONA   7            7.336024e+06   \n",
        "104 ST          JZ           5.091538e+08   \n",
        "110 ST          6            4.980353e+06   \n",
        "110 ST-CATHEDRL 1            5.828282e+06   \n",
        "110 ST-CPN      23           1.061775e+07   \n",
        "111 ST          7            7.209860e+06   \n",
        "                J            3.550979e+06   \n",
        "116 ST          23           3.094076e+06   \n",
        "                6            6.121179e+06   \n",
        "                BC           3.232970e+06   \n",
        "116 ST-COLUMBIA 1            8.571944e+06   \n",
        "121 ST          JZ           1.402137e+06   \n",
        "125 ST          1            2.636851e+06   \n",
        "                23           1.277692e+08   \n",
        "                456          1.463115e+08   \n",
        "                ACBD         2.934017e+07   \n",
        "135 ST          23           2.799301e+06   \n",
        "                BC           1.244616e+07   \n",
        "137 ST-CITY COL 1            6.515811e+07   \n",
        "138 ST-3 AVE    6            3.927063e+06   \n",
        "138 ST-GR CONC  45           3.316788e+08   \n",
        "14 ST           123FLM       9.419413e+07   \n",
        "                ACEL         2.569706e+07   \n",
        "14 ST-6 AVE     FLM123       2.827540e+06   \n",
        "14 ST-UNION SQ  456LNQR      1.552423e+07   \n",
        "                LNQR456      2.941426e+07   \n",
        "145 ST          1            7.179196e+07   \n",
        "                3            3.332703e+06   \n",
        "                ABCD         1.061077e+07   \n",
        "148 ST-LENOX    3            2.508579e+06   \n",
        "149 ST-3 AVE    25           3.225837e+06   \n",
        "149 ST-GR CONC  245          3.574152e+07   \n",
        "14TH STREET     1            3.422185e+05   \n",
        "15 ST-PROSPECT  FG           1.737710e+06   \n",
        "155 ST          BD           5.506645e+06   \n",
        "                C            2.417758e+06   \n",
        "157 ST          1            3.496197e+06   \n",
        "161 ST-YANKEE   4BD          1.304223e+06   \n",
        "                BD4          2.337502e+06   \n",
        "163 ST-AMSTERDM C            2.677311e+06   \n",
        "167 ST          4            6.197397e+06   \n",
        "                BD           3.622987e+06   \n",
        "168 ST-BROADWAY 1AC          8.899925e+06   \n",
        "                AC1          4.943112e+06   \n",
        "169 ST          F            1.424471e+06   \n",
        "170 ST          4            3.524630e+06   \n",
        "                BD           1.272965e+08   \n",
        "174 ST          25           4.109303e+06   \n",
        "174-175 ST      BD           1.431139e+06   \n",
        "175 ST          A            9.356970e+06   \n",
        "176 ST          4            1.094383e+07   \n",
        "18 AVE          D            4.223469e+06   \n",
        "                F            3.287424e+06   \n",
        "                N            5.190945e+06   \n",
        "18 ST           1            2.425579e+06   \n",
        "181 ST          1            5.714559e+06   \n",
        "                A            7.970088e+06   \n",
        "182-183 ST      BD           7.988767e+06   \n",
        "183 ST          4            4.470456e+08   \n",
        "190 ST          A            5.577254e+06   \n",
        "191 ST          1            4.061147e+06   \n",
        "2 AVE           F            4.374922e+06   \n",
        "20 AVE          D            4.578125e+06   \n",
        "                N            4.428285e+06   \n",
        "207 ST          1            2.524595e+07   \n",
        "21 ST           F            5.050607e+06   \n",
        "215 ST          1            2.047360e+06   \n",
        "219 ST          25           2.825712e+06   \n",
        "22 AVE-BAY PKY  F            1.656871e+06   \n",
        "225 ST          25           4.214806e+06   \n",
        "23 ST           1            4.550091e+06   \n",
        "                6            8.776476e+06   \n",
        "                CE           9.566317e+06   \n",
        "23 ST-5 AVE     NR           6.929694e+06   \n",
        "23 ST-6 AVE     FM           3.048256e+08   \n",
        "231 ST          1            2.209166e+07   \n",
        "233 ST          25           3.112892e+06   \n",
        "238 ST          1            5.905311e+06   \n",
        "242 ST          1            4.933816e+06   \n",
        "25 AVE          D            1.051440e+06   \n",
        "25 ST           R            2.555687e+06   \n",
        "28 ST           1            2.393825e+06   \n",
        "                6            8.906730e+07   \n",
        "28 ST-BROADWAY  NR           2.366340e+06   \n",
        "3 AVE           L            2.532075e+06   \n",
        "33 ST           6            5.355668e+06   \n",
        "33 ST/RAWSON ST 7            3.417508e+06   \n",
        "34 ST-HERALD SQ BDFMNQR      3.542938e+07   \n",
        "34 ST-PENN STA  123          8.256376e+06   \n",
        "                123ACE       1.006354e+07   \n",
        "                ACE          3.773249e+07   \n",
        "36 ST           DNR          5.034875e+06   \n",
        "                MR           1.262156e+07   \n",
        "4 AVE           DFGMNR       5.843699e+06   \n",
        "40 ST-LOWERY ST 7            8.742829e+06   \n",
        "42 ST-BRYANT PK BDFM7        9.835693e+07   \n",
        "42 ST-GRD CNTRL 4567S        4.328327e+07   \n",
        "42 ST-PA BUS TE ACENGRS1237  9.711901e+06   \n",
        "                ACENQRS1237  6.105407e+07   \n",
        "42 ST-TIMES SQ  1237ACENQRS  4.997867e+07   \n",
        "                ACENQRS1237  9.236202e+05   \n",
        "45 ST           R            3.061944e+06   \n",
        "46 ST           MR           2.589433e+06   \n",
        "46 ST-BLISS ST  7            4.772164e+06   \n",
        "47-50 ST-ROCK   BDFM         5.033600e+06   \n",
        "49 ST-7 AVE     NQR          3.151679e+06   \n",
        "5 AVE-53 ST     EM           4.759773e+06   \n",
        "5 AVE-59 ST     NQR          3.845637e+06   \n",
        "5 AVE-BRYANT PK 7BDFM        2.857892e+07   \n",
        "50 ST           1            4.100874e+06   \n",
        "                CE           4.199270e+06   \n",
        "                D            3.711871e+06   \n",
        "51 ST           6            3.644276e+06   \n",
        "52 ST-LINCOLN   7            2.520434e+07   \n",
        "53 ST           R            6.615123e+06   \n",
        "55 ST           D            3.261597e+06   \n",
        "57 ST           F            4.620441e+06   \n",
        "57 ST-7 AVE     NQR          9.712659e+06   \n",
        "59 ST           456NQR       4.624743e+06   \n",
        "                NR           5.345269e+06   \n",
        "59 ST-COLUMBUS  1ABCD        2.289040e+06   \n",
        "                ABCD1        8.607224e+07   \n",
        "6 AVE           FLM123       4.647811e+06   \n",
        "61 ST/WOODSIDE  7            4.343710e+06   \n",
        "63 DR-REGO PARK MR           5.716115e+06   \n",
        "65 ST           MR           4.066810e+06   \n",
        "66 ST-LINCOLN   1            1.215909e+07   \n",
        "67 AVE          MR           3.497426e+06   \n",
        "68ST-HUNTER COL 6            8.170969e+06   \n",
        "69 ST-FISK AVE  7            4.136313e+06   \n",
        "7 AV-PARK SLOPE FG           2.523752e+06   \n",
        "7 AVE           BQ           3.540573e+08   \n",
        "7 AVE-53 ST     BDE          1.483171e+08   \n",
        "71 ST           D            4.022436e+06   \n",
        "72 ST           123          1.279705e+08   \n",
        "                BC           1.038897e+07   \n",
        "74 ST-BROADWAY  7EFMR        2.129268e+06   \n",
        "75 AVE          EF           1.361289e+07   \n",
        "77 ST           6            9.226971e+07   \n",
        "                R            5.788129e+06   \n",
        "79 ST           1            6.644129e+06   \n",
        "                D            2.786330e+07   \n",
        "8 AVE           ACEL         2.406700e+07   \n",
        "                N            4.739219e+07   \n",
        "8 ST-B'WAY NYU  NR           1.121357e+07   \n",
        "81 ST-MUSEUM    BC           4.448025e+06   \n",
        "82 ST-JACKSON H 7            2.034024e+06   \n",
        "86 ST           1            6.220293e+06   \n",
        "                456          5.150182e+07   \n",
        "                BC           2.059385e+08   \n",
        "                N            3.669565e+06   \n",
        "                R            4.600635e+06   \n",
        "9 AVE           D            1.294291e+07   \n",
        "9 ST            DFGMNR       2.474772e+06   \n",
        "90 ST-ELMHURST  7            6.246925e+06   \n",
        "96 ST           123          2.870888e+07   \n",
        "                6            1.433133e+07   \n",
        "                BC           2.436980e+06   \n",
        "9TH STREET      1            3.565041e+05   \n",
        "ALABAMA AVE     J            2.475020e+06   \n",
        "ALLERTON AVE    25           2.236215e+06   \n",
        "AQUEDUCT TRACK  A            8.604595e+06   \n",
        "AQUEDUCT-N CNDT A            8.379400e+05   \n",
        "ASTOR PLACE     6            3.916296e+06   \n",
        "ATLANTIC AVE    L            4.176640e+05   \n",
        "AVE H           BQ           4.264343e+05   \n",
        "AVE I           F            1.771105e+06   \n",
        "AVE J           BQ           2.056050e+06   \n",
        "AVE M           BQ           1.147025e+07   \n",
        "AVE N           F            6.536349e+06   \n",
        "AVE P           F            5.013120e+06   \n",
        "AVE U           BQ           5.554311e+06   \n",
        "                F            4.479072e+07   \n",
        "                N            4.171431e+06   \n",
        "AVE X           F            3.668105e+06   \n",
        "BARCLAYS CENTER 2345BDNQR    4.657450e+07   \n",
        "                BDNQR2345    1.308723e+06   \n",
        "BAY 50 ST       D            2.869461e+06   \n",
        "BAY PARKWAY     D            4.177192e+06   \n",
        "BAY PKY-22 AVE  N            1.723455e+07   \n",
        "BAY RIDGE AVE   R            4.497207e+06   \n",
        "BAY RIDGE-95 ST R            3.172859e+07   \n",
        "BAYCHESTER AVE  5            4.003613e+06   \n",
        "BEACH 105 ST    AS           2.045798e+05   \n",
        "BEACH 25 ST     A            1.241327e+06   \n",
        "BEACH 36 ST     A            7.216930e+05   \n",
        "BEACH 44 ST     A            4.453689e+05   \n",
        "BEACH 60 ST     A            2.507429e+07   \n",
        "BEACH 67 ST     A            1.710240e+06   \n",
        "BEACH 90 ST     AS           9.516824e+05   \n",
        "BEACH 98 ST     AS           8.237180e+05   \n",
        "BEDFORD AVE     L            7.039892e+07   \n",
        "BEDFORD PARK BL 4            2.267415e+06   \n",
        "                BD           1.944170e+07   \n",
        "BEDFORD/NOSTRAN G            1.474018e+07   \n",
        "BEEBE-39 AVE    NQ           1.337852e+06   \n",
        "BERGEN ST       23           1.721660e+06   \n",
        "                FG           2.574867e+06   \n",
        "BEVERLEY ROAD   BQ           3.999334e+06   \n",
        "BEVERLY ROAD    25           5.360334e+06   \n",
        "BLEECKER ST     6DF          2.581205e+06   \n",
        "BOROUGH HALL/CT 2345R        5.027746e+06   \n",
        "                R2345        2.152937e+07   \n",
        "BOTANIC GARDEN  S2345        1.288822e+06   \n",
        "BOWERY          JZ           3.679251e+06   \n",
        "BOWLING GREEN   45           3.471556e+07   \n",
        "BOYD-88 ST      A            3.890658e+06   \n",
        "BRIGHTON BEACH  BQ           5.116330e+06   \n",
        "BROAD CHANNEL   AS           5.523949e+05   \n",
        "BROAD ST        JZ           1.512207e+06   \n",
        "BROADWAY        G            4.452445e+06   \n",
        "BROADWAY-31 ST  NQ           8.051192e+06   \n",
        "BROADWAY-ENY    ACJLZ        6.946506e+06   \n",
        "BROADWAY/LAFAY  BDFQ6        4.975466e+06   \n",
        "BRONX PARK EAST 25           2.006221e+06   \n",
        "BROOK AVE       6            2.573207e+06   \n",
        "BROOKLYN BRIDGE 456JZ        1.226996e+08   \n",
        "BURKE AVE       25           2.167931e+06   \n",
        "BURNSIDE AVE    4            2.591697e+06   \n",
        "BUSHWICK AVE    L            1.272433e+06   \n",
        "CANAL ST        1            2.577380e+06   \n",
        "                ACE          3.717834e+06   \n",
        "                JNQRZ6       1.959300e+07   \n",
        "CARROLL ST      FG           3.589097e+06   \n",
        "CASTLE HILL AVE 6            3.876973e+06   \n",
        "CATHEDRL-110 ST BC           1.260409e+07   \n",
        "CENTRAL AVE     M            7.535299e+05   \n",
        "CHAMBERS ST     123          1.356105e+08   \n",
        "                ACE23        6.998201e+06   \n",
        "                JZ456        5.916704e+07   \n",
        "CHAUNCEY ST     JZ           2.715925e+06   \n",
        "CHRISTOPHER ST  1            2.038244e+08   \n",
        "CHURCH AVE      25           9.133668e+06   \n",
        "                BQ           4.648791e+06   \n",
        "                FG           1.159521e+07   \n",
        "CITY / BUS      1            3.220257e+05   \n",
        "CITY HALL       R            2.545481e+07   \n",
        "CLARK ST        23           4.544456e+06   \n",
        "CLASSON AVE     G            4.255136e+06   \n",
        "CLEVELAND ST    J            2.651955e+06   \n",
        "CLINTON-WASH AV C            1.037084e+07   \n",
        "                G            2.308027e+06   \n",
        "CORTELYOU ROAD  BQ           5.487399e+06   \n",
        "CORTLANDT ST    R            8.638622e+07   \n",
        "COURT SQ        7            1.647350e+06   \n",
        "                EMG          1.583698e+07   \n",
        "COURT SQ-23 ST  EMG          4.013217e+06   \n",
        "CRESCENT ST     JZ           6.372465e+06   \n",
        "CROWN HTS-UTICA 34           1.071949e+07   \n",
        "CYPRESS AVE     6            1.359424e+06   \n",
        "CYPRESS HILLS   J            1.772329e+06   \n",
        "DEKALB AVE      BDNQR        5.446563e+07   \n",
        "                L            4.450622e+06   \n",
        "DELANCEY ST     FJMZ         2.847903e+06   \n",
        "DITMARS BL-31 S NQ           3.281054e+06   \n",
        "DITMAS AVE      F            1.033527e+06   \n",
        "DYCKMAN ST      1            9.497354e+05   \n",
        "DYCKMAN-200 ST  A            7.259608e+06   \n",
        "DYRE AVE        5            1.096069e+08   \n",
        "E 143 ST        6            7.016478e+05   \n",
        "E 149 ST        6            2.583448e+06   \n",
        "E 177 ST-PARKCH 6            1.422109e+06   \n",
        "E 180 ST        25           4.184137e+06   \n",
        "E TREMONT AVE   25           4.793497e+07   \n",
        "EAST 105 ST     L            4.722094e+06   \n",
        "EAST BROADWAY   F            1.245542e+07   \n",
        "EASTERN PKWY    23           3.955930e+06   \n",
        "ELDER AVE       6            2.764871e+07   \n",
        "ELDERTS LANE    JZ           3.249888e+06   \n",
        "ELMHURST AVE    MR           6.685584e+07   \n",
        "ESSEX ST        FJMZ         2.383952e+08   \n",
        "EUCLID AVE      AC           1.912323e+08   \n",
        "EXCHANGE PLACE  1            2.221153e+05   \n",
        "FAR ROCKAWAY    A            1.008968e+06   \n",
        "FLATBUSH AVE    25           1.472198e+08   \n",
        "FLUSHING AVE    G            8.067792e+05   \n",
        "                JM           3.467230e+07   \n",
        "FORDHAM ROAD    4            2.060120e+07   \n",
        "                BD           2.581570e+06   \n",
        "FOREST AVE      M            3.371473e+06   \n",
        "FOREST HILLS-71 EFMR         3.081213e+07   \n",
        "FOREST PARKWAY  J            4.017799e+06   \n",
        "FRANKLIN AVE    2345S        6.684860e+06   \n",
        "                ACS          1.210824e+08   \n",
        "FRANKLIN ST     1            2.478083e+06   \n",
        "FREEMAN ST      25           2.353389e+07   \n",
        "FRESH POND ROAD M            2.878060e+06   \n",
        "FT HAMILTON PKY D            5.483026e+05   \n",
        "                FG           1.295264e+06   \n",
        "                N            1.735939e+06   \n",
        "FULTON ST       2345ACJZ     3.592213e+07   \n",
        "                ACJZ2345     1.200498e+08   \n",
        "                G            1.594460e+06   \n",
        "GATES AVE       JZ           2.843997e+06   \n",
        "GRAHAM AVE      L            4.271311e+06   \n",
        "GRAND ARMY PLAZ 23           4.781353e+06   \n",
        "GRAND AV-NEWTON MR           1.676434e+07   \n",
        "GRAND ST        BD           8.020416e+06   \n",
        "                L            2.062618e+06   \n",
        "GRAND-30 AVE    NQ           4.259667e+06   \n",
        "GRANT AVE       A            7.037108e+06   \n",
        "GREENPOINT AVE  G            1.162113e+06   \n",
        "GREENWOOD-111   A            1.137022e+06   \n",
        "GROVE STREET    1            2.013816e+05   \n",
        "GUN HILL ROAD   25           2.122615e+06   \n",
        "                5            3.774743e+06   \n",
        "HALSEY ST       J            4.845715e+06   \n",
        "                L            1.227841e+07   \n",
        "HARRISON        1            1.754454e+05   \n",
        "HEWES ST        JM           2.653960e+06   \n",
        "HIGH ST         AC           4.831333e+06   \n",
        "HOUSTON ST      1            8.116963e+06   \n",
        "HOWARD BCH-JFK  A            9.915976e+05   \n",
        "HOYT ST         23           1.643654e+06   \n",
        "HOYT ST-ASTORIA NQ           6.916286e+06   \n",
        "HOYT/SCHERMER   ACG          5.516963e+06   \n",
        "HUDSON-80 ST    A            2.336636e+06   \n",
        "HUNTERS PT AVE  7            2.105751e+08   \n",
        "HUNTS POINT AVE 6            2.486613e+06   \n",
        "INTERVALE-163   25           3.807787e+06   \n",
        "INWOOD-207 ST   A            3.042639e+07   \n",
        "JACKSON AVE     25           2.497875e+06   \n",
        "JAMAICA CENTER  EJZ          5.063747e+06   \n",
        "JAMAICA-179 ST  F            5.461653e+07   \n",
        "JAMAICA-VAN WYC E            1.813215e+06   \n",
        "JAY ST-METROTEC ACF          1.186919e+07   \n",
        "                R            2.010939e+06   \n",
        "JEFFERSON ST    L            3.445241e+06   \n",
        "JFK HOWARD BCH  A            2.473804e+05   \n",
        "JFK JAMAICA CT1 E            1.263426e+05   \n",
        "JOURNAL SQUARE  1            4.783868e+05   \n",
        "JUNCTION BLVD   7            3.351388e+06   \n",
        "JUNIUS ST       3            3.923622e+06   \n",
        "KINGS HIGHWAY   BQ           3.492532e+06   \n",
        "                F            1.473171e+06   \n",
        "                N            4.708278e+06   \n",
        "KINGSBRIDGE RD  4            6.137783e+06   \n",
        "                BD           1.503562e+06   \n",
        "KINGSTON AVE    3            9.317699e+06   \n",
        "KINGSTON-THROOP C            2.606217e+06   \n",
        "KNICKERBOCKER   M            1.791865e+06   \n",
        "KOSCIUSZKO ST   J            4.081191e+06   \n",
        "LACKAWANNA      1            1.110631e+05   \n",
        "LAFAYETTE AVE   C            1.619794e+06   \n",
        "LEFFERTS BLVD   A            2.348949e+06   \n",
        "LEXINGTON AVE   F            3.706562e+06   \n",
        "                NQR456       3.964793e+06   \n",
        "LEXINGTON-53 ST EM6          4.763355e+06   \n",
        "LIBERTY AVE     C            3.225140e+06   \n",
        "LIVONIA AVE     L            2.071811e+06   \n",
        "LONGWOOD AVE    6            1.894850e+06   \n",
        "LORIMER ST      JM           2.421375e+06   \n",
        "                LG           2.917456e+06   \n",
        "MAIN ST         7            6.709705e+06   \n",
        "MARBLE HILL-225 1            1.090760e+06   \n",
        "MARCY AVE       JMZ          3.078256e+06   \n",
        "METROPOLITAN AV GL           3.730239e+06   \n",
        "                M            3.018003e+06   \n",
        "METS-WILLETS PT 7            1.417467e+06   \n",
        "MIDDLETOWN ROAD 6            1.431156e+06   \n",
        "MONTROSE AVE    L            1.455617e+06   \n",
        "MORGAN AVE      L            5.311205e+06   \n",
        "MORRIS PARK     5            1.951725e+06   \n",
        "MORRISON AVE    6            1.051384e+06   \n",
        "MOSHOLU PARKWAY 4            2.940871e+06   \n",
        "MT EDEN AVE     4            2.936476e+06   \n",
        "MYRTLE AVE      JMZ          8.029179e+06   \n",
        "                LM           3.343358e+06   \n",
        "MYRTLE-WILLOUGH G            2.566429e+06   \n",
        "NASSAU AV       G            1.972924e+07   \n",
        "NECK ROAD       BQ           1.574596e+07   \n",
        "NEPTUNE AVE     F            1.964482e+06   \n",
        "NEREID AVE      25           4.268224e+06   \n",
        "NEVINS ST       2345         2.381346e+06   \n",
        "NEW LOTS AVE    3            7.360141e+06   \n",
        "                L            3.411219e+06   \n",
        "NEW UTRECHT AVE ND           2.339588e+06   \n",
        "NEWARK BM BW    1            3.379976e+05   \n",
        "NEWARK C        1            1.188096e+05   \n",
        "NEWARK HM HE    1            2.736374e+04   \n",
        "NEWARK HW BMEBE 1            1.215170e+05   \n",
        "NEWKIRK AVE     25           3.976270e+06   \n",
        "NEWKIRK PLAZA   BQ           8.879630e+06   \n",
        "NORTHERN BLVD   MR           2.428283e+06   \n",
        "NORWOOD AVE     JZ           2.683617e+06   \n",
        "NORWOOD-205 ST  D            2.633966e+06   \n",
        "NOSTRAND AVE    3            7.486052e+06   \n",
        "                AC           7.108904e+06   \n",
        "OCEAN PARKWAY   Q            1.865905e+07   \n",
        "OXFORD-104 ST   A            1.652813e+06   \n",
        "PARK PLACE      23ACE        2.213908e+07   \n",
        "                S            2.119960e+06   \n",
        "PARKSIDE AVE    BQ           1.065262e+07   \n",
        "PARSONS BLVD    F            1.916840e+06   \n",
        "PATH WTC        1            5.000023e+05   \n",
        "PATH WTC 2      1            4.424088e+04   \n",
        "PAVONIA/NEWPORT 1            5.094828e+05   \n",
        "PELHAM BAY PARK 6            2.018469e+07   \n",
        "PELHAM PARKWAY  25           1.238990e+07   \n",
        "                5            1.677463e+06   \n",
        "PENNSYLVANIA AV 3            8.660654e+06   \n",
        "PRESIDENT ST    25           3.643559e+06   \n",
        "PRINCE ST-B'WAY NR           5.171959e+06   \n",
        "PROSPECT AVE    25           3.708309e+06   \n",
        "                R            4.308356e+06   \n",
        "PROSPECT PARK   BQS          3.996583e+06   \n",
        "QUEENS PLAZA    EMR          3.550768e+06   \n",
        "QUEENSBORO PLZ  7NQ          5.617427e+06   \n",
        "RALPH AVE       C            4.769573e+06   \n",
        "RECTOR ST       1            1.455598e+07   \n",
        "                R            2.238780e+06   \n",
        "RIT-MANHATTAN   R            7.183722e+05   \n",
        "RIT-ROOSEVELT   R            9.671858e+05   \n",
        "ROCKAWAY AVE    3            4.806064e+06   \n",
        "                C            1.022059e+08   \n",
        "ROCKAWAY BLVD   A            1.405663e+07   \n",
        "ROCKAWAY PK 116 AS           2.096294e+07   \n",
        "ROCKAWAY PKY    L            1.265823e+07   \n",
        "ROOSEVELT AVE   EFMR7        6.292012e+06   \n",
        "ROOSEVELT IS    F            9.460906e+05   \n",
        "SARATOGA AVE    3            6.554728e+06   \n",
        "SENECA AVE      M            1.059046e+06   \n",
        "SHEEPSHEAD BAY  BQ           3.971620e+06   \n",
        "SHEPHERD AVE    C            5.212547e+06   \n",
        "SIMPSON ST      25           3.687848e+06   \n",
        "SMITH-9 ST      FG           1.630492e+06   \n",
        "SOUTH FERRY     1R           2.061773e+06   \n",
        "SPRING ST       6            3.905384e+06   \n",
        "                CE           4.415538e+07   \n",
        "ST LAWRENCE AVE 6            1.757116e+06   \n",
        "ST. GEORGE      1            9.532583e+05   \n",
        "STEINWAY ST     MR           4.843381e+06   \n",
        "STERLING ST     25           6.885881e+06   \n",
        "STILLWELL AVE   DFNQ         1.902044e+06   \n",
        "SUTPHIN BLVD    EJZ          1.084238e+07   \n",
        "                F            1.638145e+06   \n",
        "SUTTER AVE      3            8.413965e+06   \n",
        "                L            9.436218e+06   \n",
        "THIRTY ST       1            2.288666e+05   \n",
        "THIRTY THIRD ST 1            5.556727e+05   \n",
        "TOMPKINSVILLE   1            1.195744e+06   \n",
        "TREMONT AVE     BD           2.393277e+08   \n",
        "TWENTY THIRD ST 1            2.569164e+05   \n",
        "UNION ST        R            3.263019e+06   \n",
        "UNION TPK-KEW G EF           3.976192e+06   \n",
        "UTICA AVE       AC           3.088177e+06   \n",
        "VAN ALSTON-21ST G            1.683565e+06   \n",
        "VAN SICLEN AVE  3            5.863432e+06   \n",
        "                C            4.056857e+06   \n",
        "                JZ           3.735840e+06   \n",
        "VAN WYCK BLVD   EF           8.966357e+05   \n",
        "VERNON/JACKSON  7            2.138471e+06   \n",
        "W 4 ST-WASH SQ  ABCDEFM      1.372057e+07   \n",
        "W 8 ST-AQUARIUM FQ           1.253808e+06   \n",
        "WAKEFIELD-241   2            2.864713e+06   \n",
        "WALL ST         23           5.117396e+06   \n",
        "                45           1.283742e+07   \n",
        "WASHINGTON-36 A NQ           6.653933e+06   \n",
        "WESTCHESTER SQ  6            6.992257e+06   \n",
        "WHITEHALL ST    R1           5.819355e+06   \n",
        "WHITLOCK AVE    6            1.422997e+07   \n",
        "WILSON AVE      L            4.334008e+06   \n",
        "WINTHROP ST     25           7.261795e+06   \n",
        "WOODHAVEN BLVD  JZ           6.165695e+06   \n",
        "                MR           5.469993e+06   \n",
        "WOODLAWN ROAD   4            4.917792e+06   \n",
        "WORLD TRADE CTR ACE23        3.115087e+06   \n",
        "YORK ST         F            9.469117e+06   \n",
        "\n",
        "                             EXITS                                                                 \n",
        "STATION         LINENAME                                                                           \n",
        "1 AVE           L                                                 2.781169e+07                     \n",
        "103 ST          1                                                 5.120572e+06                     \n",
        "                6                                                 6.768875e+06                     \n",
        "                BC                                                7.018204e+06                     \n",
        "103 ST-CORONA   7                                                 6.503181e+06                     \n",
        "104 ST          JZ                                                1.580507e+08                     \n",
        "110 ST          6                                                 4.554221e+06                     \n",
        "110 ST-CATHEDRL 1                                                 2.549454e+06                     \n",
        "110 ST-CPN      23                                                4.172728e+06                     \n",
        "111 ST          7                                                 4.257066e+06                     \n",
        "                J                                                 3.356556e+06                     \n",
        "116 ST          23                                                1.524688e+06                     \n",
        "                6                                                 4.567792e+06                     \n",
        "                BC                                                3.768612e+06                     \n",
        "116 ST-COLUMBIA 1                                                 3.246549e+06                     \n",
        "121 ST          JZ                                                1.210876e+06                     \n",
        "125 ST          1                                                 2.957254e+06                     \n",
        "                23                                                5.915688e+07                     \n",
        "                456                                               6.237254e+07                     \n",
        "                ACBD                                              2.441139e+07                     \n",
        "135 ST          23                                                1.266427e+06                     \n",
        "                BC                                                1.119780e+06                     \n",
        "137 ST-CITY COL 1                                                 9.083443e+07                     \n",
        "138 ST-3 AVE    6                                                 3.463921e+06                     \n",
        "138 ST-GR CONC  45                                                3.203438e+08                     \n",
        "14 ST           123FLM                                            1.041335e+08                     \n",
        "                ACEL                                              4.688720e+06                     \n",
        "14 ST-6 AVE     FLM123                                            2.951209e+06                     \n",
        "14 ST-UNION SQ  456LNQR                                           5.100471e+06                     \n",
        "                LNQR456                                           1.372350e+07                     \n",
        "145 ST          1                                                 1.734580e+07                     \n",
        "                3                                                 1.744059e+05                     \n",
        "                ABCD                                              1.051767e+07                     \n",
        "148 ST-LENOX    3                                                 1.681279e+06                     \n",
        "149 ST-3 AVE    25                                                2.221145e+06                     \n",
        "149 ST-GR CONC  245                                               2.723987e+06                     \n",
        "14TH STREET     1                                                 3.415077e+05                     \n",
        "15 ST-PROSPECT  FG                                                7.674678e+05                     \n",
        "155 ST          BD                                                3.836639e+06                     \n",
        "                C                                                 2.129622e+06                     \n",
        "157 ST          1                                                 2.340044e+06                     \n",
        "161 ST-YANKEE   4BD                                               9.121443e+05                     \n",
        "                BD4                                               1.829147e+06                     \n",
        "163 ST-AMSTERDM C                                                 1.834546e+06                     \n",
        "167 ST          4                                                 4.231734e+06                     \n",
        "                BD                                                2.027710e+06                     \n",
        "168 ST-BROADWAY 1AC                                               6.368809e+06                     \n",
        "                AC1                                               6.208110e+05                     \n",
        "169 ST          F                                                 1.580198e+06                     \n",
        "170 ST          4                                                 2.546969e+06                     \n",
        "                BD                                                2.427063e+08                     \n",
        "174 ST          25                                                5.130749e+07                     \n",
        "174-175 ST      BD                                                1.036799e+06                     \n",
        "175 ST          A                                                 1.156208e+06                     \n",
        "176 ST          4                                                 1.806115e+06                     \n",
        "18 AVE          D                                                 3.622753e+06                     \n",
        "                F                                                 3.042797e+06                     \n",
        "                N                                                 5.071887e+06                     \n",
        "18 ST           1                                                 1.429814e+06                     \n",
        "181 ST          1                                                 7.235197e+06                     \n",
        "                A                                                 6.636557e+06                     \n",
        "182-183 ST      BD                                                4.839140e+06                     \n",
        "183 ST          4                                                 4.666300e+08                     \n",
        "190 ST          A                                                 3.201079e+06                     \n",
        "191 ST          1                                                 3.994842e+06                     \n",
        "2 AVE           F                                                 5.325698e+06                     \n",
        "20 AVE          D                                                 4.632072e+06                     \n",
        "                N                                                 3.957171e+06                     \n",
        "207 ST          1                                                 9.382078e+05                     \n",
        "21 ST           F                                                 4.771067e+06                     \n",
        "215 ST          1                                                 4.257287e+07                     \n",
        "219 ST          25                                                1.802468e+06                     \n",
        "22 AVE-BAY PKY  F                                                 8.994043e+05                     \n",
        "225 ST          25                                                2.387861e+06                     \n",
        "23 ST           1                                                 5.934441e+06                     \n",
        "                6                                                 1.247059e+07                     \n",
        "                CE                                                2.996244e+06                     \n",
        "23 ST-5 AVE     NR                                                2.061976e+06                     \n",
        "23 ST-6 AVE     FM                                                3.197366e+08                     \n",
        "231 ST          1                                                 6.495614e+06                     \n",
        "233 ST          25                                                9.281549e+05                     \n",
        "238 ST          1                                                 2.779707e+05                     \n",
        "242 ST          1                                                 1.626186e+06                     \n",
        "25 AVE          D                                                 3.670511e+05                     \n",
        "25 ST           R                                                 2.908272e+06                     \n",
        "28 ST           1                                                 3.357721e+07                     \n",
        "                6                                                 1.162146e+08                     \n",
        "28 ST-BROADWAY  NR                                                3.183470e+06                     \n",
        "3 AVE           L                                                 2.792444e+06                     \n",
        "33 ST           6                                                 2.811653e+06                     \n",
        "33 ST/RAWSON ST 7                                                 3.523546e+06                     \n",
        "34 ST-HERALD SQ BDFMNQR                                           4.344339e+07                     \n",
        "34 ST-PENN STA  123                                               5.254718e+06                     \n",
        "                123ACE                                            3.388428e+06                     \n",
        "                ACE                                               1.223275e+07                     \n",
        "36 ST           DNR                                               3.047736e+06                     \n",
        "                MR                                                5.935599e+05                     \n",
        "4 AVE           DFGMNR                                            5.755094e+06                     \n",
        "40 ST-LOWERY ST 7                                                 7.147182e+06                     \n",
        "42 ST-BRYANT PK BDFM7                                             7.316982e+07                     \n",
        "42 ST-GRD CNTRL 4567S                                             1.159492e+07                     \n",
        "42 ST-PA BUS TE ACENGRS1237                                       6.027658e+06                     \n",
        "                ACENQRS1237                                       4.563200e+07                     \n",
        "42 ST-TIMES SQ  1237ACENQRS                                       6.872670e+07                     \n",
        "                ACENQRS1237                                       1.382896e+06                     \n",
        "45 ST           R                                                 3.366848e+06                     \n",
        "46 ST           MR                                                1.871246e+06                     \n",
        "46 ST-BLISS ST  7                                                 3.269847e+06                     \n",
        "47-50 ST-ROCK   BDFM                                              4.558363e+06                     \n",
        "49 ST-7 AVE     NQR                                               3.918211e+06                     \n",
        "5 AVE-53 ST     EM                                                4.949218e+06                     \n",
        "5 AVE-59 ST     NQR                                               3.150553e+06                     \n",
        "5 AVE-BRYANT PK 7BDFM                                             2.791764e+07                     \n",
        "50 ST           1                                                 4.336171e+06                     \n",
        "                CE                                                3.052694e+06                     \n",
        "                D                                                 3.700794e+06                     \n",
        "51 ST           6                                                 4.288937e+06                     \n",
        "52 ST-LINCOLN   7                                                 5.861236e+06                     \n",
        "53 ST           R                                                 3.535844e+06                     \n",
        "55 ST           D                                                 2.576454e+06                     \n",
        "57 ST           F                                                 4.097379e+06                     \n",
        "57 ST-7 AVE     NQR                                               5.679513e+06                     \n",
        "59 ST           456NQR                                            4.570998e+06                     \n",
        "                NR                                                4.104347e+06                     \n",
        "59 ST-COLUMBUS  1ABCD                                             1.347781e+06                     \n",
        "                ABCD1                                             6.377916e+07                     \n",
        "6 AVE           FLM123                                            1.997481e+06                     \n",
        "61 ST/WOODSIDE  7                                                 3.947586e+06                     \n",
        "63 DR-REGO PARK MR                                                1.924196e+06                     \n",
        "65 ST           MR                                                4.081288e+06                     \n",
        "66 ST-LINCOLN   1                                                 3.198185e+06                     \n",
        "67 AVE          MR                                                2.387033e+06                     \n",
        "68ST-HUNTER COL 6                                                 6.915828e+06                     \n",
        "69 ST-FISK AVE  7                                                 3.166787e+06                     \n",
        "7 AV-PARK SLOPE FG                                                8.251082e+05                     \n",
        "7 AVE           BQ                                                3.250156e+08                     \n",
        "7 AVE-53 ST     BDE                                               6.464822e+07                     \n",
        "71 ST           D                                                 2.559453e+06                     \n",
        "72 ST           123                                               1.710907e+08                     \n",
        "                BC                                                6.612692e+06                     \n",
        "74 ST-BROADWAY  7EFMR                                             1.746698e+06                     \n",
        "75 AVE          EF                                                1.371089e+05                     \n",
        "77 ST           6                                                 1.442496e+07                     \n",
        "                R                                                 3.719539e+06                     \n",
        "79 ST           1                                                 3.650943e+06                     \n",
        "                D                                                 2.409928e+06                     \n",
        "8 AVE           ACEL                                              4.664035e+06                     \n",
        "                N                                                 4.506041e+06                     \n",
        "8 ST-B'WAY NYU  NR                                                2.439233e+06                     \n",
        "81 ST-MUSEUM    BC                                                3.843868e+06                     \n",
        "82 ST-JACKSON H 7                                                 1.847469e+06                     \n",
        "86 ST           1                                                 7.101522e+06                     \n",
        "                456                                               9.606449e+07                     \n",
        "                BC                                                5.856248e+07                     \n",
        "                N                                                 2.129243e+06                     \n",
        "                R                                                 3.650970e+06                     \n",
        "9 AVE           D                                                 3.287607e+06                     \n",
        "9 ST            DFGMNR                                            1.354752e+06                     \n",
        "90 ST-ELMHURST  7                                                 3.325503e+06                     \n",
        "96 ST           123                                               5.882279e+07                     \n",
        "                6                                                 4.681373e+06                     \n",
        "                BC                                                2.214335e+06                     \n",
        "9TH STREET      1                                                 2.946728e+05                     \n",
        "ALABAMA AVE     J                                                 2.714987e+06                     \n",
        "ALLERTON AVE    25                                                9.058042e+05                     \n",
        "AQUEDUCT TRACK  A                                                 2.830211e+06                     \n",
        "AQUEDUCT-N CNDT A                                                 9.274083e+05                     \n",
        "ASTOR PLACE     6                                                 2.138599e+06                     \n",
        "ATLANTIC AVE    L                                                 1.823251e+05                     \n",
        "AVE H           BQ                                                3.550137e+05                     \n",
        "AVE I           F                                                 2.510089e+08                     \n",
        "AVE J           BQ                                                1.289972e+06                     \n",
        "AVE M           BQ                                                6.859983e+05                     \n",
        "AVE N           F                                                 1.171652e+06                     \n",
        "AVE P           F                                                 4.036986e+06                     \n",
        "AVE U           BQ                                                2.679352e+06                     \n",
        "                F                                                 6.404268e+06                     \n",
        "                N                                                 3.812282e+06                     \n",
        "AVE X           F                                                 3.539425e+06                     \n",
        "BARCLAYS CENTER 2345BDNQR                                         8.055452e+07                     \n",
        "                BDNQR2345                                         1.516500e+06                     \n",
        "BAY 50 ST       D                                                 2.653127e+06                     \n",
        "BAY PARKWAY     D                                                 4.175874e+06                     \n",
        "BAY PKY-22 AVE  N                                                 2.547300e+06                     \n",
        "BAY RIDGE AVE   R                                                 2.285968e+06                     \n",
        "BAY RIDGE-95 ST R                                                 1.795506e+06                     \n",
        "BAYCHESTER AVE  5                                                 3.533348e+05                     \n",
        "BEACH 105 ST    AS                                                2.952354e+05                     \n",
        "BEACH 25 ST     A                                                 1.365849e+06                     \n",
        "BEACH 36 ST     A                                                 7.083836e+05                     \n",
        "BEACH 44 ST     A                                                 5.867656e+05                     \n",
        "BEACH 60 ST     A                                                 1.744010e+06                     \n",
        "BEACH 67 ST     A                                                 1.661754e+06                     \n",
        "BEACH 90 ST     AS                                                1.031284e+06                     \n",
        "BEACH 98 ST     AS                                                9.052872e+05                     \n",
        "BEDFORD AVE     L                                                 1.149891e+08                     \n",
        "BEDFORD PARK BL 4                                                 4.132029e+06                     \n",
        "                BD                                                2.186810e+06                     \n",
        "BEDFORD/NOSTRAN G                                                 2.319871e+06                     \n",
        "BEEBE-39 AVE    NQ                                                1.390985e+06                     \n",
        "BERGEN ST       23                                                1.460267e+06                     \n",
        "                FG                                                1.601154e+06                     \n",
        "BEVERLEY ROAD   BQ                                                4.294167e+06                     \n",
        "BEVERLY ROAD    25                                                2.247118e+06                     \n",
        "BLEECKER ST     6DF                                               9.396702e+05                     \n",
        "BOROUGH HALL/CT 2345R                                             3.073668e+06                     \n",
        "                R2345                                             1.302501e+06                     \n",
        "BOTANIC GARDEN  S2345                                             5.141559e+05                     \n",
        "BOWERY          JZ                                                3.920575e+06                     \n",
        "BOWLING GREEN   45                                                5.511634e+07                     \n",
        "BOYD-88 ST      A                                                 3.669825e+06                     \n",
        "BRIGHTON BEACH  BQ                                                4.706389e+06                     \n",
        "BROAD CHANNEL   AS                                                1.898734e+05                     \n",
        "BROAD ST        JZ                                                9.364720e+05                     \n",
        "BROADWAY        G                                                 3.276672e+06                     \n",
        "BROADWAY-31 ST  NQ                                                2.975604e+06                     \n",
        "BROADWAY-ENY    ACJLZ                                             6.617724e+06                     \n",
        "BROADWAY/LAFAY  BDFQ6                                             3.832721e+06                     \n",
        "BRONX PARK EAST 25                                                1.012443e+06                     \n",
        "BROOK AVE       6                                                 2.980590e+06                     \n",
        "BROOKLYN BRIDGE 456JZ                                             6.527914e+07                     \n",
        "BURKE AVE       25                                                8.868399e+05                     \n",
        "BURNSIDE AVE    4                                                 2.038587e+06                     \n",
        "BUSHWICK AVE    L                                                 1.215627e+06                     \n",
        "CANAL ST        1                                                 2.382807e+06                     \n",
        "                ACE                                               3.236423e+06                     \n",
        "                JNQRZ6                                            1.702021e+07                     \n",
        "CARROLL ST      FG                                                2.177407e+06                     \n",
        "CASTLE HILL AVE 6                                                 2.404872e+06                     \n",
        "CATHEDRL-110 ST BC                                                7.146147e+06                     \n",
        "CENTRAL AVE     M                                                 9.693361e+05                     \n",
        "CHAMBERS ST     123                                               1.103788e+08                     \n",
        "                ACE23                                             3.164009e+06                     \n",
        "                JZ456                                             1.414459e+08                     \n",
        "CHAUNCEY ST     JZ                                                1.091046e+06                     \n",
        "CHRISTOPHER ST  1                                                 7.824219e+07                     \n",
        "CHURCH AVE      25                                                3.072549e+06                     \n",
        "                BQ                                                4.872002e+06                     \n",
        "                FG                                                2.893812e+06                     \n",
        "CITY / BUS      1                                                 3.614766e+05                     \n",
        "CITY HALL       R                                                 3.953235e+06                     \n",
        "CLARK ST        23                                                5.326342e+06                     \n",
        "CLASSON AVE     G                                                 4.167094e+06                     \n",
        "CLEVELAND ST    J                                                 2.609519e+06                     \n",
        "CLINTON-WASH AV C                                                 1.483422e+06                     \n",
        "                G                                                 5.242526e+05                     \n",
        "CORTELYOU ROAD  BQ                                                2.813714e+06                     \n",
        "CORTLANDT ST    R                                                 3.040236e+07                     \n",
        "COURT SQ        7                                                 1.513566e+06                     \n",
        "                EMG                                               6.082882e+05                     \n",
        "COURT SQ-23 ST  EMG                                               2.069381e+06                     \n",
        "CRESCENT ST     JZ                                                6.956668e+06                     \n",
        "CROWN HTS-UTICA 34                                                4.664430e+06                     \n",
        "CYPRESS AVE     6                                                 1.363915e+06                     \n",
        "CYPRESS HILLS   J                                                 1.061060e+06                     \n",
        "DEKALB AVE      BDNQR                                             4.741110e+06                     \n",
        "                L                                                 2.085608e+06                     \n",
        "DELANCEY ST     FJMZ                                              2.260094e+06                     \n",
        "DITMARS BL-31 S NQ                                                3.241761e+06                     \n",
        "DITMAS AVE      F                                                 8.713637e+05                     \n",
        "DYCKMAN ST      1                                                 1.236903e+06                     \n",
        "DYCKMAN-200 ST  A                                                 1.926192e+05                     \n",
        "DYRE AVE        5                                                 1.097496e+08                     \n",
        "E 143 ST        6                                                 8.094991e+05                     \n",
        "E 149 ST        6                                                 2.749943e+06                     \n",
        "E 177 ST-PARKCH 6                                                 1.668608e+06                     \n",
        "E 180 ST        25                                                3.349396e+06                     \n",
        "E TREMONT AVE   25                                                7.819192e+06                     \n",
        "EAST 105 ST     L                                                 4.331239e+06                     \n",
        "EAST BROADWAY   F                                                 3.269298e+06                     \n",
        "EASTERN PKWY    23                                                3.467862e+06                     \n",
        "ELDER AVE       6                                                 2.042659e+06                     \n",
        "ELDERTS LANE    JZ                                                3.076259e+06                     \n",
        "ELMHURST AVE    MR                                                1.573910e+08                     \n",
        "ESSEX ST        FJMZ                                              1.539877e+08                     \n",
        "EUCLID AVE      AC                                                1.962265e+07                     \n",
        "EXCHANGE PLACE  1                                                 2.239750e+05                     \n",
        "FAR ROCKAWAY    A                                                 1.126794e+06                     \n",
        "FLATBUSH AVE    25                                                1.076821e+08                     \n",
        "FLUSHING AVE    G                                                 7.916421e+05                     \n",
        "                JM                                                5.890461e+06                     \n",
        "FORDHAM ROAD    4                                                 5.135859e+06                     \n",
        "                BD                                                1.110412e+06                     \n",
        "FOREST AVE      M                                                 3.260641e+06                     \n",
        "FOREST HILLS-71 EFMR                                              2.872066e+07                     \n",
        "FOREST PARKWAY  J                                                 3.645139e+06                     \n",
        "FRANKLIN AVE    2345S                                             6.393697e+06                     \n",
        "                ACS                                               7.490915e+07                     \n",
        "FRANKLIN ST     1                                                 1.603216e+06                     \n",
        "FREEMAN ST      25                                                4.553265e+06                     \n",
        "FRESH POND ROAD M                                                 1.492951e+06                     \n",
        "FT HAMILTON PKY D                                                 7.172208e+05                     \n",
        "                FG                                                4.455736e+05                     \n",
        "                N                                                 1.086207e+06                     \n",
        "FULTON ST       2345ACJZ                                          7.137486e+06                     \n",
        "                ACJZ2345                                          7.010633e+07                     \n",
        "                G                                                 1.660711e+06                     \n",
        "GATES AVE       JZ                                                1.766842e+06                     \n",
        "GRAHAM AVE      L                                                 2.758878e+06                     \n",
        "GRAND ARMY PLAZ 23                                                2.832201e+06                     \n",
        "GRAND AV-NEWTON MR                                                2.317550e+06                     \n",
        "GRAND ST        BD                                                6.744997e+06                     \n",
        "                L                                                 1.299783e+06                     \n",
        "GRAND-30 AVE    NQ                                                5.160837e+06                     \n",
        "GRANT AVE       A                                                 5.791613e+06                     \n",
        "GREENPOINT AVE  G                                                 6.964496e+05                     \n",
        "GREENWOOD-111   A                                                 7.233274e+05                     \n",
        "GROVE STREET    1                                                 1.900243e+05                     \n",
        "GUN HILL ROAD   25                                                1.974779e+06                     \n",
        "                5                                                 1.657415e+06                     \n",
        "HALSEY ST       J                                                 1.970810e+06                     \n",
        "                L                                                 6.177383e+06                     \n",
        "HARRISON        1                                                 2.695653e+05                     \n",
        "HEWES ST        JM                                                9.644078e+05                     \n",
        "HIGH ST         AC                                                5.600085e+06                     \n",
        "HOUSTON ST      1                                                 3.442436e+06                     \n",
        "HOWARD BCH-JFK  A                                                 1.919191e+05                     \n",
        "HOYT ST         23                                                1.991958e+06                     \n",
        "HOYT ST-ASTORIA NQ                                                4.804026e+06                     \n",
        "HOYT/SCHERMER   ACG                                               5.705313e+06                     \n",
        "HUDSON-80 ST    A                                                 2.011276e+06                     \n",
        "HUNTERS PT AVE  7                                                 8.595721e+07                     \n",
        "HUNTS POINT AVE 6                                                 1.424480e+06                     \n",
        "INTERVALE-163   25                                                3.033965e+06                     \n",
        "INWOOD-207 ST   A                                                 1.703632e+06                     \n",
        "JACKSON AVE     25                                                5.770247e+05                     \n",
        "JAMAICA CENTER  EJZ                                               4.463337e+06                     \n",
        "JAMAICA-179 ST  F                                                 1.436725e+07                     \n",
        "JAMAICA-VAN WYC E                                                 1.624300e+06                     \n",
        "JAY ST-METROTEC ACF                                               7.442558e+07                     \n",
        "                R                                                 1.634283e+06                     \n",
        "JEFFERSON ST    L                                                 2.003501e+06                     \n",
        "JFK HOWARD BCH  A                                                 1.963680e+05                     \n",
        "JFK JAMAICA CT1 E                                                 1.339906e+05                     \n",
        "JOURNAL SQUARE  1                                                 2.420785e+05                     \n",
        "JUNCTION BLVD   7                                                 4.341785e+06                     \n",
        "JUNIUS ST       3                                                 2.604846e+06                     \n",
        "KINGS HIGHWAY   BQ                                                2.779407e+06                     \n",
        "                F                                                 1.612765e+06                     \n",
        "                N                                                 3.360759e+06                     \n",
        "KINGSBRIDGE RD  4                                                 4.115276e+06                     \n",
        "                BD                                                1.180432e+06                     \n",
        "KINGSTON AVE    3                                                 8.000414e+06                     \n",
        "KINGSTON-THROOP C                                                 2.854874e+06                     \n",
        "KNICKERBOCKER   M                                                 1.575575e+06                     \n",
        "KOSCIUSZKO ST   J                                                 2.482739e+06                     \n",
        "LACKAWANNA      1                                                 1.289975e+05                     \n",
        "LAFAYETTE AVE   C                                                 8.590696e+05                     \n",
        "LEFFERTS BLVD   A                                                 2.258515e+06                     \n",
        "LEXINGTON AVE   F                                                 3.999348e+06                     \n",
        "                NQR456                                            2.225986e+06                     \n",
        "LEXINGTON-53 ST EM6                                               4.771185e+06                     \n",
        "LIBERTY AVE     C                                                 1.882470e+06                     \n",
        "LIVONIA AVE     L                                                 1.635720e+06                     \n",
        "LONGWOOD AVE    6                                                 1.952487e+06                     \n",
        "LORIMER ST      JM                                                1.655951e+06                     \n",
        "                LG                                                1.059663e+06                     \n",
        "MAIN ST         7                                                 6.575505e+06                     \n",
        "MARBLE HILL-225 1                                                 1.310480e+05                     \n",
        "MARCY AVE       JMZ                                               3.186752e+07                     \n",
        "METROPOLITAN AV GL                                                2.831868e+06                     \n",
        "                M                                                 3.310353e+06                     \n",
        "METS-WILLETS PT 7                                                 4.188512e+05                     \n",
        "MIDDLETOWN ROAD 6                                                 8.971191e+05                     \n",
        "MONTROSE AVE    L                                                 1.669470e+06                     \n",
        "MORGAN AVE      L                                                 3.084210e+06                     \n",
        "MORRIS PARK     5                                                 1.026377e+06                     \n",
        "MORRISON AVE    6                                                 6.774825e+05                     \n",
        "MOSHOLU PARKWAY 4                                                 1.455305e+06                     \n",
        "MT EDEN AVE     4                                                 2.153138e+06                     \n",
        "MYRTLE AVE      JMZ                                               7.601873e+06                     \n",
        "                LM                                                2.181839e+06                     \n",
        "MYRTLE-WILLOUGH G                                                 1.686194e+06                     \n",
        "NASSAU AV       G                                                 6.409495e+06                     \n",
        "NECK ROAD       BQ                                                2.418022e+05                     \n",
        "NEPTUNE AVE     F                                                 7.992002e+05                     \n",
        "NEREID AVE      25                                                1.689648e+06                     \n",
        "NEVINS ST       2345                                              2.357140e+06                     \n",
        "NEW LOTS AVE    3                                                 4.649942e+06                     \n",
        "                L                                                 5.083938e+06                     \n",
        "NEW UTRECHT AVE ND                                                2.000493e+06                     \n",
        "NEWARK BM BW    1                                                 1.837821e+04                     \n",
        "NEWARK C        1                                                 1.121470e+04                     \n",
        "NEWARK HM HE    1                                                 4.343818e+05                     \n",
        "NEWARK HW BMEBE 1                                                 1.468197e+05                     \n",
        "NEWKIRK AVE     25                                                1.926953e+06                     \n",
        "NEWKIRK PLAZA   BQ                                                8.455566e+06                     \n",
        "NORTHERN BLVD   MR                                                2.312247e+06                     \n",
        "NORWOOD AVE     JZ                                                3.028314e+06                     \n",
        "NORWOOD-205 ST  D                                                 2.314248e+06                     \n",
        "NOSTRAND AVE    3                                                 7.842506e+06                     \n",
        "                AC                                                6.732376e+06                     \n",
        "OCEAN PARKWAY   Q                                                 1.430362e+06                     \n",
        "OXFORD-104 ST   A                                                 1.469780e+06                     \n",
        "PARK PLACE      23ACE                                             5.616488e+06                     \n",
        "                S                                                 2.280557e+06                     \n",
        "PARKSIDE AVE    BQ                                                9.728092e+06                     \n",
        "PARSONS BLVD    F                                                 1.969371e+06                     \n",
        "PATH WTC        1                                                 5.341568e+05                     \n",
        "PATH WTC 2      1                                                 1.237515e+05                     \n",
        "PAVONIA/NEWPORT 1                                                 5.718975e+05                     \n",
        "PELHAM BAY PARK 6                                                 2.649587e+06                     \n",
        "PELHAM PARKWAY  25                                                5.197191e+05                     \n",
        "                5                                                 2.160899e+06                     \n",
        "PENNSYLVANIA AV 3                                                 3.167523e+06                     \n",
        "PRESIDENT ST    25                                                4.138791e+06                     \n",
        "PRINCE ST-B'WAY NR                                                3.437943e+06                     \n",
        "PROSPECT AVE    25                                                8.819268e+05                     \n",
        "                R                                                 4.408555e+06                     \n",
        "PROSPECT PARK   BQS                                               3.734950e+06                     \n",
        "QUEENS PLAZA    EMR                                               1.811542e+06                     \n",
        "QUEENSBORO PLZ  7NQ                                               2.020855e+06                     \n",
        "RALPH AVE       C                                                 3.945596e+06                     \n",
        "RECTOR ST       1                                                 5.969683e+06                     \n",
        "                R                                                 1.340833e+06                     \n",
        "RIT-MANHATTAN   R                                                 1.271189e+04                     \n",
        "RIT-ROOSEVELT   R                                                 7.026972e+04                     \n",
        "ROCKAWAY AVE    3                                                 3.520513e+06                     \n",
        "                C                                                 5.896806e+06                     \n",
        "ROCKAWAY BLVD   A                                                 2.170123e+06                     \n",
        "ROCKAWAY PK 116 AS                                                2.105512e+06                     \n",
        "ROCKAWAY PKY    L                                                 2.138326e+06                     \n",
        "ROOSEVELT AVE   EFMR7                                             4.477301e+06                     \n",
        "ROOSEVELT IS    F                                                 1.914182e+06                     \n",
        "SARATOGA AVE    3                                                 4.638504e+06                     \n",
        "SENECA AVE      M                                                 1.207636e+06                     \n",
        "SHEEPSHEAD BAY  BQ                                                3.653796e+06                     \n",
        "SHEPHERD AVE    C                                                 4.583290e+06                     \n",
        "SIMPSON ST      25                                                9.939638e+05                     \n",
        "SMITH-9 ST      FG                                                1.243906e+06                     \n",
        "SOUTH FERRY     1R                                                1.756813e+06                     \n",
        "SPRING ST       6                                                 5.526388e+06                     \n",
        "                CE                                                1.118803e+07                     \n",
        "ST LAWRENCE AVE 6                                                 1.287297e+06                     \n",
        "ST. GEORGE      1                                                 3.654484e+03                     \n",
        "STEINWAY ST     MR                                                3.548623e+06                     \n",
        "STERLING ST     25                                                4.879790e+06                     \n",
        "STILLWELL AVE   DFNQ                                              1.767733e+06                     \n",
        "SUTPHIN BLVD    EJZ                                               5.267119e+06                     \n",
        "                F                                                 8.749263e+05                     \n",
        "SUTTER AVE      3                                                 4.932495e+06                     \n",
        "                L                                                 9.360939e+06                     \n",
        "THIRTY ST       1                                                 2.565050e+05                     \n",
        "THIRTY THIRD ST 1                                                 3.660704e+05                     \n",
        "TOMPKINSVILLE   1                                                 3.452704e+05                     \n",
        "TREMONT AVE     BD                                                1.164480e+06                     \n",
        "TWENTY THIRD ST 1                                                 1.998016e+05                     \n",
        "UNION ST        R                                                 4.475347e+06                     \n",
        "UNION TPK-KEW G EF                                                3.363232e+06                     \n",
        "UTICA AVE       AC                                                2.322286e+06                     \n",
        "VAN ALSTON-21ST G                                                 1.912553e+06                     \n",
        "VAN SICLEN AVE  3                                                 2.966701e+06                     \n",
        "                C                                                 4.257678e+06                     \n",
        "                JZ                                                3.656277e+06                     \n",
        "VAN WYCK BLVD   EF                                                8.480748e+05                     \n",
        "VERNON/JACKSON  7                                                 1.395153e+06                     \n",
        "W 4 ST-WASH SQ  ABCDEFM                                           6.133831e+06                     \n",
        "W 8 ST-AQUARIUM FQ                                                1.412235e+06                     \n",
        "WAKEFIELD-241   2                                                 2.971474e+06                     \n",
        "WALL ST         23                                                4.561723e+06                     \n",
        "                45                                                1.398686e+06                     \n",
        "WASHINGTON-36 A NQ                                                6.263469e+06                     \n",
        "WESTCHESTER SQ  6                                                 6.500398e+06                     \n",
        "WHITEHALL ST    R1                                                4.942651e+05                     \n",
        "WHITLOCK AVE    6                                                 9.631937e+05                     \n",
        "WILSON AVE      L                                                 3.878722e+06                     \n",
        "WINTHROP ST     25                                                1.252274e+06                     \n",
        "WOODHAVEN BLVD  JZ                                                1.659850e+06                     \n",
        "                MR                                                3.584026e+06                     \n",
        "WOODLAWN ROAD   4                                                 2.092554e+06                     \n",
        "WORLD TRADE CTR ACE23                                             1.641538e+06                     \n",
        "YORK ST         F                                                 8.851567e+06                     "
       ]
      }
     ],
     "prompt_number": 7
    },
    {
     "cell_type": "code",
     "collapsed": false,
     "input": [
      "pd.set_option('display.max_rows', 60)"
     ],
     "language": "python",
     "metadata": {},
     "outputs": [],
     "prompt_number": 8
    },
    {
     "cell_type": "code",
     "collapsed": false,
     "input": [
      "# Function that ensures all iterations of the subway lines will be captured. \n",
      "\n",
      "updated_linename_dict = {'ACJZ2345': '2345ACJZ',\n",
      "                        'ACENQRS1237': '1237ACENQRS',\n",
      "                        'ACENGRS1237': '1237ACENQRS',\n",
      "                        'AC1' : '1AC',\n",
      "                        'JZ456' : '456JZ',\n",
      "                        'BDNQR2345' : '2345BDNQR',\n",
      "                        'ABCD1' : '1ABCD',\n",
      "                        'R2345' : '2345R',\n",
      "                        'LNQR456' : '456LNQR',\n",
      "                        'BD4' : '4BD'}\n",
      "\n",
      "def translate(x):\n",
      "    if x in updated_linename_dict.keys():\n",
      "        return updated_linename_dict[x]\n",
      "    else:\n",
      "        return x"
     ],
     "language": "python",
     "metadata": {},
     "outputs": [],
     "prompt_number": 9
    },
    {
     "cell_type": "code",
     "collapsed": false,
     "input": [
      "daily_turnstile_df['LINENAME'] = daily_turnstile_df['LINENAME'].map(lambda x: translate(x))"
     ],
     "language": "python",
     "metadata": {},
     "outputs": [],
     "prompt_number": 10
    },
    {
     "cell_type": "code",
     "collapsed": false,
     "input": [
      "daily_turnstile_df = daily_turnstile_df.groupby(['C/A', 'UNIT', 'SCP', 'STATION', 'LINENAME', 'TIMESTAMP'])\n",
      "entry_min = daily_turnstile_df.agg({'ENTRIES' : np.min})\n",
      "entry_max = daily_turnstile_df.agg({'ENTRIES' : np.max})\n",
      "daily_turnstile_df = entry_max.combineAdd(-entry_min).reset_index()"
     ],
     "language": "python",
     "metadata": {},
     "outputs": [],
     "prompt_number": 11
    },
    {
     "cell_type": "code",
     "collapsed": false,
     "input": [
      "daily_turnstile_df.sort('ENTRIES', ascending=False)"
     ],
     "language": "python",
     "metadata": {},
     "outputs": [
      {
       "html": [
        "<div style=\"max-height:1000px;max-width:1500px;overflow:auto;\">\n",
        "<table border=\"1\" class=\"dataframe\">\n",
        "  <thead>\n",
        "    <tr style=\"text-align: right;\">\n",
        "      <th></th>\n",
        "      <th>C/A</th>\n",
        "      <th>UNIT</th>\n",
        "      <th>SCP</th>\n",
        "      <th>STATION</th>\n",
        "      <th>LINENAME</th>\n",
        "      <th>TIMESTAMP</th>\n",
        "      <th>ENTRIES</th>\n",
        "    </tr>\n",
        "  </thead>\n",
        "  <tbody>\n",
        "    <tr>\n",
        "      <th>106174</th>\n",
        "      <td>  R304</td>\n",
        "      <td> R206</td>\n",
        "      <td> 00-00-00</td>\n",
        "      <td>          125 ST</td>\n",
        "      <td>          23</td>\n",
        "      <td>2015-01-07</td>\n",
        "      <td> 1684308751</td>\n",
        "    </tr>\n",
        "    <tr>\n",
        "      <th>20079 </th>\n",
        "      <td>  H007</td>\n",
        "      <td> R248</td>\n",
        "      <td> 00-00-01</td>\n",
        "      <td>           1 AVE</td>\n",
        "      <td>           L</td>\n",
        "      <td>2015-01-07</td>\n",
        "      <td>  802138055</td>\n",
        "    </tr>\n",
        "    <tr>\n",
        "      <th>93815 </th>\n",
        "      <td> R205A</td>\n",
        "      <td> R014</td>\n",
        "      <td> 04-02-03</td>\n",
        "      <td>       FULTON ST</td>\n",
        "      <td>    2345ACJZ</td>\n",
        "      <td>2015-01-22</td>\n",
        "      <td>  668490461</td>\n",
        "    </tr>\n",
        "    <tr>\n",
        "      <th>3629  </th>\n",
        "      <td>  A035</td>\n",
        "      <td> R170</td>\n",
        "      <td> 00-00-04</td>\n",
        "      <td>  14 ST-UNION SQ</td>\n",
        "      <td>     456LNQR</td>\n",
        "      <td>2015-01-13</td>\n",
        "      <td>  551486958</td>\n",
        "    </tr>\n",
        "    <tr>\n",
        "      <th>90348 </th>\n",
        "      <td>  R178</td>\n",
        "      <td> R273</td>\n",
        "      <td> 00-00-03</td>\n",
        "      <td>          145 ST</td>\n",
        "      <td>           1</td>\n",
        "      <td>2014-12-30</td>\n",
        "      <td>  534833366</td>\n",
        "    </tr>\n",
        "    <tr>\n",
        "      <th>49501 </th>\n",
        "      <td>  N304</td>\n",
        "      <td> R015</td>\n",
        "      <td> 01-03-01</td>\n",
        "      <td>     5 AVE-53 ST</td>\n",
        "      <td>          EM</td>\n",
        "      <td>2015-01-22</td>\n",
        "      <td>  311466623</td>\n",
        "    </tr>\n",
        "    <tr>\n",
        "      <th>95790 </th>\n",
        "      <td>  R221</td>\n",
        "      <td> R170</td>\n",
        "      <td> 01-05-00</td>\n",
        "      <td>  14 ST-UNION SQ</td>\n",
        "      <td>     456LNQR</td>\n",
        "      <td>2015-01-10</td>\n",
        "      <td>  117441105</td>\n",
        "    </tr>\n",
        "    <tr>\n",
        "      <th>11580 </th>\n",
        "      <td>  B025</td>\n",
        "      <td> R150</td>\n",
        "      <td> 00-05-01</td>\n",
        "      <td>           AVE U</td>\n",
        "      <td>          BQ</td>\n",
        "      <td>2015-01-20</td>\n",
        "      <td>  117178368</td>\n",
        "    </tr>\n",
        "    <tr>\n",
        "      <th>92658 </th>\n",
        "      <td>  R201</td>\n",
        "      <td> R041</td>\n",
        "      <td> 00-05-01</td>\n",
        "      <td>   BOWLING GREEN</td>\n",
        "      <td>          45</td>\n",
        "      <td>2015-01-13</td>\n",
        "      <td>  116981760</td>\n",
        "    </tr>\n",
        "    <tr>\n",
        "      <th>7991  </th>\n",
        "      <td>  A081</td>\n",
        "      <td> R028</td>\n",
        "      <td> 04-00-04</td>\n",
        "      <td>       FULTON ST</td>\n",
        "      <td>    2345ACJZ</td>\n",
        "      <td>2015-01-15</td>\n",
        "      <td>  116928744</td>\n",
        "    </tr>\n",
        "    <tr>\n",
        "      <th>91880 </th>\n",
        "      <td>  R194</td>\n",
        "      <td> R040</td>\n",
        "      <td> 00-06-00</td>\n",
        "      <td>          231 ST</td>\n",
        "      <td>           1</td>\n",
        "      <td>2015-01-19</td>\n",
        "      <td>  100673846</td>\n",
        "    </tr>\n",
        "    <tr>\n",
        "      <th>2841  </th>\n",
        "      <td>  A030</td>\n",
        "      <td> R083</td>\n",
        "      <td> 01-06-01</td>\n",
        "      <td>     23 ST-5 AVE</td>\n",
        "      <td>          NR</td>\n",
        "      <td>2015-01-09</td>\n",
        "      <td>   83049201</td>\n",
        "    </tr>\n",
        "    <tr>\n",
        "      <th>32983 </th>\n",
        "      <td> N062A</td>\n",
        "      <td> R010</td>\n",
        "      <td> 00-05-01</td>\n",
        "      <td> 42 ST-PA BUS TE</td>\n",
        "      <td> 1237ACENQRS</td>\n",
        "      <td>2014-12-29</td>\n",
        "      <td>   60128360</td>\n",
        "    </tr>\n",
        "    <tr>\n",
        "      <th>27172 </th>\n",
        "      <td>  N001</td>\n",
        "      <td> R173</td>\n",
        "      <td> 01-06-02</td>\n",
        "      <td>   INWOOD-207 ST</td>\n",
        "      <td>           A</td>\n",
        "      <td>2015-01-09</td>\n",
        "      <td>   33434488</td>\n",
        "    </tr>\n",
        "    <tr>\n",
        "      <th>91911 </th>\n",
        "      <td>  R194</td>\n",
        "      <td> R040</td>\n",
        "      <td> 00-06-01</td>\n",
        "      <td>          231 ST</td>\n",
        "      <td>           1</td>\n",
        "      <td>2015-01-22</td>\n",
        "      <td>   16776097</td>\n",
        "    </tr>\n",
        "    <tr>\n",
        "      <th>98992 </th>\n",
        "      <td>  R240</td>\n",
        "      <td> R047</td>\n",
        "      <td> 00-03-00</td>\n",
        "      <td> 42 ST-GRD CNTRL</td>\n",
        "      <td>       4567S</td>\n",
        "      <td>2015-01-20</td>\n",
        "      <td>   11698401</td>\n",
        "    </tr>\n",
        "    <tr>\n",
        "      <th>101901</th>\n",
        "      <td>  R249</td>\n",
        "      <td> R179</td>\n",
        "      <td> 01-00-06</td>\n",
        "      <td>           86 ST</td>\n",
        "      <td>         456</td>\n",
        "      <td>2015-01-17</td>\n",
        "      <td>    9961601</td>\n",
        "    </tr>\n",
        "    <tr>\n",
        "      <th>101898</th>\n",
        "      <td>  R249</td>\n",
        "      <td> R179</td>\n",
        "      <td> 01-00-06</td>\n",
        "      <td>           86 ST</td>\n",
        "      <td>         456</td>\n",
        "      <td>2015-01-14</td>\n",
        "      <td>    5111874</td>\n",
        "    </tr>\n",
        "    <tr>\n",
        "      <th>3328  </th>\n",
        "      <td>  A034</td>\n",
        "      <td> R170</td>\n",
        "      <td> 03-00-02</td>\n",
        "      <td>  14 ST-UNION SQ</td>\n",
        "      <td>     456LNQR</td>\n",
        "      <td>2015-01-20</td>\n",
        "      <td>    1313704</td>\n",
        "    </tr>\n",
        "    <tr>\n",
        "      <th>74680 </th>\n",
        "      <td> PTH08</td>\n",
        "      <td> R540</td>\n",
        "      <td> 00-00-00</td>\n",
        "      <td>        PATH WTC</td>\n",
        "      <td>           1</td>\n",
        "      <td>2015-01-09</td>\n",
        "      <td>     806524</td>\n",
        "    </tr>\n",
        "    <tr>\n",
        "      <th>73145 </th>\n",
        "      <td> PTH05</td>\n",
        "      <td> R543</td>\n",
        "      <td> 00-00-03</td>\n",
        "      <td>  EXCHANGE PLACE</td>\n",
        "      <td>           1</td>\n",
        "      <td>2015-01-05</td>\n",
        "      <td>     603840</td>\n",
        "    </tr>\n",
        "    <tr>\n",
        "      <th>126805</th>\n",
        "      <td> S101A</td>\n",
        "      <td> R070</td>\n",
        "      <td> 01-03-02</td>\n",
        "      <td>      ST. GEORGE</td>\n",
        "      <td>           1</td>\n",
        "      <td>2015-01-06</td>\n",
        "      <td>     538428</td>\n",
        "    </tr>\n",
        "    <tr>\n",
        "      <th>11972 </th>\n",
        "      <td>  B028</td>\n",
        "      <td> R136</td>\n",
        "      <td> 01-00-00</td>\n",
        "      <td>  SHEEPSHEAD BAY</td>\n",
        "      <td>          BQ</td>\n",
        "      <td>2015-01-20</td>\n",
        "      <td>     430815</td>\n",
        "    </tr>\n",
        "    <tr>\n",
        "      <th>73106 </th>\n",
        "      <td> PTH05</td>\n",
        "      <td> R543</td>\n",
        "      <td> 00-00-01</td>\n",
        "      <td>  EXCHANGE PLACE</td>\n",
        "      <td>           1</td>\n",
        "      <td>2015-01-22</td>\n",
        "      <td>     426410</td>\n",
        "    </tr>\n",
        "    <tr>\n",
        "      <th>93722 </th>\n",
        "      <td> R205A</td>\n",
        "      <td> R014</td>\n",
        "      <td> 04-02-00</td>\n",
        "      <td>       FULTON ST</td>\n",
        "      <td>    2345ACJZ</td>\n",
        "      <td>2015-01-13</td>\n",
        "      <td>     403673</td>\n",
        "    </tr>\n",
        "    <tr>\n",
        "      <th>73536 </th>\n",
        "      <td> PTH05</td>\n",
        "      <td> R543</td>\n",
        "      <td> 00-04-01</td>\n",
        "      <td>  EXCHANGE PLACE</td>\n",
        "      <td>           1</td>\n",
        "      <td>2015-01-09</td>\n",
        "      <td>     402458</td>\n",
        "    </tr>\n",
        "    <tr>\n",
        "      <th>93434 </th>\n",
        "      <td>  R204</td>\n",
        "      <td> R043</td>\n",
        "      <td> 02-03-02</td>\n",
        "      <td>         WALL ST</td>\n",
        "      <td>          45</td>\n",
        "      <td>2015-01-05</td>\n",
        "      <td>     242560</td>\n",
        "    </tr>\n",
        "    <tr>\n",
        "      <th>2445  </th>\n",
        "      <td>  A027</td>\n",
        "      <td> R082</td>\n",
        "      <td> 01-03-01</td>\n",
        "      <td>  28 ST-BROADWAY</td>\n",
        "      <td>          NR</td>\n",
        "      <td>2015-01-05</td>\n",
        "      <td>     198239</td>\n",
        "    </tr>\n",
        "    <tr>\n",
        "      <th>73977 </th>\n",
        "      <td> PTH06</td>\n",
        "      <td> R546</td>\n",
        "      <td> 00-00-07</td>\n",
        "      <td> PAVONIA/NEWPORT</td>\n",
        "      <td>           1</td>\n",
        "      <td>2015-01-06</td>\n",
        "      <td>     166608</td>\n",
        "    </tr>\n",
        "    <tr>\n",
        "      <th>75394 </th>\n",
        "      <td> PTH08</td>\n",
        "      <td> R540</td>\n",
        "      <td> 00-04-09</td>\n",
        "      <td>        PATH WTC</td>\n",
        "      <td>           1</td>\n",
        "      <td>2015-01-06</td>\n",
        "      <td>     137609</td>\n",
        "    </tr>\n",
        "    <tr>\n",
        "      <th>...</th>\n",
        "      <td>...</td>\n",
        "      <td>...</td>\n",
        "      <td>...</td>\n",
        "      <td>...</td>\n",
        "      <td>...</td>\n",
        "      <td>...</td>\n",
        "      <td>...</td>\n",
        "    </tr>\n",
        "    <tr>\n",
        "      <th>41798 </th>\n",
        "      <td> N120A</td>\n",
        "      <td> R153</td>\n",
        "      <td> 01-05-01</td>\n",
        "      <td>       UTICA AVE</td>\n",
        "      <td>          AC</td>\n",
        "      <td>2015-01-11</td>\n",
        "      <td>          0</td>\n",
        "    </tr>\n",
        "    <tr>\n",
        "      <th>41808 </th>\n",
        "      <td> N120A</td>\n",
        "      <td> R153</td>\n",
        "      <td> 01-05-01</td>\n",
        "      <td>       UTICA AVE</td>\n",
        "      <td>          AC</td>\n",
        "      <td>2015-01-21</td>\n",
        "      <td>          0</td>\n",
        "    </tr>\n",
        "    <tr>\n",
        "      <th>41797 </th>\n",
        "      <td> N120A</td>\n",
        "      <td> R153</td>\n",
        "      <td> 01-05-01</td>\n",
        "      <td>       UTICA AVE</td>\n",
        "      <td>          AC</td>\n",
        "      <td>2015-01-10</td>\n",
        "      <td>          0</td>\n",
        "    </tr>\n",
        "    <tr>\n",
        "      <th>41796 </th>\n",
        "      <td> N120A</td>\n",
        "      <td> R153</td>\n",
        "      <td> 01-05-01</td>\n",
        "      <td>       UTICA AVE</td>\n",
        "      <td>          AC</td>\n",
        "      <td>2015-01-09</td>\n",
        "      <td>          0</td>\n",
        "    </tr>\n",
        "    <tr>\n",
        "      <th>41795 </th>\n",
        "      <td> N120A</td>\n",
        "      <td> R153</td>\n",
        "      <td> 01-05-01</td>\n",
        "      <td>       UTICA AVE</td>\n",
        "      <td>          AC</td>\n",
        "      <td>2015-01-08</td>\n",
        "      <td>          0</td>\n",
        "    </tr>\n",
        "    <tr>\n",
        "      <th>41794 </th>\n",
        "      <td> N120A</td>\n",
        "      <td> R153</td>\n",
        "      <td> 01-05-01</td>\n",
        "      <td>       UTICA AVE</td>\n",
        "      <td>          AC</td>\n",
        "      <td>2015-01-07</td>\n",
        "      <td>          0</td>\n",
        "    </tr>\n",
        "    <tr>\n",
        "      <th>41793 </th>\n",
        "      <td> N120A</td>\n",
        "      <td> R153</td>\n",
        "      <td> 01-05-01</td>\n",
        "      <td>       UTICA AVE</td>\n",
        "      <td>          AC</td>\n",
        "      <td>2015-01-06</td>\n",
        "      <td>          0</td>\n",
        "    </tr>\n",
        "    <tr>\n",
        "      <th>41792 </th>\n",
        "      <td> N120A</td>\n",
        "      <td> R153</td>\n",
        "      <td> 01-05-01</td>\n",
        "      <td>       UTICA AVE</td>\n",
        "      <td>          AC</td>\n",
        "      <td>2015-01-05</td>\n",
        "      <td>          0</td>\n",
        "    </tr>\n",
        "    <tr>\n",
        "      <th>41791 </th>\n",
        "      <td> N120A</td>\n",
        "      <td> R153</td>\n",
        "      <td> 01-05-01</td>\n",
        "      <td>       UTICA AVE</td>\n",
        "      <td>          AC</td>\n",
        "      <td>2015-01-04</td>\n",
        "      <td>          0</td>\n",
        "    </tr>\n",
        "    <tr>\n",
        "      <th>41807 </th>\n",
        "      <td> N120A</td>\n",
        "      <td> R153</td>\n",
        "      <td> 01-05-01</td>\n",
        "      <td>       UTICA AVE</td>\n",
        "      <td>          AC</td>\n",
        "      <td>2015-01-20</td>\n",
        "      <td>          0</td>\n",
        "    </tr>\n",
        "    <tr>\n",
        "      <th>41809 </th>\n",
        "      <td> N120A</td>\n",
        "      <td> R153</td>\n",
        "      <td> 01-05-01</td>\n",
        "      <td>       UTICA AVE</td>\n",
        "      <td>          AC</td>\n",
        "      <td>2015-01-22</td>\n",
        "      <td>          0</td>\n",
        "    </tr>\n",
        "    <tr>\n",
        "      <th>64481 </th>\n",
        "      <td> N519A</td>\n",
        "      <td> R461</td>\n",
        "      <td> 01-05-03</td>\n",
        "      <td>  BROADWAY/LAFAY</td>\n",
        "      <td>       BDFQ6</td>\n",
        "      <td>2015-01-14</td>\n",
        "      <td>          0</td>\n",
        "    </tr>\n",
        "    <tr>\n",
        "      <th>64489 </th>\n",
        "      <td> N519A</td>\n",
        "      <td> R461</td>\n",
        "      <td> 01-05-03</td>\n",
        "      <td>  BROADWAY/LAFAY</td>\n",
        "      <td>       BDFQ6</td>\n",
        "      <td>2015-01-22</td>\n",
        "      <td>          0</td>\n",
        "    </tr>\n",
        "    <tr>\n",
        "      <th>64482 </th>\n",
        "      <td> N519A</td>\n",
        "      <td> R461</td>\n",
        "      <td> 01-05-03</td>\n",
        "      <td>  BROADWAY/LAFAY</td>\n",
        "      <td>       BDFQ6</td>\n",
        "      <td>2015-01-15</td>\n",
        "      <td>          0</td>\n",
        "    </tr>\n",
        "    <tr>\n",
        "      <th>64483 </th>\n",
        "      <td> N519A</td>\n",
        "      <td> R461</td>\n",
        "      <td> 01-05-03</td>\n",
        "      <td>  BROADWAY/LAFAY</td>\n",
        "      <td>       BDFQ6</td>\n",
        "      <td>2015-01-16</td>\n",
        "      <td>          0</td>\n",
        "    </tr>\n",
        "    <tr>\n",
        "      <th>64484 </th>\n",
        "      <td> N519A</td>\n",
        "      <td> R461</td>\n",
        "      <td> 01-05-03</td>\n",
        "      <td>  BROADWAY/LAFAY</td>\n",
        "      <td>       BDFQ6</td>\n",
        "      <td>2015-01-17</td>\n",
        "      <td>          0</td>\n",
        "    </tr>\n",
        "    <tr>\n",
        "      <th>64485 </th>\n",
        "      <td> N519A</td>\n",
        "      <td> R461</td>\n",
        "      <td> 01-05-03</td>\n",
        "      <td>  BROADWAY/LAFAY</td>\n",
        "      <td>       BDFQ6</td>\n",
        "      <td>2015-01-18</td>\n",
        "      <td>          0</td>\n",
        "    </tr>\n",
        "    <tr>\n",
        "      <th>64486 </th>\n",
        "      <td> N519A</td>\n",
        "      <td> R461</td>\n",
        "      <td> 01-05-03</td>\n",
        "      <td>  BROADWAY/LAFAY</td>\n",
        "      <td>       BDFQ6</td>\n",
        "      <td>2015-01-19</td>\n",
        "      <td>          0</td>\n",
        "    </tr>\n",
        "    <tr>\n",
        "      <th>64487 </th>\n",
        "      <td> N519A</td>\n",
        "      <td> R461</td>\n",
        "      <td> 01-05-03</td>\n",
        "      <td>  BROADWAY/LAFAY</td>\n",
        "      <td>       BDFQ6</td>\n",
        "      <td>2015-01-20</td>\n",
        "      <td>          0</td>\n",
        "    </tr>\n",
        "    <tr>\n",
        "      <th>64488 </th>\n",
        "      <td> N519A</td>\n",
        "      <td> R461</td>\n",
        "      <td> 01-05-03</td>\n",
        "      <td>  BROADWAY/LAFAY</td>\n",
        "      <td>       BDFQ6</td>\n",
        "      <td>2015-01-21</td>\n",
        "      <td>          0</td>\n",
        "    </tr>\n",
        "    <tr>\n",
        "      <th>64490 </th>\n",
        "      <td> N519A</td>\n",
        "      <td> R461</td>\n",
        "      <td> 01-05-03</td>\n",
        "      <td>  BROADWAY/LAFAY</td>\n",
        "      <td>       BDFQ6</td>\n",
        "      <td>2015-01-23</td>\n",
        "      <td>          0</td>\n",
        "    </tr>\n",
        "    <tr>\n",
        "      <th>41810 </th>\n",
        "      <td> N120A</td>\n",
        "      <td> R153</td>\n",
        "      <td> 01-05-01</td>\n",
        "      <td>       UTICA AVE</td>\n",
        "      <td>          AC</td>\n",
        "      <td>2015-01-23</td>\n",
        "      <td>          0</td>\n",
        "    </tr>\n",
        "    <tr>\n",
        "      <th>42041 </th>\n",
        "      <td> N123B</td>\n",
        "      <td> R439</td>\n",
        "      <td> 01-05-00</td>\n",
        "      <td>    ROCKAWAY AVE</td>\n",
        "      <td>           C</td>\n",
        "      <td>2015-01-02</td>\n",
        "      <td>          0</td>\n",
        "    </tr>\n",
        "    <tr>\n",
        "      <th>42040 </th>\n",
        "      <td> N123B</td>\n",
        "      <td> R439</td>\n",
        "      <td> 01-05-00</td>\n",
        "      <td>    ROCKAWAY AVE</td>\n",
        "      <td>           C</td>\n",
        "      <td>2015-01-01</td>\n",
        "      <td>          0</td>\n",
        "    </tr>\n",
        "    <tr>\n",
        "      <th>42039 </th>\n",
        "      <td> N123B</td>\n",
        "      <td> R439</td>\n",
        "      <td> 01-05-00</td>\n",
        "      <td>    ROCKAWAY AVE</td>\n",
        "      <td>           C</td>\n",
        "      <td>2014-12-31</td>\n",
        "      <td>          0</td>\n",
        "    </tr>\n",
        "    <tr>\n",
        "      <th>42038 </th>\n",
        "      <td> N123B</td>\n",
        "      <td> R439</td>\n",
        "      <td> 01-05-00</td>\n",
        "      <td>    ROCKAWAY AVE</td>\n",
        "      <td>           C</td>\n",
        "      <td>2014-12-30</td>\n",
        "      <td>          0</td>\n",
        "    </tr>\n",
        "    <tr>\n",
        "      <th>42037 </th>\n",
        "      <td> N123B</td>\n",
        "      <td> R439</td>\n",
        "      <td> 01-05-00</td>\n",
        "      <td>    ROCKAWAY AVE</td>\n",
        "      <td>           C</td>\n",
        "      <td>2014-12-29</td>\n",
        "      <td>          0</td>\n",
        "    </tr>\n",
        "    <tr>\n",
        "      <th>42036 </th>\n",
        "      <td> N123B</td>\n",
        "      <td> R439</td>\n",
        "      <td> 01-05-00</td>\n",
        "      <td>    ROCKAWAY AVE</td>\n",
        "      <td>           C</td>\n",
        "      <td>2014-12-28</td>\n",
        "      <td>          0</td>\n",
        "    </tr>\n",
        "    <tr>\n",
        "      <th>42035 </th>\n",
        "      <td> N123B</td>\n",
        "      <td> R439</td>\n",
        "      <td> 01-05-00</td>\n",
        "      <td>    ROCKAWAY AVE</td>\n",
        "      <td>           C</td>\n",
        "      <td>2014-12-27</td>\n",
        "      <td>          0</td>\n",
        "    </tr>\n",
        "    <tr>\n",
        "      <th>127382</th>\n",
        "      <td> TRAM2</td>\n",
        "      <td> R469</td>\n",
        "      <td> 00-05-01</td>\n",
        "      <td>   RIT-ROOSEVELT</td>\n",
        "      <td>           R</td>\n",
        "      <td>2015-01-23</td>\n",
        "      <td>          0</td>\n",
        "    </tr>\n",
        "  </tbody>\n",
        "</table>\n",
        "<p>127383 rows \u00d7 7 columns</p>\n",
        "</div>"
       ],
       "metadata": {},
       "output_type": "pyout",
       "prompt_number": 12,
       "text": [
        "          C/A  UNIT       SCP          STATION     LINENAME  TIMESTAMP  \\\n",
        "106174   R304  R206  00-00-00           125 ST           23 2015-01-07   \n",
        "20079    H007  R248  00-00-01            1 AVE            L 2015-01-07   \n",
        "93815   R205A  R014  04-02-03        FULTON ST     2345ACJZ 2015-01-22   \n",
        "3629     A035  R170  00-00-04   14 ST-UNION SQ      456LNQR 2015-01-13   \n",
        "90348    R178  R273  00-00-03           145 ST            1 2014-12-30   \n",
        "49501    N304  R015  01-03-01      5 AVE-53 ST           EM 2015-01-22   \n",
        "95790    R221  R170  01-05-00   14 ST-UNION SQ      456LNQR 2015-01-10   \n",
        "11580    B025  R150  00-05-01            AVE U           BQ 2015-01-20   \n",
        "92658    R201  R041  00-05-01    BOWLING GREEN           45 2015-01-13   \n",
        "7991     A081  R028  04-00-04        FULTON ST     2345ACJZ 2015-01-15   \n",
        "91880    R194  R040  00-06-00           231 ST            1 2015-01-19   \n",
        "2841     A030  R083  01-06-01      23 ST-5 AVE           NR 2015-01-09   \n",
        "32983   N062A  R010  00-05-01  42 ST-PA BUS TE  1237ACENQRS 2014-12-29   \n",
        "27172    N001  R173  01-06-02    INWOOD-207 ST            A 2015-01-09   \n",
        "91911    R194  R040  00-06-01           231 ST            1 2015-01-22   \n",
        "98992    R240  R047  00-03-00  42 ST-GRD CNTRL        4567S 2015-01-20   \n",
        "101901   R249  R179  01-00-06            86 ST          456 2015-01-17   \n",
        "101898   R249  R179  01-00-06            86 ST          456 2015-01-14   \n",
        "3328     A034  R170  03-00-02   14 ST-UNION SQ      456LNQR 2015-01-20   \n",
        "74680   PTH08  R540  00-00-00         PATH WTC            1 2015-01-09   \n",
        "73145   PTH05  R543  00-00-03   EXCHANGE PLACE            1 2015-01-05   \n",
        "126805  S101A  R070  01-03-02       ST. GEORGE            1 2015-01-06   \n",
        "11972    B028  R136  01-00-00   SHEEPSHEAD BAY           BQ 2015-01-20   \n",
        "73106   PTH05  R543  00-00-01   EXCHANGE PLACE            1 2015-01-22   \n",
        "93722   R205A  R014  04-02-00        FULTON ST     2345ACJZ 2015-01-13   \n",
        "73536   PTH05  R543  00-04-01   EXCHANGE PLACE            1 2015-01-09   \n",
        "93434    R204  R043  02-03-02          WALL ST           45 2015-01-05   \n",
        "2445     A027  R082  01-03-01   28 ST-BROADWAY           NR 2015-01-05   \n",
        "73977   PTH06  R546  00-00-07  PAVONIA/NEWPORT            1 2015-01-06   \n",
        "75394   PTH08  R540  00-04-09         PATH WTC            1 2015-01-06   \n",
        "...       ...   ...       ...              ...          ...        ...   \n",
        "41798   N120A  R153  01-05-01        UTICA AVE           AC 2015-01-11   \n",
        "41808   N120A  R153  01-05-01        UTICA AVE           AC 2015-01-21   \n",
        "41797   N120A  R153  01-05-01        UTICA AVE           AC 2015-01-10   \n",
        "41796   N120A  R153  01-05-01        UTICA AVE           AC 2015-01-09   \n",
        "41795   N120A  R153  01-05-01        UTICA AVE           AC 2015-01-08   \n",
        "41794   N120A  R153  01-05-01        UTICA AVE           AC 2015-01-07   \n",
        "41793   N120A  R153  01-05-01        UTICA AVE           AC 2015-01-06   \n",
        "41792   N120A  R153  01-05-01        UTICA AVE           AC 2015-01-05   \n",
        "41791   N120A  R153  01-05-01        UTICA AVE           AC 2015-01-04   \n",
        "41807   N120A  R153  01-05-01        UTICA AVE           AC 2015-01-20   \n",
        "41809   N120A  R153  01-05-01        UTICA AVE           AC 2015-01-22   \n",
        "64481   N519A  R461  01-05-03   BROADWAY/LAFAY        BDFQ6 2015-01-14   \n",
        "64489   N519A  R461  01-05-03   BROADWAY/LAFAY        BDFQ6 2015-01-22   \n",
        "64482   N519A  R461  01-05-03   BROADWAY/LAFAY        BDFQ6 2015-01-15   \n",
        "64483   N519A  R461  01-05-03   BROADWAY/LAFAY        BDFQ6 2015-01-16   \n",
        "64484   N519A  R461  01-05-03   BROADWAY/LAFAY        BDFQ6 2015-01-17   \n",
        "64485   N519A  R461  01-05-03   BROADWAY/LAFAY        BDFQ6 2015-01-18   \n",
        "64486   N519A  R461  01-05-03   BROADWAY/LAFAY        BDFQ6 2015-01-19   \n",
        "64487   N519A  R461  01-05-03   BROADWAY/LAFAY        BDFQ6 2015-01-20   \n",
        "64488   N519A  R461  01-05-03   BROADWAY/LAFAY        BDFQ6 2015-01-21   \n",
        "64490   N519A  R461  01-05-03   BROADWAY/LAFAY        BDFQ6 2015-01-23   \n",
        "41810   N120A  R153  01-05-01        UTICA AVE           AC 2015-01-23   \n",
        "42041   N123B  R439  01-05-00     ROCKAWAY AVE            C 2015-01-02   \n",
        "42040   N123B  R439  01-05-00     ROCKAWAY AVE            C 2015-01-01   \n",
        "42039   N123B  R439  01-05-00     ROCKAWAY AVE            C 2014-12-31   \n",
        "42038   N123B  R439  01-05-00     ROCKAWAY AVE            C 2014-12-30   \n",
        "42037   N123B  R439  01-05-00     ROCKAWAY AVE            C 2014-12-29   \n",
        "42036   N123B  R439  01-05-00     ROCKAWAY AVE            C 2014-12-28   \n",
        "42035   N123B  R439  01-05-00     ROCKAWAY AVE            C 2014-12-27   \n",
        "127382  TRAM2  R469  00-05-01    RIT-ROOSEVELT            R 2015-01-23   \n",
        "\n",
        "           ENTRIES  \n",
        "106174  1684308751  \n",
        "20079    802138055  \n",
        "93815    668490461  \n",
        "3629     551486958  \n",
        "90348    534833366  \n",
        "49501    311466623  \n",
        "95790    117441105  \n",
        "11580    117178368  \n",
        "92658    116981760  \n",
        "7991     116928744  \n",
        "91880    100673846  \n",
        "2841      83049201  \n",
        "32983     60128360  \n",
        "27172     33434488  \n",
        "91911     16776097  \n",
        "98992     11698401  \n",
        "101901     9961601  \n",
        "101898     5111874  \n",
        "3328       1313704  \n",
        "74680       806524  \n",
        "73145       603840  \n",
        "126805      538428  \n",
        "11972       430815  \n",
        "73106       426410  \n",
        "93722       403673  \n",
        "73536       402458  \n",
        "93434       242560  \n",
        "2445        198239  \n",
        "73977       166608  \n",
        "75394       137609  \n",
        "...            ...  \n",
        "41798            0  \n",
        "41808            0  \n",
        "41797            0  \n",
        "41796            0  \n",
        "41795            0  \n",
        "41794            0  \n",
        "41793            0  \n",
        "41792            0  \n",
        "41791            0  \n",
        "41807            0  \n",
        "41809            0  \n",
        "64481            0  \n",
        "64489            0  \n",
        "64482            0  \n",
        "64483            0  \n",
        "64484            0  \n",
        "64485            0  \n",
        "64486            0  \n",
        "64487            0  \n",
        "64488            0  \n",
        "64490            0  \n",
        "41810            0  \n",
        "42041            0  \n",
        "42040            0  \n",
        "42039            0  \n",
        "42038            0  \n",
        "42037            0  \n",
        "42036            0  \n",
        "42035            0  \n",
        "127382           0  \n",
        "\n",
        "[127383 rows x 7 columns]"
       ]
      }
     ],
     "prompt_number": 12
    },
    {
     "cell_type": "code",
     "collapsed": false,
     "input": [
      "# remove outliers - keep entries that are within +/-3 standard deviations \n",
      "daily_turnstile_df = daily_turnstile_df[np.abs(daily_turnstile_df['ENTRIES'] - daily_turnstile_df['ENTRIES'].mean()) \n",
      "                                        <= (3*daily_turnstile_df['ENTRIES'].std())] "
     ],
     "language": "python",
     "metadata": {},
     "outputs": [],
     "prompt_number": 13
    },
    {
     "cell_type": "code",
     "collapsed": false,
     "input": [
      "len(daily_turnstile_df)"
     ],
     "language": "python",
     "metadata": {},
     "outputs": [
      {
       "metadata": {},
       "output_type": "pyout",
       "prompt_number": 14,
       "text": [
        "127369"
       ]
      }
     ],
     "prompt_number": 14
    },
    {
     "cell_type": "markdown",
     "metadata": {},
     "source": [
      "### Plot data for a single turnstile at Lexington Ave Station (NQR456)"
     ]
    },
    {
     "cell_type": "code",
     "collapsed": false,
     "input": [
      "lexington_turnstile_df = daily_turnstile_df[(daily_turnstile_df['SCP']=='02-00-00') & \n",
      "                                            (daily_turnstile_df['STATION']=='LEXINGTON AVE')]\n",
      "lexington_turnstile_df"
     ],
     "language": "python",
     "metadata": {},
     "outputs": [
      {
       "html": [
        "<div style=\"max-height:1000px;max-width:1500px;overflow:auto;\">\n",
        "<table border=\"1\" class=\"dataframe\">\n",
        "  <thead>\n",
        "    <tr style=\"text-align: right;\">\n",
        "      <th></th>\n",
        "      <th>C/A</th>\n",
        "      <th>UNIT</th>\n",
        "      <th>SCP</th>\n",
        "      <th>STATION</th>\n",
        "      <th>LINENAME</th>\n",
        "      <th>TIMESTAMP</th>\n",
        "      <th>ENTRIES</th>\n",
        "    </tr>\n",
        "  </thead>\n",
        "  <tbody>\n",
        "    <tr>\n",
        "      <th>0 </th>\n",
        "      <td> A002</td>\n",
        "      <td> R051</td>\n",
        "      <td> 02-00-00</td>\n",
        "      <td> LEXINGTON AVE</td>\n",
        "      <td> NQR456</td>\n",
        "      <td>2014-12-27</td>\n",
        "      <td>  983</td>\n",
        "    </tr>\n",
        "    <tr>\n",
        "      <th>1 </th>\n",
        "      <td> A002</td>\n",
        "      <td> R051</td>\n",
        "      <td> 02-00-00</td>\n",
        "      <td> LEXINGTON AVE</td>\n",
        "      <td> NQR456</td>\n",
        "      <td>2014-12-28</td>\n",
        "      <td>  633</td>\n",
        "    </tr>\n",
        "    <tr>\n",
        "      <th>2 </th>\n",
        "      <td> A002</td>\n",
        "      <td> R051</td>\n",
        "      <td> 02-00-00</td>\n",
        "      <td> LEXINGTON AVE</td>\n",
        "      <td> NQR456</td>\n",
        "      <td>2014-12-29</td>\n",
        "      <td> 1605</td>\n",
        "    </tr>\n",
        "    <tr>\n",
        "      <th>3 </th>\n",
        "      <td> A002</td>\n",
        "      <td> R051</td>\n",
        "      <td> 02-00-00</td>\n",
        "      <td> LEXINGTON AVE</td>\n",
        "      <td> NQR456</td>\n",
        "      <td>2014-12-30</td>\n",
        "      <td> 1617</td>\n",
        "    </tr>\n",
        "    <tr>\n",
        "      <th>4 </th>\n",
        "      <td> A002</td>\n",
        "      <td> R051</td>\n",
        "      <td> 02-00-00</td>\n",
        "      <td> LEXINGTON AVE</td>\n",
        "      <td> NQR456</td>\n",
        "      <td>2014-12-31</td>\n",
        "      <td> 1428</td>\n",
        "    </tr>\n",
        "    <tr>\n",
        "      <th>5 </th>\n",
        "      <td> A002</td>\n",
        "      <td> R051</td>\n",
        "      <td> 02-00-00</td>\n",
        "      <td> LEXINGTON AVE</td>\n",
        "      <td> NQR456</td>\n",
        "      <td>2015-01-01</td>\n",
        "      <td>  574</td>\n",
        "    </tr>\n",
        "    <tr>\n",
        "      <th>6 </th>\n",
        "      <td> A002</td>\n",
        "      <td> R051</td>\n",
        "      <td> 02-00-00</td>\n",
        "      <td> LEXINGTON AVE</td>\n",
        "      <td> NQR456</td>\n",
        "      <td>2015-01-02</td>\n",
        "      <td> 1409</td>\n",
        "    </tr>\n",
        "    <tr>\n",
        "      <th>7 </th>\n",
        "      <td> A002</td>\n",
        "      <td> R051</td>\n",
        "      <td> 02-00-00</td>\n",
        "      <td> LEXINGTON AVE</td>\n",
        "      <td> NQR456</td>\n",
        "      <td>2015-01-03</td>\n",
        "      <td>  726</td>\n",
        "    </tr>\n",
        "    <tr>\n",
        "      <th>8 </th>\n",
        "      <td> A002</td>\n",
        "      <td> R051</td>\n",
        "      <td> 02-00-00</td>\n",
        "      <td> LEXINGTON AVE</td>\n",
        "      <td> NQR456</td>\n",
        "      <td>2015-01-04</td>\n",
        "      <td>  251</td>\n",
        "    </tr>\n",
        "    <tr>\n",
        "      <th>9 </th>\n",
        "      <td> A002</td>\n",
        "      <td> R051</td>\n",
        "      <td> 02-00-00</td>\n",
        "      <td> LEXINGTON AVE</td>\n",
        "      <td> NQR456</td>\n",
        "      <td>2015-01-05</td>\n",
        "      <td> 1836</td>\n",
        "    </tr>\n",
        "    <tr>\n",
        "      <th>10</th>\n",
        "      <td> A002</td>\n",
        "      <td> R051</td>\n",
        "      <td> 02-00-00</td>\n",
        "      <td> LEXINGTON AVE</td>\n",
        "      <td> NQR456</td>\n",
        "      <td>2015-01-06</td>\n",
        "      <td> 1706</td>\n",
        "    </tr>\n",
        "    <tr>\n",
        "      <th>11</th>\n",
        "      <td> A002</td>\n",
        "      <td> R051</td>\n",
        "      <td> 02-00-00</td>\n",
        "      <td> LEXINGTON AVE</td>\n",
        "      <td> NQR456</td>\n",
        "      <td>2015-01-07</td>\n",
        "      <td> 1766</td>\n",
        "    </tr>\n",
        "    <tr>\n",
        "      <th>12</th>\n",
        "      <td> A002</td>\n",
        "      <td> R051</td>\n",
        "      <td> 02-00-00</td>\n",
        "      <td> LEXINGTON AVE</td>\n",
        "      <td> NQR456</td>\n",
        "      <td>2015-01-08</td>\n",
        "      <td> 1650</td>\n",
        "    </tr>\n",
        "    <tr>\n",
        "      <th>13</th>\n",
        "      <td> A002</td>\n",
        "      <td> R051</td>\n",
        "      <td> 02-00-00</td>\n",
        "      <td> LEXINGTON AVE</td>\n",
        "      <td> NQR456</td>\n",
        "      <td>2015-01-09</td>\n",
        "      <td> 1695</td>\n",
        "    </tr>\n",
        "    <tr>\n",
        "      <th>14</th>\n",
        "      <td> A002</td>\n",
        "      <td> R051</td>\n",
        "      <td> 02-00-00</td>\n",
        "      <td> LEXINGTON AVE</td>\n",
        "      <td> NQR456</td>\n",
        "      <td>2015-01-10</td>\n",
        "      <td>  578</td>\n",
        "    </tr>\n",
        "    <tr>\n",
        "      <th>15</th>\n",
        "      <td> A002</td>\n",
        "      <td> R051</td>\n",
        "      <td> 02-00-00</td>\n",
        "      <td> LEXINGTON AVE</td>\n",
        "      <td> NQR456</td>\n",
        "      <td>2015-01-11</td>\n",
        "      <td>  462</td>\n",
        "    </tr>\n",
        "    <tr>\n",
        "      <th>16</th>\n",
        "      <td> A002</td>\n",
        "      <td> R051</td>\n",
        "      <td> 02-00-00</td>\n",
        "      <td> LEXINGTON AVE</td>\n",
        "      <td> NQR456</td>\n",
        "      <td>2015-01-12</td>\n",
        "      <td> 1878</td>\n",
        "    </tr>\n",
        "    <tr>\n",
        "      <th>17</th>\n",
        "      <td> A002</td>\n",
        "      <td> R051</td>\n",
        "      <td> 02-00-00</td>\n",
        "      <td> LEXINGTON AVE</td>\n",
        "      <td> NQR456</td>\n",
        "      <td>2015-01-13</td>\n",
        "      <td> 1703</td>\n",
        "    </tr>\n",
        "    <tr>\n",
        "      <th>18</th>\n",
        "      <td> A002</td>\n",
        "      <td> R051</td>\n",
        "      <td> 02-00-00</td>\n",
        "      <td> LEXINGTON AVE</td>\n",
        "      <td> NQR456</td>\n",
        "      <td>2015-01-14</td>\n",
        "      <td> 1235</td>\n",
        "    </tr>\n",
        "    <tr>\n",
        "      <th>19</th>\n",
        "      <td> A002</td>\n",
        "      <td> R051</td>\n",
        "      <td> 02-00-00</td>\n",
        "      <td> LEXINGTON AVE</td>\n",
        "      <td> NQR456</td>\n",
        "      <td>2015-01-15</td>\n",
        "      <td> 1612</td>\n",
        "    </tr>\n",
        "    <tr>\n",
        "      <th>20</th>\n",
        "      <td> A002</td>\n",
        "      <td> R051</td>\n",
        "      <td> 02-00-00</td>\n",
        "      <td> LEXINGTON AVE</td>\n",
        "      <td> NQR456</td>\n",
        "      <td>2015-01-16</td>\n",
        "      <td> 1753</td>\n",
        "    </tr>\n",
        "    <tr>\n",
        "      <th>21</th>\n",
        "      <td> A002</td>\n",
        "      <td> R051</td>\n",
        "      <td> 02-00-00</td>\n",
        "      <td> LEXINGTON AVE</td>\n",
        "      <td> NQR456</td>\n",
        "      <td>2015-01-17</td>\n",
        "      <td> 1024</td>\n",
        "    </tr>\n",
        "    <tr>\n",
        "      <th>22</th>\n",
        "      <td> A002</td>\n",
        "      <td> R051</td>\n",
        "      <td> 02-00-00</td>\n",
        "      <td> LEXINGTON AVE</td>\n",
        "      <td> NQR456</td>\n",
        "      <td>2015-01-18</td>\n",
        "      <td>  593</td>\n",
        "    </tr>\n",
        "    <tr>\n",
        "      <th>23</th>\n",
        "      <td> A002</td>\n",
        "      <td> R051</td>\n",
        "      <td> 02-00-00</td>\n",
        "      <td> LEXINGTON AVE</td>\n",
        "      <td> NQR456</td>\n",
        "      <td>2015-01-19</td>\n",
        "      <td> 1223</td>\n",
        "    </tr>\n",
        "    <tr>\n",
        "      <th>24</th>\n",
        "      <td> A002</td>\n",
        "      <td> R051</td>\n",
        "      <td> 02-00-00</td>\n",
        "      <td> LEXINGTON AVE</td>\n",
        "      <td> NQR456</td>\n",
        "      <td>2015-01-20</td>\n",
        "      <td> 1624</td>\n",
        "    </tr>\n",
        "    <tr>\n",
        "      <th>25</th>\n",
        "      <td> A002</td>\n",
        "      <td> R051</td>\n",
        "      <td> 02-00-00</td>\n",
        "      <td> LEXINGTON AVE</td>\n",
        "      <td> NQR456</td>\n",
        "      <td>2015-01-21</td>\n",
        "      <td> 1670</td>\n",
        "    </tr>\n",
        "    <tr>\n",
        "      <th>26</th>\n",
        "      <td> A002</td>\n",
        "      <td> R051</td>\n",
        "      <td> 02-00-00</td>\n",
        "      <td> LEXINGTON AVE</td>\n",
        "      <td> NQR456</td>\n",
        "      <td>2015-01-22</td>\n",
        "      <td> 1619</td>\n",
        "    </tr>\n",
        "    <tr>\n",
        "      <th>27</th>\n",
        "      <td> A002</td>\n",
        "      <td> R051</td>\n",
        "      <td> 02-00-00</td>\n",
        "      <td> LEXINGTON AVE</td>\n",
        "      <td> NQR456</td>\n",
        "      <td>2015-01-23</td>\n",
        "      <td> 1648</td>\n",
        "    </tr>\n",
        "  </tbody>\n",
        "</table>\n",
        "</div>"
       ],
       "metadata": {},
       "output_type": "pyout",
       "prompt_number": 15,
       "text": [
        "     C/A  UNIT       SCP        STATION LINENAME  TIMESTAMP  ENTRIES\n",
        "0   A002  R051  02-00-00  LEXINGTON AVE   NQR456 2014-12-27      983\n",
        "1   A002  R051  02-00-00  LEXINGTON AVE   NQR456 2014-12-28      633\n",
        "2   A002  R051  02-00-00  LEXINGTON AVE   NQR456 2014-12-29     1605\n",
        "3   A002  R051  02-00-00  LEXINGTON AVE   NQR456 2014-12-30     1617\n",
        "4   A002  R051  02-00-00  LEXINGTON AVE   NQR456 2014-12-31     1428\n",
        "5   A002  R051  02-00-00  LEXINGTON AVE   NQR456 2015-01-01      574\n",
        "6   A002  R051  02-00-00  LEXINGTON AVE   NQR456 2015-01-02     1409\n",
        "7   A002  R051  02-00-00  LEXINGTON AVE   NQR456 2015-01-03      726\n",
        "8   A002  R051  02-00-00  LEXINGTON AVE   NQR456 2015-01-04      251\n",
        "9   A002  R051  02-00-00  LEXINGTON AVE   NQR456 2015-01-05     1836\n",
        "10  A002  R051  02-00-00  LEXINGTON AVE   NQR456 2015-01-06     1706\n",
        "11  A002  R051  02-00-00  LEXINGTON AVE   NQR456 2015-01-07     1766\n",
        "12  A002  R051  02-00-00  LEXINGTON AVE   NQR456 2015-01-08     1650\n",
        "13  A002  R051  02-00-00  LEXINGTON AVE   NQR456 2015-01-09     1695\n",
        "14  A002  R051  02-00-00  LEXINGTON AVE   NQR456 2015-01-10      578\n",
        "15  A002  R051  02-00-00  LEXINGTON AVE   NQR456 2015-01-11      462\n",
        "16  A002  R051  02-00-00  LEXINGTON AVE   NQR456 2015-01-12     1878\n",
        "17  A002  R051  02-00-00  LEXINGTON AVE   NQR456 2015-01-13     1703\n",
        "18  A002  R051  02-00-00  LEXINGTON AVE   NQR456 2015-01-14     1235\n",
        "19  A002  R051  02-00-00  LEXINGTON AVE   NQR456 2015-01-15     1612\n",
        "20  A002  R051  02-00-00  LEXINGTON AVE   NQR456 2015-01-16     1753\n",
        "21  A002  R051  02-00-00  LEXINGTON AVE   NQR456 2015-01-17     1024\n",
        "22  A002  R051  02-00-00  LEXINGTON AVE   NQR456 2015-01-18      593\n",
        "23  A002  R051  02-00-00  LEXINGTON AVE   NQR456 2015-01-19     1223\n",
        "24  A002  R051  02-00-00  LEXINGTON AVE   NQR456 2015-01-20     1624\n",
        "25  A002  R051  02-00-00  LEXINGTON AVE   NQR456 2015-01-21     1670\n",
        "26  A002  R051  02-00-00  LEXINGTON AVE   NQR456 2015-01-22     1619\n",
        "27  A002  R051  02-00-00  LEXINGTON AVE   NQR456 2015-01-23     1648"
       ]
      }
     ],
     "prompt_number": 15
    },
    {
     "cell_type": "code",
     "collapsed": false,
     "input": [
      "plt.figure(figsize=(10,5))\n",
      "lexington_turnstile_df = lexington_turnstile_df.sort(['TIMESTAMP'])\n",
      "plt.plot(lexington_turnstile_df['TIMESTAMP'], lexington_turnstile_df['ENTRIES'])\n",
      "plt.title('Daily Passenger Volume for a Single Turnstile (02-00-00) at Lexington Ave Station (NQR456)')\n",
      "plt.xticks(rotation=45)\n",
      "plt.xlabel('Date')\n",
      "plt.ylabel('Number of Entries')"
     ],
     "language": "python",
     "metadata": {},
     "outputs": [
      {
       "metadata": {},
       "output_type": "pyout",
       "prompt_number": 16,
       "text": [
        "<matplotlib.text.Text at 0x10ee58810>"
       ]
      },
      {
       "metadata": {},
       "output_type": "display_data",
       "png": "[encoded data removed]",
       "text": [
        "<matplotlib.figure.Figure at 0x10ec7ab90>"
       ]
      }
     ],
     "prompt_number": 16
    },
    {
     "cell_type": "markdown",
     "metadata": {},
     "source": [
      "### How many turnstiles does each station have?"
     ]
    },
    {
     "cell_type": "code",
     "collapsed": false,
     "input": [
      "daily_turnstile_df.pivot_table(values='SCP', index=['STATION','LINENAME'],\n",
      "                         aggfunc=lambda x: len(x.unique())).order(ascending=False)"
     ],
     "language": "python",
     "metadata": {},
     "outputs": [
      {
       "metadata": {},
       "output_type": "pyout",
       "prompt_number": 17,
       "text": [
        "STATION          LINENAME   \n",
        "FULTON ST        2345ACJZ       79\n",
        "34 ST-PENN STA   ACE            52\n",
        "BARCLAYS CENTER  2345BDNQR      48\n",
        "42 ST-TIMES SQ   1237ACENQRS    43\n",
        "59 ST-COLUMBUS   1ABCD          41\n",
        "34 ST-HERALD SQ  BDFMNQR        41\n",
        "14 ST-UNION SQ   456LNQR        38\n",
        "161 ST-YANKEE    4BD            37\n",
        "42 ST-PA BUS TE  1237ACENQRS    37\n",
        "METS-WILLETS PT  7              36\n",
        "47-50 ST-ROCK    BDFM           36\n",
        "42 ST-GRD CNTRL  4567S          32\n",
        "CORTLANDT ST     R              30\n",
        "WALL ST          45             28\n",
        "PATH WTC         1              27\n",
        "...\n",
        "PENNSYLVANIA AV  3           3\n",
        "PELHAM PARKWAY   5           3\n",
        "65 ST            MR          3\n",
        "PARKSIDE AVE     BQ          3\n",
        "OXFORD-104 ST    A           3\n",
        "NOSTRAND AVE     3           3\n",
        "NORWOOD AVE      JZ          3\n",
        "86 ST            N           3\n",
        "ALABAMA AVE      J           3\n",
        "ALLERTON AVE     25          3\n",
        "ATLANTIC AVE     L           3\n",
        "YORK ST          F           3\n",
        "CLEVELAND ST     J           2\n",
        "SUTTER AVE       L           2\n",
        "PATH WTC 2       1           1\n",
        "Name: SCP, Length: 463, dtype: int64"
       ]
      }
     ],
     "prompt_number": 17
    },
    {
     "cell_type": "markdown",
     "metadata": {},
     "source": [
      "### Combine turnstiles by Station "
     ]
    },
    {
     "cell_type": "code",
     "collapsed": false,
     "input": [
      "station_df = daily_turnstile_df.groupby(['C/A', 'UNIT', 'STATION', 'LINENAME', 'TIMESTAMP'])\n",
      "station_df = station_df.agg({'ENTRIES' : np.sum}).reset_index()\n",
      "station_df.head()"
     ],
     "language": "python",
     "metadata": {},
     "outputs": [
      {
       "html": [
        "<div style=\"max-height:1000px;max-width:1500px;overflow:auto;\">\n",
        "<table border=\"1\" class=\"dataframe\">\n",
        "  <thead>\n",
        "    <tr style=\"text-align: right;\">\n",
        "      <th></th>\n",
        "      <th>C/A</th>\n",
        "      <th>UNIT</th>\n",
        "      <th>STATION</th>\n",
        "      <th>LINENAME</th>\n",
        "      <th>TIMESTAMP</th>\n",
        "      <th>ENTRIES</th>\n",
        "    </tr>\n",
        "  </thead>\n",
        "  <tbody>\n",
        "    <tr>\n",
        "      <th>0</th>\n",
        "      <td> A002</td>\n",
        "      <td> R051</td>\n",
        "      <td> LEXINGTON AVE</td>\n",
        "      <td> NQR456</td>\n",
        "      <td>2014-12-27</td>\n",
        "      <td>  9138</td>\n",
        "    </tr>\n",
        "    <tr>\n",
        "      <th>1</th>\n",
        "      <td> A002</td>\n",
        "      <td> R051</td>\n",
        "      <td> LEXINGTON AVE</td>\n",
        "      <td> NQR456</td>\n",
        "      <td>2014-12-28</td>\n",
        "      <td>  7270</td>\n",
        "    </tr>\n",
        "    <tr>\n",
        "      <th>2</th>\n",
        "      <td> A002</td>\n",
        "      <td> R051</td>\n",
        "      <td> LEXINGTON AVE</td>\n",
        "      <td> NQR456</td>\n",
        "      <td>2014-12-29</td>\n",
        "      <td> 15751</td>\n",
        "    </tr>\n",
        "    <tr>\n",
        "      <th>3</th>\n",
        "      <td> A002</td>\n",
        "      <td> R051</td>\n",
        "      <td> LEXINGTON AVE</td>\n",
        "      <td> NQR456</td>\n",
        "      <td>2014-12-30</td>\n",
        "      <td> 16179</td>\n",
        "    </tr>\n",
        "    <tr>\n",
        "      <th>4</th>\n",
        "      <td> A002</td>\n",
        "      <td> R051</td>\n",
        "      <td> LEXINGTON AVE</td>\n",
        "      <td> NQR456</td>\n",
        "      <td>2014-12-31</td>\n",
        "      <td> 13797</td>\n",
        "    </tr>\n",
        "  </tbody>\n",
        "</table>\n",
        "</div>"
       ],
       "metadata": {},
       "output_type": "pyout",
       "prompt_number": 18,
       "text": [
        "    C/A  UNIT        STATION LINENAME  TIMESTAMP  ENTRIES\n",
        "0  A002  R051  LEXINGTON AVE   NQR456 2014-12-27     9138\n",
        "1  A002  R051  LEXINGTON AVE   NQR456 2014-12-28     7270\n",
        "2  A002  R051  LEXINGTON AVE   NQR456 2014-12-29    15751\n",
        "3  A002  R051  LEXINGTON AVE   NQR456 2014-12-30    16179\n",
        "4  A002  R051  LEXINGTON AVE   NQR456 2014-12-31    13797"
       ]
      }
     ],
     "prompt_number": 18
    },
    {
     "cell_type": "code",
     "collapsed": false,
     "input": [
      "# remove outliers - keep entries that are within +/-3 standard deviations \n",
      "station_df = station_df[np.abs(station_df['ENTRIES'] - station_df['ENTRIES'].mean()) <= (3*station_df['ENTRIES'].std())] "
     ],
     "language": "python",
     "metadata": {},
     "outputs": [],
     "prompt_number": 30
    },
    {
     "cell_type": "code",
     "collapsed": false,
     "input": [
      "len(station_df)"
     ],
     "language": "python",
     "metadata": {},
     "outputs": [
      {
       "metadata": {},
       "output_type": "pyout",
       "prompt_number": 31,
       "text": [
        "20335"
       ]
      }
     ],
     "prompt_number": 31
    },
    {
     "cell_type": "markdown",
     "metadata": {},
     "source": [
      "### Plot daily time series data for Lexington Ave Station (NQR456)"
     ]
    },
    {
     "cell_type": "code",
     "collapsed": false,
     "input": [
      "lexington_station_df = station_df[(station_df['STATION']=='LEXINGTON AVE') & \n",
      "                                  (station_df['LINENAME']=='NQR456')]"
     ],
     "language": "python",
     "metadata": {},
     "outputs": [
      {
       "html": [
        "<div style=\"max-height:1000px;max-width:1500px;overflow:auto;\">\n",
        "<table border=\"1\" class=\"dataframe\">\n",
        "  <thead>\n",
        "    <tr style=\"text-align: right;\">\n",
        "      <th></th>\n",
        "      <th>C/A</th>\n",
        "      <th>UNIT</th>\n",
        "      <th>STATION</th>\n",
        "      <th>LINENAME</th>\n",
        "      <th>TIMESTAMP</th>\n",
        "      <th>ENTRIES</th>\n",
        "    </tr>\n",
        "  </thead>\n",
        "  <tbody>\n",
        "    <tr>\n",
        "      <th>0</th>\n",
        "      <td> A002</td>\n",
        "      <td> R051</td>\n",
        "      <td> LEXINGTON AVE</td>\n",
        "      <td> NQR456</td>\n",
        "      <td>2014-12-27</td>\n",
        "      <td>  9138</td>\n",
        "    </tr>\n",
        "    <tr>\n",
        "      <th>1</th>\n",
        "      <td> A002</td>\n",
        "      <td> R051</td>\n",
        "      <td> LEXINGTON AVE</td>\n",
        "      <td> NQR456</td>\n",
        "      <td>2014-12-28</td>\n",
        "      <td>  7270</td>\n",
        "    </tr>\n",
        "    <tr>\n",
        "      <th>2</th>\n",
        "      <td> A002</td>\n",
        "      <td> R051</td>\n",
        "      <td> LEXINGTON AVE</td>\n",
        "      <td> NQR456</td>\n",
        "      <td>2014-12-29</td>\n",
        "      <td> 15751</td>\n",
        "    </tr>\n",
        "    <tr>\n",
        "      <th>3</th>\n",
        "      <td> A002</td>\n",
        "      <td> R051</td>\n",
        "      <td> LEXINGTON AVE</td>\n",
        "      <td> NQR456</td>\n",
        "      <td>2014-12-30</td>\n",
        "      <td> 16179</td>\n",
        "    </tr>\n",
        "    <tr>\n",
        "      <th>4</th>\n",
        "      <td> A002</td>\n",
        "      <td> R051</td>\n",
        "      <td> LEXINGTON AVE</td>\n",
        "      <td> NQR456</td>\n",
        "      <td>2014-12-31</td>\n",
        "      <td> 13797</td>\n",
        "    </tr>\n",
        "  </tbody>\n",
        "</table>\n",
        "</div>"
       ],
       "metadata": {},
       "output_type": "pyout",
       "prompt_number": 19,
       "text": [
        "    C/A  UNIT        STATION LINENAME  TIMESTAMP  ENTRIES\n",
        "0  A002  R051  LEXINGTON AVE   NQR456 2014-12-27     9138\n",
        "1  A002  R051  LEXINGTON AVE   NQR456 2014-12-28     7270\n",
        "2  A002  R051  LEXINGTON AVE   NQR456 2014-12-29    15751\n",
        "3  A002  R051  LEXINGTON AVE   NQR456 2014-12-30    16179\n",
        "4  A002  R051  LEXINGTON AVE   NQR456 2014-12-31    13797"
       ]
      }
     ],
     "prompt_number": 19
    },
    {
     "cell_type": "code",
     "collapsed": false,
     "input": [
      "plt.figure(figsize=(10,5))\n",
      "lexington_station_df = lexington_station_df.sort(['TIMESTAMP'])\n",
      "plt.plot(lexington_station_df['TIMESTAMP'], lexington_station_df['ENTRIES'])\n",
      "plt.title('Daily Passenger Volume at the Lexington Ave Station (NQR456)')\n",
      "plt.xticks(rotation=45)\n",
      "plt.xlabel('Date')\n",
      "plt.ylabel('Number of Entries')"
     ],
     "language": "python",
     "metadata": {},
     "outputs": [
      {
       "metadata": {},
       "output_type": "pyout",
       "prompt_number": 20,
       "text": [
        "<matplotlib.text.Text at 0x110c614d0>"
       ]
      },
      {
       "metadata": {},
       "output_type": "display_data",
       "png": "[encoded data removed]",
       "text": [
        "<matplotlib.figure.Figure at 0x10fdd6f10>"
       ]
      }
     ],
     "prompt_number": 20
    },
    {
     "cell_type": "markdown",
     "metadata": {},
     "source": [
      "### Plot weekly time series data for Lexington Ave Station (NQR456)"
     ]
    },
    {
     "cell_type": "code",
     "collapsed": false,
     "input": [
      "weekly_station_df = station_df\n",
      "\n",
      "import time\n",
      "from datetime import date\n",
      "\n",
      "# Return the day of the week as an integer, where Monday is 1 and Sunday is 7\n",
      "weekly_station_df['DAY'] = station_df['TIMESTAMP'].map(lambda x: date.isoweekday(x))\n",
      "# Return week number\n",
      "weekly_station_df['WEEK'] = station_df['TIMESTAMP'].map(lambda x: date.isocalendar(x)[1])"
     ],
     "language": "python",
     "metadata": {},
     "outputs": [],
     "prompt_number": 21
    },
    {
     "cell_type": "code",
     "collapsed": false,
     "input": [
      "weekly_lexington_station_df = weekly_station_df[(weekly_station_df['STATION']=='LEXINGTON AVE') & \n",
      "                                                (weekly_station_df['LINENAME']=='NQR456')]"
     ],
     "language": "python",
     "metadata": {},
     "outputs": [
      {
       "html": [
        "<div style=\"max-height:1000px;max-width:1500px;overflow:auto;\">\n",
        "<table border=\"1\" class=\"dataframe\">\n",
        "  <thead>\n",
        "    <tr style=\"text-align: right;\">\n",
        "      <th></th>\n",
        "      <th>C/A</th>\n",
        "      <th>UNIT</th>\n",
        "      <th>STATION</th>\n",
        "      <th>LINENAME</th>\n",
        "      <th>TIMESTAMP</th>\n",
        "      <th>ENTRIES</th>\n",
        "      <th>DAY</th>\n",
        "      <th>WEEK</th>\n",
        "    </tr>\n",
        "  </thead>\n",
        "  <tbody>\n",
        "    <tr>\n",
        "      <th>0</th>\n",
        "      <td> A002</td>\n",
        "      <td> R051</td>\n",
        "      <td> LEXINGTON AVE</td>\n",
        "      <td> NQR456</td>\n",
        "      <td>2014-12-27</td>\n",
        "      <td>  9138</td>\n",
        "      <td> 6</td>\n",
        "      <td> 52</td>\n",
        "    </tr>\n",
        "    <tr>\n",
        "      <th>1</th>\n",
        "      <td> A002</td>\n",
        "      <td> R051</td>\n",
        "      <td> LEXINGTON AVE</td>\n",
        "      <td> NQR456</td>\n",
        "      <td>2014-12-28</td>\n",
        "      <td>  7270</td>\n",
        "      <td> 7</td>\n",
        "      <td> 52</td>\n",
        "    </tr>\n",
        "    <tr>\n",
        "      <th>2</th>\n",
        "      <td> A002</td>\n",
        "      <td> R051</td>\n",
        "      <td> LEXINGTON AVE</td>\n",
        "      <td> NQR456</td>\n",
        "      <td>2014-12-29</td>\n",
        "      <td> 15751</td>\n",
        "      <td> 1</td>\n",
        "      <td>  1</td>\n",
        "    </tr>\n",
        "    <tr>\n",
        "      <th>3</th>\n",
        "      <td> A002</td>\n",
        "      <td> R051</td>\n",
        "      <td> LEXINGTON AVE</td>\n",
        "      <td> NQR456</td>\n",
        "      <td>2014-12-30</td>\n",
        "      <td> 16179</td>\n",
        "      <td> 2</td>\n",
        "      <td>  1</td>\n",
        "    </tr>\n",
        "    <tr>\n",
        "      <th>4</th>\n",
        "      <td> A002</td>\n",
        "      <td> R051</td>\n",
        "      <td> LEXINGTON AVE</td>\n",
        "      <td> NQR456</td>\n",
        "      <td>2014-12-31</td>\n",
        "      <td> 13797</td>\n",
        "      <td> 3</td>\n",
        "      <td>  1</td>\n",
        "    </tr>\n",
        "  </tbody>\n",
        "</table>\n",
        "</div>"
       ],
       "metadata": {},
       "output_type": "pyout",
       "prompt_number": 22,
       "text": [
        "    C/A  UNIT        STATION LINENAME  TIMESTAMP  ENTRIES  DAY  WEEK\n",
        "0  A002  R051  LEXINGTON AVE   NQR456 2014-12-27     9138    6    52\n",
        "1  A002  R051  LEXINGTON AVE   NQR456 2014-12-28     7270    7    52\n",
        "2  A002  R051  LEXINGTON AVE   NQR456 2014-12-29    15751    1     1\n",
        "3  A002  R051  LEXINGTON AVE   NQR456 2014-12-30    16179    2     1\n",
        "4  A002  R051  LEXINGTON AVE   NQR456 2014-12-31    13797    3     1"
       ]
      }
     ],
     "prompt_number": 22
    },
    {
     "cell_type": "code",
     "collapsed": false,
     "input": [
      "weekly_lexington_plot = sb.FacetGrid(weekly_lexington_station_df, hue='WEEK', size = 5)\n",
      "weekly_lexington_plot.map(plt.plot, 'DAY', 'ENTRIES')\n",
      "weekly_lexington_plot.add_legend(title=\"Week Number:\")\n",
      "plt.title('Weekly Passenger Volume at the Lexington Ave Station (NQR456)')\n",
      "plt.xlabel('Day of the Week (1=Monday, 7=Sunday)')\n",
      "plt.ylabel('Number of Entries')"
     ],
     "language": "python",
     "metadata": {},
     "outputs": [
      {
       "metadata": {},
       "output_type": "pyout",
       "prompt_number": 23,
       "text": [
        "<matplotlib.text.Text at 0x11021db90>"
       ]
      },
      {
       "metadata": {},
       "output_type": "display_data",
       "png": "[encoded data removed]",
       "text": [
        "<matplotlib.figure.Figure at 0x10eca1fd0>"
       ]
      }
     ],
     "prompt_number": 23
    },
    {
     "cell_type": "markdown",
     "metadata": {},
     "source": [
      "### Find the stations with the highest traffic"
     ]
    },
    {
     "cell_type": "code",
     "collapsed": false,
     "input": [
      "# sum total ridership for each station over multiple weeks\n",
      "total_station_count_df = weekly_station_df.groupby(['STATION', 'LINENAME'])\n",
      "total_station_count_df = total_station_count_df.agg({'ENTRIES' : np.sum}).reset_index()"
     ],
     "language": "python",
     "metadata": {},
     "outputs": [],
     "prompt_number": 24
    },
    {
     "cell_type": "code",
     "collapsed": false,
     "input": [
      "# remove outliers - keep entries that are within +/-3 standard deviations \n",
      "total_station_count_df = total_station_count_df[np.abs(total_station_count_df['ENTRIES'] - total_station_count_df['ENTRIES'].mean()) \n",
      "                                                <= (3*total_station_count_df['ENTRIES'].std())] "
     ],
     "language": "python",
     "metadata": {},
     "outputs": [],
     "prompt_number": 32
    },
    {
     "cell_type": "code",
     "collapsed": false,
     "input": [
      "total_station_count_df.sort(['ENTRIES'], ascending=False)"
     ],
     "language": "python",
     "metadata": {},
     "outputs": [
      {
       "html": [
        "<div style=\"max-height:1000px;max-width:1500px;overflow:auto;\">\n",
        "<table border=\"1\" class=\"dataframe\">\n",
        "  <thead>\n",
        "    <tr style=\"text-align: right;\">\n",
        "      <th></th>\n",
        "      <th>STATION</th>\n",
        "      <th>LINENAME</th>\n",
        "      <th>ENTRIES</th>\n",
        "    </tr>\n",
        "  </thead>\n",
        "  <tbody>\n",
        "    <tr>\n",
        "      <th>28 </th>\n",
        "      <td>  14 ST-UNION SQ</td>\n",
        "      <td>     456LNQR</td>\n",
        "      <td> 3306552</td>\n",
        "    </tr>\n",
        "    <tr>\n",
        "      <th>88 </th>\n",
        "      <td> 34 ST-HERALD SQ</td>\n",
        "      <td>     BDFMNQR</td>\n",
        "      <td> 2707581</td>\n",
        "    </tr>\n",
        "    <tr>\n",
        "      <th>98 </th>\n",
        "      <td> 42 ST-PA BUS TE</td>\n",
        "      <td> 1237ACENQRS</td>\n",
        "      <td> 2226372</td>\n",
        "    </tr>\n",
        "    <tr>\n",
        "      <th>99 </th>\n",
        "      <td>  42 ST-TIMES SQ</td>\n",
        "      <td> 1237ACENQRS</td>\n",
        "      <td> 2092400</td>\n",
        "    </tr>\n",
        "    <tr>\n",
        "      <th>389</th>\n",
        "      <td>        PATH WTC</td>\n",
        "      <td>           1</td>\n",
        "      <td> 1846501</td>\n",
        "    </tr>\n",
        "    <tr>\n",
        "      <th>91 </th>\n",
        "      <td>  34 ST-PENN STA</td>\n",
        "      <td>         ACE</td>\n",
        "      <td> 1838967</td>\n",
        "    </tr>\n",
        "    <tr>\n",
        "      <th>286</th>\n",
        "      <td>       FULTON ST</td>\n",
        "      <td>    2345ACJZ</td>\n",
        "      <td> 1734140</td>\n",
        "    </tr>\n",
        "    <tr>\n",
        "      <th>268</th>\n",
        "      <td>  EXCHANGE PLACE</td>\n",
        "      <td>           1</td>\n",
        "      <td> 1704639</td>\n",
        "    </tr>\n",
        "    <tr>\n",
        "      <th>119</th>\n",
        "      <td>  59 ST-COLUMBUS</td>\n",
        "      <td>       1ABCD</td>\n",
        "      <td> 1489431</td>\n",
        "    </tr>\n",
        "    <tr>\n",
        "      <th>103</th>\n",
        "      <td>   47-50 ST-ROCK</td>\n",
        "      <td>        BDFM</td>\n",
        "      <td> 1325719</td>\n",
        "    </tr>\n",
        "    <tr>\n",
        "      <th>348</th>\n",
        "      <td>         MAIN ST</td>\n",
        "      <td>           7</td>\n",
        "      <td> 1214301</td>\n",
        "    </tr>\n",
        "    <tr>\n",
        "      <th>90 </th>\n",
        "      <td>  34 ST-PENN STA</td>\n",
        "      <td>      123ACE</td>\n",
        "      <td> 1153759</td>\n",
        "    </tr>\n",
        "    <tr>\n",
        "      <th>413</th>\n",
        "      <td>   ROOSEVELT AVE</td>\n",
        "      <td>       EFMR7</td>\n",
        "      <td> 1099589</td>\n",
        "    </tr>\n",
        "    <tr>\n",
        "      <th>117</th>\n",
        "      <td>           59 ST</td>\n",
        "      <td>      456NQR</td>\n",
        "      <td> 1080698</td>\n",
        "    </tr>\n",
        "    <tr>\n",
        "      <th>173</th>\n",
        "      <td> BARCLAYS CENTER</td>\n",
        "      <td>   2345BDNQR</td>\n",
        "      <td>  959542</td>\n",
        "    </tr>\n",
        "    <tr>\n",
        "      <th>342</th>\n",
        "      <td> LEXINGTON-53 ST</td>\n",
        "      <td>         EM6</td>\n",
        "      <td>  927089</td>\n",
        "    </tr>\n",
        "    <tr>\n",
        "      <th>218</th>\n",
        "      <td>        CANAL ST</td>\n",
        "      <td>      JNQRZ6</td>\n",
        "      <td>  912449</td>\n",
        "    </tr>\n",
        "    <tr>\n",
        "      <th>317</th>\n",
        "      <td>  JAMAICA CENTER</td>\n",
        "      <td>         EJZ</td>\n",
        "      <td>  869911</td>\n",
        "    </tr>\n",
        "    <tr>\n",
        "      <th>132</th>\n",
        "      <td>           72 ST</td>\n",
        "      <td>         123</td>\n",
        "      <td>  828314</td>\n",
        "    </tr>\n",
        "    <tr>\n",
        "      <th>153</th>\n",
        "      <td>           96 ST</td>\n",
        "      <td>         123</td>\n",
        "      <td>  802320</td>\n",
        "    </tr>\n",
        "    <tr>\n",
        "      <th>425</th>\n",
        "      <td>      ST. GEORGE</td>\n",
        "      <td>           1</td>\n",
        "      <td>  794654</td>\n",
        "    </tr>\n",
        "    <tr>\n",
        "      <th>96 </th>\n",
        "      <td> 42 ST-BRYANT PK</td>\n",
        "      <td>       BDFM7</td>\n",
        "      <td>  778852</td>\n",
        "    </tr>\n",
        "    <tr>\n",
        "      <th>89 </th>\n",
        "      <td>  34 ST-PENN STA</td>\n",
        "      <td>         123</td>\n",
        "      <td>  765070</td>\n",
        "    </tr>\n",
        "    <tr>\n",
        "      <th>198</th>\n",
        "      <td> BOROUGH HALL/CT</td>\n",
        "      <td>       2345R</td>\n",
        "      <td>  761062</td>\n",
        "    </tr>\n",
        "    <tr>\n",
        "      <th>320</th>\n",
        "      <td> JAY ST-METROTEC</td>\n",
        "      <td>         ACF</td>\n",
        "      <td>  741030</td>\n",
        "    </tr>\n",
        "    <tr>\n",
        "      <th>447</th>\n",
        "      <td>  W 4 ST-WASH SQ</td>\n",
        "      <td>     ABCDEFM</td>\n",
        "      <td>  727648</td>\n",
        "    </tr>\n",
        "    <tr>\n",
        "      <th>136</th>\n",
        "      <td>           77 ST</td>\n",
        "      <td>           6</td>\n",
        "      <td>  718292</td>\n",
        "    </tr>\n",
        "    <tr>\n",
        "      <th>417</th>\n",
        "      <td>  SHEEPSHEAD BAY</td>\n",
        "      <td>          BQ</td>\n",
        "      <td>  708048</td>\n",
        "    </tr>\n",
        "    <tr>\n",
        "      <th>225</th>\n",
        "      <td>     CHAMBERS ST</td>\n",
        "      <td>       ACE23</td>\n",
        "      <td>  705533</td>\n",
        "    </tr>\n",
        "    <tr>\n",
        "      <th>451</th>\n",
        "      <td>         WALL ST</td>\n",
        "      <td>          45</td>\n",
        "      <td>  672412</td>\n",
        "    </tr>\n",
        "    <tr>\n",
        "      <th>...</th>\n",
        "      <td>...</td>\n",
        "      <td>...</td>\n",
        "      <td>...</td>\n",
        "    </tr>\n",
        "    <tr>\n",
        "      <th>170</th>\n",
        "      <td>           AVE U</td>\n",
        "      <td>           F</td>\n",
        "      <td>   46152</td>\n",
        "    </tr>\n",
        "    <tr>\n",
        "      <th>357</th>\n",
        "      <td>     MORRIS PARK</td>\n",
        "      <td>           5</td>\n",
        "      <td>   44280</td>\n",
        "    </tr>\n",
        "    <tr>\n",
        "      <th>215</th>\n",
        "      <td>    BUSHWICK AVE</td>\n",
        "      <td>           L</td>\n",
        "      <td>   43730</td>\n",
        "    </tr>\n",
        "    <tr>\n",
        "      <th>67 </th>\n",
        "      <td>          215 ST</td>\n",
        "      <td>           1</td>\n",
        "      <td>   43624</td>\n",
        "    </tr>\n",
        "    <tr>\n",
        "      <th>114</th>\n",
        "      <td>           55 ST</td>\n",
        "      <td>           D</td>\n",
        "      <td>   42858</td>\n",
        "    </tr>\n",
        "    <tr>\n",
        "      <th>159</th>\n",
        "      <td>  AQUEDUCT TRACK</td>\n",
        "      <td>           A</td>\n",
        "      <td>   41741</td>\n",
        "    </tr>\n",
        "    <tr>\n",
        "      <th>162</th>\n",
        "      <td>    ATLANTIC AVE</td>\n",
        "      <td>           L</td>\n",
        "      <td>   41564</td>\n",
        "    </tr>\n",
        "    <tr>\n",
        "      <th>386</th>\n",
        "      <td>      PARK PLACE</td>\n",
        "      <td>           S</td>\n",
        "      <td>   41015</td>\n",
        "    </tr>\n",
        "    <tr>\n",
        "      <th>448</th>\n",
        "      <td> W 8 ST-AQUARIUM</td>\n",
        "      <td>          FQ</td>\n",
        "      <td>   40703</td>\n",
        "    </tr>\n",
        "    <tr>\n",
        "      <th>181</th>\n",
        "      <td>     BEACH 25 ST</td>\n",
        "      <td>           A</td>\n",
        "      <td>   38083</td>\n",
        "    </tr>\n",
        "    <tr>\n",
        "      <th>455</th>\n",
        "      <td>    WHITLOCK AVE</td>\n",
        "      <td>           6</td>\n",
        "      <td>   35033</td>\n",
        "    </tr>\n",
        "    <tr>\n",
        "      <th>366</th>\n",
        "      <td>     NEPTUNE AVE</td>\n",
        "      <td>           F</td>\n",
        "      <td>   34236</td>\n",
        "    </tr>\n",
        "    <tr>\n",
        "      <th>199</th>\n",
        "      <td>  BOTANIC GARDEN</td>\n",
        "      <td>       S2345</td>\n",
        "      <td>   34167</td>\n",
        "    </tr>\n",
        "    <tr>\n",
        "      <th>246</th>\n",
        "      <td>   CYPRESS HILLS</td>\n",
        "      <td>           J</td>\n",
        "      <td>   31737</td>\n",
        "    </tr>\n",
        "    <tr>\n",
        "      <th>69 </th>\n",
        "      <td>  22 AVE-BAY PKY</td>\n",
        "      <td>           F</td>\n",
        "      <td>   30769</td>\n",
        "    </tr>\n",
        "    <tr>\n",
        "      <th>441</th>\n",
        "      <td> VAN ALSTON-21ST</td>\n",
        "      <td>           G</td>\n",
        "      <td>   30350</td>\n",
        "    </tr>\n",
        "    <tr>\n",
        "      <th>160</th>\n",
        "      <td> AQUEDUCT-N CNDT</td>\n",
        "      <td>           A</td>\n",
        "      <td>   22248</td>\n",
        "    </tr>\n",
        "    <tr>\n",
        "      <th>182</th>\n",
        "      <td>     BEACH 36 ST</td>\n",
        "      <td>           A</td>\n",
        "      <td>   20319</td>\n",
        "    </tr>\n",
        "    <tr>\n",
        "      <th>255</th>\n",
        "      <td>        E 143 ST</td>\n",
        "      <td>           6</td>\n",
        "      <td>   18433</td>\n",
        "    </tr>\n",
        "    <tr>\n",
        "      <th>186</th>\n",
        "      <td>     BEACH 90 ST</td>\n",
        "      <td>          AS</td>\n",
        "      <td>   17382</td>\n",
        "    </tr>\n",
        "    <tr>\n",
        "      <th>435</th>\n",
        "      <td>   TOMPKINSVILLE</td>\n",
        "      <td>           1</td>\n",
        "      <td>   14086</td>\n",
        "    </tr>\n",
        "    <tr>\n",
        "      <th>411</th>\n",
        "      <td> ROCKAWAY PK 116</td>\n",
        "      <td>          AS</td>\n",
        "      <td>   14083</td>\n",
        "    </tr>\n",
        "    <tr>\n",
        "      <th>183</th>\n",
        "      <td>     BEACH 44 ST</td>\n",
        "      <td>           A</td>\n",
        "      <td>   13554</td>\n",
        "    </tr>\n",
        "    <tr>\n",
        "      <th>187</th>\n",
        "      <td>     BEACH 98 ST</td>\n",
        "      <td>          AS</td>\n",
        "      <td>   11046</td>\n",
        "    </tr>\n",
        "    <tr>\n",
        "      <th>202</th>\n",
        "      <td>      BOYD-88 ST</td>\n",
        "      <td>           A</td>\n",
        "      <td>    9848</td>\n",
        "    </tr>\n",
        "    <tr>\n",
        "      <th>374</th>\n",
        "      <td>    NEWARK HM HE</td>\n",
        "      <td>           1</td>\n",
        "      <td>    9806</td>\n",
        "    </tr>\n",
        "    <tr>\n",
        "      <th>390</th>\n",
        "      <td>      PATH WTC 2</td>\n",
        "      <td>           1</td>\n",
        "      <td>    9060</td>\n",
        "    </tr>\n",
        "    <tr>\n",
        "      <th>204</th>\n",
        "      <td>   BROAD CHANNEL</td>\n",
        "      <td>          AS</td>\n",
        "      <td>    5843</td>\n",
        "    </tr>\n",
        "    <tr>\n",
        "      <th>180</th>\n",
        "      <td>    BEACH 105 ST</td>\n",
        "      <td>          AS</td>\n",
        "      <td>    5464</td>\n",
        "    </tr>\n",
        "    <tr>\n",
        "      <th>384</th>\n",
        "      <td>   OXFORD-104 ST</td>\n",
        "      <td>           A</td>\n",
        "      <td>    3430</td>\n",
        "    </tr>\n",
        "  </tbody>\n",
        "</table>\n",
        "<p>460 rows \u00d7 3 columns</p>\n",
        "</div>"
       ],
       "metadata": {},
       "output_type": "pyout",
       "prompt_number": 33,
       "text": [
        "             STATION     LINENAME  ENTRIES\n",
        "28    14 ST-UNION SQ      456LNQR  3306552\n",
        "88   34 ST-HERALD SQ      BDFMNQR  2707581\n",
        "98   42 ST-PA BUS TE  1237ACENQRS  2226372\n",
        "99    42 ST-TIMES SQ  1237ACENQRS  2092400\n",
        "389         PATH WTC            1  1846501\n",
        "91    34 ST-PENN STA          ACE  1838967\n",
        "286        FULTON ST     2345ACJZ  1734140\n",
        "268   EXCHANGE PLACE            1  1704639\n",
        "119   59 ST-COLUMBUS        1ABCD  1489431\n",
        "103    47-50 ST-ROCK         BDFM  1325719\n",
        "348          MAIN ST            7  1214301\n",
        "90    34 ST-PENN STA       123ACE  1153759\n",
        "413    ROOSEVELT AVE        EFMR7  1099589\n",
        "117            59 ST       456NQR  1080698\n",
        "173  BARCLAYS CENTER    2345BDNQR   959542\n",
        "342  LEXINGTON-53 ST          EM6   927089\n",
        "218         CANAL ST       JNQRZ6   912449\n",
        "317   JAMAICA CENTER          EJZ   869911\n",
        "132            72 ST          123   828314\n",
        "153            96 ST          123   802320\n",
        "425       ST. GEORGE            1   794654\n",
        "96   42 ST-BRYANT PK        BDFM7   778852\n",
        "89    34 ST-PENN STA          123   765070\n",
        "198  BOROUGH HALL/CT        2345R   761062\n",
        "320  JAY ST-METROTEC          ACF   741030\n",
        "447   W 4 ST-WASH SQ      ABCDEFM   727648\n",
        "136            77 ST            6   718292\n",
        "417   SHEEPSHEAD BAY           BQ   708048\n",
        "225      CHAMBERS ST        ACE23   705533\n",
        "451          WALL ST           45   672412\n",
        "..               ...          ...      ...\n",
        "170            AVE U            F    46152\n",
        "357      MORRIS PARK            5    44280\n",
        "215     BUSHWICK AVE            L    43730\n",
        "67            215 ST            1    43624\n",
        "114            55 ST            D    42858\n",
        "159   AQUEDUCT TRACK            A    41741\n",
        "162     ATLANTIC AVE            L    41564\n",
        "386       PARK PLACE            S    41015\n",
        "448  W 8 ST-AQUARIUM           FQ    40703\n",
        "181      BEACH 25 ST            A    38083\n",
        "455     WHITLOCK AVE            6    35033\n",
        "366      NEPTUNE AVE            F    34236\n",
        "199   BOTANIC GARDEN        S2345    34167\n",
        "246    CYPRESS HILLS            J    31737\n",
        "69    22 AVE-BAY PKY            F    30769\n",
        "441  VAN ALSTON-21ST            G    30350\n",
        "160  AQUEDUCT-N CNDT            A    22248\n",
        "182      BEACH 36 ST            A    20319\n",
        "255         E 143 ST            6    18433\n",
        "186      BEACH 90 ST           AS    17382\n",
        "435    TOMPKINSVILLE            1    14086\n",
        "411  ROCKAWAY PK 116           AS    14083\n",
        "183      BEACH 44 ST            A    13554\n",
        "187      BEACH 98 ST           AS    11046\n",
        "202       BOYD-88 ST            A     9848\n",
        "374     NEWARK HM HE            1     9806\n",
        "390       PATH WTC 2            1     9060\n",
        "204    BROAD CHANNEL           AS     5843\n",
        "180     BEACH 105 ST           AS     5464\n",
        "384    OXFORD-104 ST            A     3430\n",
        "\n",
        "[460 rows x 3 columns]"
       ]
      }
     ],
     "prompt_number": 33
    },
    {
     "cell_type": "markdown",
     "metadata": {},
     "source": [
      "### Plot the distribution of ridership "
     ]
    },
    {
     "cell_type": "code",
     "collapsed": false,
     "input": [
      "plt.bar(range(len(total_station_count_df)), \n",
      "        sorted(total_station_count_df['ENTRIES'], reverse=True))\n",
      "\n",
      "plt.title('Distribution of Ridership Among Stations')\n",
      "plt.xlabel('Number of Stations')\n",
      "plt.ylabel('Number of Entries')"
     ],
     "language": "python",
     "metadata": {},
     "outputs": [
      {
       "metadata": {},
       "output_type": "pyout",
       "prompt_number": 37,
       "text": [
        "<matplotlib.text.Text at 0x114013750>"
       ]
      },
      {
       "metadata": {},
       "output_type": "display_data",
       "png": "[encoded data removed]",
       "text": [
        "<matplotlib.figure.Figure at 0x1139ee850>"
       ]
      }
     ],
     "prompt_number": 37
    }
   ],
   "metadata": {}
  }
 ]
}